{
 "cells": [
  {
   "cell_type": "markdown",
   "metadata": {},
   "source": [
    "# DE-test-explorer\n",
    "1.19.22\n",
    "\n",
    "Want to explore the Precision-Recall curves generated from this test, specifically the weird elbow that we're seeing for most of the models in the MNAR condition. Is this (the elbow) possibly an artifact of p-value adjustment? How reproducible is the elbowness?"
   ]
  },
  {
   "cell_type": "code",
   "execution_count": 1,
   "metadata": {},
   "outputs": [],
   "source": [
    "import pandas as pd\n",
    "import numpy as np\n",
    "import sys\n",
    "from scipy import stats\n",
    "import os\n",
    "import torch\n",
    "import seaborn as sns\n",
    "import matplotlib.pyplot as plt\n",
    "from sklearn.metrics import auc\n",
    "from sklearn.metrics import precision_recall_curve\n",
    "\n",
    "# suppressing this CUDA initialization warning I always get\n",
    "    # this could be dangerous\n",
    "import warnings\n",
    "warnings.filterwarnings(\"ignore\", category=UserWarning)\n",
    "\n",
    "# import my modules\n",
    "sys.path.append('../../../../bin/')\n",
    "from models.linear import GradNMFImputer\n",
    "import util_functions\n",
    "import intermediate_plots\n",
    "\n",
    "# plotting templates\n",
    "sns.set(context=\"talk\", style=\"ticks\") \n",
    "pal = sns.color_palette()"
   ]
  },
  {
   "cell_type": "markdown",
   "metadata": {},
   "source": [
    "#### Some configs"
   ]
  },
  {
   "cell_type": "code",
   "execution_count": 2,
   "metadata": {},
   "outputs": [],
   "source": [
    "# partitioning params\n",
    "val_frac = 0.3\n",
    "test_frac = 0.0\n",
    "# setting this to 0 ensures that no peptides will be filtered out\n",
    "min_present = 0     # during partitioning\n",
    "q_anchor=0.35  # these three for MNAR partition \n",
    "t_std=0.45\n",
    "brnl_prob=0.7\n",
    "\n",
    "# NMF model params\n",
    "n_factors = 4\n",
    "tolerance = 0.0001            # 0.0001 is default\n",
    "max_epochs = 1000             # 1000 is default\n",
    "learning_rate = 0.01          # 0.01 is default\n",
    "batch_size = 64               # 64 is default\n",
    "loss_func = \"MSE\"\n",
    "\n",
    "# for determining the ground truth DE peptides\n",
    "alpha_gt = 0.1\n",
    "correction = \"BH\"\n",
    "\n",
    "# the random number generator\n",
    "rng = np.random.default_rng(seed=18)\n",
    "\n",
    "# the random state for the partition\n",
    "split_rand_state = 18"
   ]
  },
  {
   "cell_type": "markdown",
   "metadata": {},
   "source": [
    "#### Read in quants matrix, pre-process"
   ]
  },
  {
   "cell_type": "code",
   "execution_count": 3,
   "metadata": {},
   "outputs": [
    {
     "name": "stdout",
     "output_type": "stream",
     "text": [
      "condition 1 quants:  (32614, 9)\n",
      "condition 2 quants:  (32614, 9)\n"
     ]
    }
   ],
   "source": [
    "# read in \n",
    "cond1_df = pd.read_csv(\n",
    "            \"../../2022-10-31_SMTG_data/data/SMTG-ADD-quants.csv\")\n",
    "cond2_df = pd.read_csv(\n",
    "            \"../../2022-10-31_SMTG_data/data/SMTG-HCF-low-quants.csv\")\n",
    "\n",
    "# downsample. Really should do this probabilisticly \n",
    "# cond1_df = cond1_df[:10000]\n",
    "# cond2_df = cond2_df[:10000]\n",
    "\n",
    "# get the list of peptide IDs, or rather transition group IDs\n",
    "    # these will be the same for the two datasets\n",
    "peptide_ids = np.array(cond1_df[\"pids\"])\n",
    "\n",
    "# now remove the peptide ID columns\n",
    "to_remove = [\"pids\"]\n",
    "cond1_df = cond1_df.drop(to_remove, axis=1)\n",
    "cond2_df = cond2_df.drop(to_remove, axis=1)\n",
    "\n",
    "# convert to numpy arrays\n",
    "cond1_quants = np.array(cond1_df)\n",
    "cond2_quants = np.array(cond2_df)\n",
    "\n",
    "print(\"condition 1 quants: \", cond1_quants.shape)\n",
    "print(\"condition 2 quants: \", cond2_quants.shape)"
   ]
  },
  {
   "cell_type": "markdown",
   "metadata": {},
   "source": [
    "#### Partition \n",
    "MCAR or MNAR. "
   ]
  },
  {
   "cell_type": "code",
   "execution_count": 4,
   "metadata": {},
   "outputs": [],
   "source": [
    "# create the combined matrix, to use for imputation \n",
    "comb_quants = np.concatenate([cond1_quants, cond2_quants], axis=1)\n",
    "\n",
    "# this is for eventually separating the reconstructed matrices \n",
    "    # into normal and tumor matrices\n",
    "cols_cutoff = cond1_quants.shape[1]\n",
    "\n",
    "# MCAR partition \n",
    "# train, val, test = util_functions.split(\n",
    "#                                     comb_quants, \n",
    "#                                     val_frac=val_frac,\n",
    "#                                     test_frac=test_frac, \n",
    "#                                     min_present=min_present,\n",
    "#                                     random_state=split_rand_state,\n",
    "# )\n",
    "# MNAR partition \n",
    "train, val = util_functions.MNAR_partition_thresholds_matrix(\n",
    "                                    comb_quants, \n",
    "                                    q_anchor=q_anchor, \n",
    "                                    t_std=t_std, \n",
    "                                    brnl_prob=brnl_prob, \n",
    "                                    min_pres=min_present,\n",
    "                                    rand_state=split_rand_state,\n",
    ")"
   ]
  },
  {
   "cell_type": "markdown",
   "metadata": {},
   "source": [
    "#### Get the optimal number of batches for training and eval"
   ]
  },
  {
   "cell_type": "code",
   "execution_count": 5,
   "metadata": {},
   "outputs": [
    {
     "name": "stdout",
     "output_type": "stream",
     "text": [
      "509\n"
     ]
    }
   ],
   "source": [
    "# get the optimal number of batches for training\n",
    "if len(~np.isnan(train)) > 100:\n",
    "    n_batches = int(np.floor(len(~np.isnan(train)) / batch_size))\n",
    "    # setting the minimum n_batches to 100\n",
    "    n_batches = max(n_batches, 100) \n",
    "else: \n",
    "    n_batches = 1\n",
    "    \n",
    "print(n_batches)"
   ]
  },
  {
   "cell_type": "markdown",
   "metadata": {},
   "source": [
    "#### Get the MV fractions from each partition "
   ]
  },
  {
   "cell_type": "code",
   "execution_count": 6,
   "metadata": {},
   "outputs": [
    {
     "name": "stdout",
     "output_type": "stream",
     "text": [
      "original mv frac:  0.0\n",
      "training mv frac:  0.26\n",
      "validation mv frac:  0.74\n"
     ]
    }
   ],
   "source": [
    "# get the missingness fractions\n",
    "orig_mv_frac = np.count_nonzero(np.isnan(comb_quants)) / comb_quants.size\n",
    "train_mv_frac = np.count_nonzero(np.isnan(train)) / train.size\n",
    "val_mv_frac = np.count_nonzero(np.isnan(val)) / val.size\n",
    "\n",
    "print(\"original mv frac: \", np.around(orig_mv_frac, decimals=2))\n",
    "print(\"training mv frac: \", np.around(train_mv_frac, decimals=2))\n",
    "print(\"validation mv frac: \", np.around(val_mv_frac, decimals=2))"
   ]
  },
  {
   "cell_type": "markdown",
   "metadata": {},
   "source": [
    "#### Plot the distribution of the partitions"
   ]
  },
  {
   "cell_type": "code",
   "execution_count": 7,
   "metadata": {},
   "outputs": [
    {
     "data": {
      "text/plain": [
       "Text(0, 0.5, 'Counts')"
      ]
     },
     "execution_count": 7,
     "metadata": {},
     "output_type": "execute_result"
    },
    {
     "data": {
      "image/png": "[encoded data removed]",
      "text/plain": [
       "<Figure size 432x288 with 1 Axes>"
      ]
     },
     "metadata": {},
     "output_type": "display_data"
    }
   ],
   "source": [
    "# flatten\n",
    "quants_rav = comb_quants.ravel()\n",
    "train_rav = train.ravel()\n",
    "val_rav = val.ravel()\n",
    "\n",
    "# get the present values from the original matrix\n",
    "p_quants_nans = np.isnan(quants_rav)\n",
    "p_quants_present = quants_rav[~p_quants_nans]\n",
    "\n",
    "# get present values from the training matrix\n",
    "train_nans = np.isnan(train_rav)\n",
    "train_present = train_rav[~train_nans]\n",
    "\n",
    "# get present values from the validation matrix\n",
    "val_nans = np.isnan(val_rav)\n",
    "val_present = val_rav[~val_nans]\n",
    "\n",
    "quants_max = np.max(p_quants_present)\n",
    "quants_min = np.min(p_quants_present)\n",
    "\n",
    "bins_range = np.arange(0, quants_max, 0.1)\n",
    "\n",
    "plt.figure()\n",
    "plt.hist(p_quants_present, density=False, bins=bins_range, linewidth=0.01,\n",
    "         color='cornflowerblue', edgecolor='cornflowerblue', alpha=1.0, label=\"original\")\n",
    "plt.hist(train_present, density=False, bins=bins_range, linewidth=0.01, \n",
    "         color='firebrick', edgecolor='firebrick', alpha=0.8, label=\"training\")\n",
    "plt.hist(val_present, density=False, bins=bins_range, linewidth=0.01,\n",
    "        color='olivedrab', edgecolor='olivedrab', alpha=0.8, label=\"validation\")\n",
    "\n",
    "plt.minorticks_off()\n",
    "\n",
    "plt.legend()\n",
    "plt.xlabel(\"Intensity\")\n",
    "plt.ylabel(\"Counts\")"
   ]
  },
  {
   "cell_type": "markdown",
   "metadata": {},
   "source": [
    "***"
   ]
  },
  {
   "cell_type": "markdown",
   "metadata": {},
   "source": [
    "#### NMF impute"
   ]
  },
  {
   "cell_type": "code",
   "execution_count": 8,
   "metadata": {},
   "outputs": [
    {
     "name": "stderr",
     "output_type": "stream",
     "text": [
      "  6%|▌         | 57/1000 [01:16<21:08,  1.34s/epoch]"
     ]
    },
    {
     "name": "stdout",
     "output_type": "stream",
     "text": [
      "early stopping triggered: standard criteria\n"
     ]
    },
    {
     "name": "stderr",
     "output_type": "stream",
     "text": [
      "\n"
     ]
    }
   ],
   "source": [
    "# init model \n",
    "nmf_model = GradNMFImputer(\n",
    "                n_rows = train.shape[0], \n",
    "                n_cols = train.shape[1], \n",
    "                n_factors=n_factors, \n",
    "                stopping_tol=tolerance,\n",
    "                train_batch_size=n_batches, \n",
    "                eval_batch_size=n_batches,\n",
    "                n_epochs=max_epochs, \n",
    "                loss_func=loss_func,\n",
    "                optimizer=torch.optim.Adam,\n",
    "                optimizer_kwargs={\"lr\": learning_rate},\n",
    "                non_negative=True,\n",
    "                rand_seed=rng.random(),\n",
    ")\n",
    "# fit and transform\n",
    "nmf_recon = nmf_model.fit_transform(train, val)\n",
    "nmf_full_recon = nmf_model.train_set_transform(train)"
   ]
  },
  {
   "cell_type": "markdown",
   "metadata": {},
   "source": [
    "#### Get sanity check plots"
   ]
  },
  {
   "cell_type": "code",
   "execution_count": null,
   "metadata": {
    "scrolled": true
   },
   "outputs": [
    {
     "data": {
      "image/png": "[encoded data removed]",
      "text/plain": [
       "<Figure size 432x288 with 1 Axes>"
      ]
     },
     "metadata": {},
     "output_type": "display_data"
    },
    {
     "data": {
      "image/png": "[encoded data removed]",
      "text/plain": [
       "<Figure size 360x360 with 1 Axes>"
      ]
     },
     "metadata": {},
     "output_type": "display_data"
    }
   ],
   "source": [
    "intermediate_plots.plot_train_loss(\n",
    "            model=nmf_model, \n",
    "            PXD=\"SMTG\", \n",
    "            n_row_factors=nmf_model.n_row_factors,\n",
    "            n_col_factors=nmf_model._n_col_factors, \n",
    "            model_type=\"NMF\", \n",
    "            eval_loss=\"MSE\",\n",
    "            tail=None,\n",
    ")                   \n",
    "intermediate_plots.real_v_imputed_basic(\n",
    "            recon_mat=nmf_recon, \n",
    "            val_mat=val, \n",
    "            PXD=\"SMTG\",\n",
    "            row_factors=nmf_model.n_row_factors,\n",
    "            col_factors=nmf_model._n_col_factors,\n",
    "            model_type=\"NMF\",\n",
    "            log_transform=False,\n",
    "            tail=\"valid\",\n",
    ")\n",
    "intermediate_plots.real_v_imputed_basic(\n",
    "            recon_mat=nmf_full_recon,\n",
    "            val_mat=train,\n",
    "            PXD=\"SMTG\",\n",
    "            row_factors=nmf_model.n_row_factors,\n",
    "            col_factors=nmf_model._n_col_factors,\n",
    "            model_type=\"NMF\", \n",
    "            log_transform=False,\n",
    "            tail=\"train\",\n",
    ")"
   ]
  },
  {
   "cell_type": "markdown",
   "metadata": {},
   "source": [
    "***"
   ]
  },
  {
   "cell_type": "markdown",
   "metadata": {},
   "source": [
    "#### Get the ground truth p-values (w/o correction)"
   ]
  },
  {
   "cell_type": "code",
   "execution_count": null,
   "metadata": {},
   "outputs": [],
   "source": [
    "pvals_gt = []\n",
    "for i in range(0, cond1_quants.shape[0]):\n",
    "    res = stats.ttest_ind(\n",
    "        cond1_quants[i], cond2_quants[i], nan_policy=\"omit\"\n",
    "    )\n",
    "    t_stat = res[0]\n",
    "    p_val = res[1]\n",
    "    pvals_gt.append(p_val)\n",
    "    \n",
    "reject_null_gt = np.array(pvals_gt) < alpha_gt\n",
    "DE_peptides_gt = list(peptide_ids[reject_null_gt])"
   ]
  },
  {
   "cell_type": "markdown",
   "metadata": {},
   "source": [
    "#### Get the ground truth p-values, w/correction"
   ]
  },
  {
   "cell_type": "code",
   "execution_count": null,
   "metadata": {},
   "outputs": [],
   "source": [
    "# # get ground truth DE peptides\n",
    "# reject_null_gt, pvals_correct_gt = \\\n",
    "#             util_functions.find_DE_peptides(\n",
    "#                                 cond1_quants, \n",
    "#                                 cond2_quants, \n",
    "#                                 correction, \n",
    "#                                 alpha_gt\n",
    "#             )\n",
    "# DE_peptides_gt = list(peptide_ids[reject_null_gt])"
   ]
  },
  {
   "cell_type": "markdown",
   "metadata": {},
   "source": [
    "#### Split the recon matrix into the two experimental conditions"
   ]
  },
  {
   "cell_type": "code",
   "execution_count": null,
   "metadata": {},
   "outputs": [],
   "source": [
    "cond1_recon_nmf = nmf_recon[:,0:cols_cutoff]\n",
    "cond2_recon_nmf = nmf_recon[:,cols_cutoff:]"
   ]
  },
  {
   "cell_type": "markdown",
   "metadata": {},
   "source": [
    "#### Get raw (uncorrected) p-values, for the recon"
   ]
  },
  {
   "cell_type": "code",
   "execution_count": null,
   "metadata": {},
   "outputs": [],
   "source": [
    "pvals_nmf = []\n",
    "for i in range(0, cond1_recon_nmf.shape[0]):\n",
    "    res = stats.ttest_ind(\n",
    "        cond1_recon_nmf[i], cond2_recon_nmf[i], nan_policy=\"omit\"\n",
    "    )\n",
    "    t_stat = res[0]\n",
    "    p_val = res[1]\n",
    "    pvals_nmf.append(p_val)\n",
    "    \n",
    "# the ground truth labels. True means DE peptide, False means not\n",
    "gt_labels = reject_null_gt.astype(float)\n",
    "\n",
    "# get the DE probabilities\n",
    "prob_true_nmf = 1 - np.array(pvals_nmf)"
   ]
  },
  {
   "cell_type": "markdown",
   "metadata": {},
   "source": [
    "#### Get the corrected p-values for the recon"
   ]
  },
  {
   "cell_type": "code",
   "execution_count": null,
   "metadata": {},
   "outputs": [],
   "source": [
    "# r, cp_vals_nmf = util_functions.find_DE_peptides(\n",
    "#                     cond1_recon_nmf, cond2_recon_nmf, \n",
    "#                     correction, alpha_=alpha_gt)\n",
    "\n",
    "# # the ground truth labels. True means DE peptide, False means not\n",
    "# gt_labels = reject_null_gt.astype(float)\n",
    "\n",
    "# # get the DE probabilities\n",
    "# prob_true_nmf = 1 - cp_vals_nmf"
   ]
  },
  {
   "cell_type": "markdown",
   "metadata": {},
   "source": [
    "#### Get the Precision-Recall stats\n",
    "Including the AUC"
   ]
  },
  {
   "cell_type": "code",
   "execution_count": null,
   "metadata": {},
   "outputs": [],
   "source": [
    "# call the sklearn PR plotting function \n",
    "pr_nmf, recall_nmf, t = precision_recall_curve(\n",
    "                        y_true=gt_labels, probas_pred=prob_true_nmf)\n",
    "\n",
    "# get the AUCs\n",
    "nmf_auc = np.around(auc(recall_nmf, pr_nmf), 2)"
   ]
  },
  {
   "cell_type": "markdown",
   "metadata": {},
   "source": [
    "#### Generate the PR plot"
   ]
  },
  {
   "cell_type": "code",
   "execution_count": null,
   "metadata": {},
   "outputs": [],
   "source": [
    "plt.figure()\n",
    "\n",
    "plt.plot(\n",
    "    recall_nmf, pr_nmf, label=\"NMF (\" + str(nmf_auc) + \")\")\n",
    "\n",
    "plt.legend(bbox_to_anchor=(1.0, 1.0))\n",
    "plt.xlabel(\"recall\")\n",
    "plt.ylabel(\"precision\")"
   ]
  },
  {
   "cell_type": "markdown",
   "metadata": {},
   "source": [
    "#### ROC plot instead?"
   ]
  },
  {
   "cell_type": "code",
   "execution_count": null,
   "metadata": {},
   "outputs": [],
   "source": [
    "from sklearn.metrics import roc_curve\n",
    "\n",
    "fpr, tpr, _ = roc_curve(gt_labels, prob_true_nmf)\n",
    "\n",
    "plt.figure()\n",
    "\n",
    "plt.plot(fpr, tpr, label=\"NMF\")\n",
    "\n",
    "plt.legend(bbox_to_anchor=(1.0, 1.0))\n",
    "plt.xlabel(\"False Positive Rate\")\n",
    "plt.ylabel(\"True Positive Rate\")"
   ]
  },
  {
   "cell_type": "markdown",
   "metadata": {},
   "source": [
    "***"
   ]
  },
  {
   "cell_type": "markdown",
   "metadata": {},
   "source": [
    "## What if we plot the distribution of p-values? "
   ]
  },
  {
   "cell_type": "markdown",
   "metadata": {},
   "source": [
    "#### For the ground truth DE test"
   ]
  },
  {
   "cell_type": "code",
   "execution_count": null,
   "metadata": {},
   "outputs": [],
   "source": [
    "# plt.figure()\n",
    "# plt.hist(pvals_gt, bins=25)\n",
    "\n",
    "# plt.title(\"Ground truth\", pad=15)\n",
    "# plt.xlabel(\"n peptides\")\n",
    "# plt.ylabel(\"density\")"
   ]
  },
  {
   "cell_type": "markdown",
   "metadata": {},
   "source": [
    "#### For the post-NMF imputation DE test"
   ]
  },
  {
   "cell_type": "code",
   "execution_count": null,
   "metadata": {},
   "outputs": [],
   "source": [
    "# plt.figure()\n",
    "# plt.hist(pvals_nmf, bins=25)\n",
    "\n",
    "# plt.title(\"Post-imputation\", pad=15)\n",
    "# plt.xlabel(\"n peptides\")\n",
    "# plt.ylabel(\"density\")"
   ]
  },
  {
   "cell_type": "markdown",
   "metadata": {},
   "source": [
    "#### Plot both on the same axes"
   ]
  },
  {
   "cell_type": "code",
   "execution_count": null,
   "metadata": {},
   "outputs": [],
   "source": [
    "# fig, (ax1, ax2) = plt.subplots(1, 2, figsize=(10,5), sharey=True, sharex=True)\n",
    "\n",
    "# #ax1.hist(pvals_correct_gt, bins=25)\n",
    "# ax1.hist(pvals_gt, bins=25)\n",
    "# ax1.set_title(\"Ground Truth\", pad=15)\n",
    "# ax1.set_xlabel(\"p-value\")\n",
    "# ax1.set_ylabel(\"n peptides\")\n",
    "\n",
    "# #ax2.hist(cp_vals_nmf, bins=25)\n",
    "# ax2.hist(pvals_nmf, bins=25)\n",
    "# ax2.set_title(\"Post-imputation\", pad=15)\n",
    "# ax2.sharey(ax1)\n",
    "# ax2.set_xlabel(\"p-value\")\n",
    "\n",
    "# fig.tight_layout()"
   ]
  },
  {
   "cell_type": "code",
   "execution_count": null,
   "metadata": {},
   "outputs": [],
   "source": []
  }
 ],
 "metadata": {
  "kernelspec": {
   "display_name": "ms-impute-trim",
   "language": "python",
   "name": "ms-impute-trim"
  },
  "language_info": {
   "codemirror_mode": {
    "name": "ipython",
    "version": 3
   },
   "file_extension": ".py",
   "mimetype": "text/x-python",
   "name": "python",
   "nbconvert_exporter": "python",
   "pygments_lexer": "ipython3",
   "version": "3.7.12"
  }
 },
 "nbformat": 4,
 "nbformat_minor": 4
}
