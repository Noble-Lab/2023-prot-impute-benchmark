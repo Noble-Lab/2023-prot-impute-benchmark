{
 "cells": [
  {
   "cell_type": "markdown",
   "metadata": {},
   "source": [
    "# DE-test-no-impute-sandbox\n",
    "2.1.23\n",
    "\n",
    "What happens when I add in the \"no impute\" condition? "
   ]
  },
  {
   "cell_type": "code",
   "execution_count": 1,
   "metadata": {},
   "outputs": [],
   "source": [
    "import pandas as pd\n",
    "import numpy as np\n",
    "import sys\n",
    "from scipy import stats\n",
    "import os\n",
    "import torch\n",
    "import seaborn as sns\n",
    "import matplotlib.pyplot as plt\n",
    "from sklearn.metrics import auc\n",
    "from sklearn.impute import KNNImputer\n",
    "from sklearn.metrics import precision_recall_curve\n",
    "\n",
    "# suppressing this CUDA initialization warning I always get\n",
    "    # this could be dangerous\n",
    "import warnings\n",
    "warnings.filterwarnings(\"ignore\", category=UserWarning)\n",
    "\n",
    "# import my modules\n",
    "sys.path.append('../../../../bin/')\n",
    "from models.linear import GradNMFImputer\n",
    "import util_functions\n",
    "import intermediate_plots\n",
    "\n",
    "# plotting templates\n",
    "sns.set(context=\"talk\", style=\"ticks\") \n",
    "pal = sns.color_palette()"
   ]
  },
  {
   "cell_type": "markdown",
   "metadata": {},
   "source": [
    "#### Configs"
   ]
  },
  {
   "cell_type": "code",
   "execution_count": 2,
   "metadata": {},
   "outputs": [],
   "source": [
    "# partitioning params\n",
    "val_frac = 0.3\n",
    "test_frac = 0.0\n",
    "# setting this to 0 ensures that no peptides will be filtered out\n",
    "min_present = 0     # during partitioning\n",
    "q_anchor=0.5  # these three for MNAR partition \n",
    "t_std=0.8\n",
    "brnl_prob=0.9\n",
    "\n",
    "# NMF model params\n",
    "n_factors = 4\n",
    "tolerance = 0.0001            # 0.0001 is default\n",
    "max_epochs = 1000             # 1000 is default\n",
    "learning_rate = 0.01          # 0.01 is default\n",
    "batch_size = 64               # 64 is default\n",
    "loss_func = \"MSE\"\n",
    "\n",
    "# kNN impute params\n",
    "k_neighbors = 4\n",
    "\n",
    "# for determining the ground truth DE peptides.\n",
    "    # also the significance threshold for calling imputed DE peptides\n",
    "alpha = 0.01\n",
    "correction = \"BH\"\n",
    "\n",
    "# the random number generator\n",
    "rng = np.random.default_rng(seed=18)\n",
    "\n",
    "# the random state for the partition\n",
    "split_rand_state = 18"
   ]
  },
  {
   "cell_type": "markdown",
   "metadata": {},
   "source": [
    "#### Read in the peptide quants dataframes, preprocess"
   ]
  },
  {
   "cell_type": "code",
   "execution_count": 3,
   "metadata": {},
   "outputs": [
    {
     "name": "stdout",
     "output_type": "stream",
     "text": [
      "condition 1 quants:  (32614, 9)\n",
      "condition 2 quants:  (32614, 9)\n"
     ]
    }
   ],
   "source": [
    "# read in \n",
    "cond1_df = pd.read_csv(\n",
    "            \"../../2022-10-31_SMTG_data/data/SMTG-ADD-quants.csv\")\n",
    "cond2_df = pd.read_csv(\n",
    "            \"../../2022-10-31_SMTG_data/data/SMTG-HCF-low-quants.csv\")\n",
    "\n",
    "# get the list of peptide IDs, or rather transition group IDs\n",
    "    # these will be the same for the two datasets\n",
    "peptide_ids = np.array(cond1_df[\"pids\"])\n",
    "\n",
    "# now remove the peptide ID columns\n",
    "to_remove = [\"pids\"]\n",
    "cond1_df = cond1_df.drop(to_remove, axis=1)\n",
    "cond2_df = cond2_df.drop(to_remove, axis=1)\n",
    "\n",
    "# convert to numpy arrays\n",
    "cond1_quants = np.array(cond1_df)\n",
    "cond2_quants = np.array(cond2_df)\n",
    "\n",
    "print(\"condition 1 quants: \", cond1_quants.shape)\n",
    "print(\"condition 2 quants: \", cond2_quants.shape)"
   ]
  },
  {
   "cell_type": "markdown",
   "metadata": {},
   "source": [
    "#### Get the ground truth DE peptides"
   ]
  },
  {
   "cell_type": "code",
   "execution_count": 4,
   "metadata": {},
   "outputs": [],
   "source": [
    "# get ground truth DE peptides\n",
    "reject_null_gt, pvals_correct = \\\n",
    "            util_functions.find_DE_peptides(\n",
    "                                cond1_quants, \n",
    "                                cond2_quants, \n",
    "                                correction, \n",
    "                                alpha\n",
    ")\n",
    "DE_peptides_gt = list(peptide_ids[reject_null_gt])"
   ]
  },
  {
   "cell_type": "markdown",
   "metadata": {},
   "source": [
    "#### Combine, store n_cols cutoff"
   ]
  },
  {
   "cell_type": "code",
   "execution_count": 5,
   "metadata": {},
   "outputs": [],
   "source": [
    "# create the combined matrix, to use for imputation \n",
    "comb_quants = np.concatenate([cond1_quants, cond2_quants], axis=1)\n",
    "\n",
    "# this is for eventually separating the reconstructed matrices \n",
    "    # into normal and tumor matrices\n",
    "cols_cutoff = cond1_quants.shape[1]"
   ]
  },
  {
   "cell_type": "markdown",
   "metadata": {},
   "source": [
    "#### Partition"
   ]
  },
  {
   "cell_type": "code",
   "execution_count": 6,
   "metadata": {},
   "outputs": [],
   "source": [
    "# MCAR partition \n",
    "# train, val, test = util_functions.split(\n",
    "#                                     comb_quants, \n",
    "#                                     val_frac=val_frac,\n",
    "#                                     test_frac=test_frac, \n",
    "#                                     min_present=min_present,\n",
    "#                                     random_state=split_rand_state,\n",
    "# )\n",
    "# MNAR partition \n",
    "train, val = util_functions.MNAR_partition_thresholds_matrix(\n",
    "                                    comb_quants, \n",
    "                                    q_anchor=q_anchor, \n",
    "                                    t_std=t_std, \n",
    "                                    brnl_prob=brnl_prob, \n",
    "                                    min_pres=min_present,\n",
    "                                    rand_state=split_rand_state,\n",
    ")"
   ]
  },
  {
   "cell_type": "markdown",
   "metadata": {},
   "source": [
    "#### Get the optimal n_batches for NMF training"
   ]
  },
  {
   "cell_type": "code",
   "execution_count": 7,
   "metadata": {},
   "outputs": [
    {
     "name": "stdout",
     "output_type": "stream",
     "text": [
      "509\n"
     ]
    }
   ],
   "source": [
    "# get the optimal number of batches for training\n",
    "if len(~np.isnan(train)) > 100:\n",
    "    n_batches = int(np.floor(len(~np.isnan(train)) / batch_size))\n",
    "    # setting the minimum n_batches to 100\n",
    "    n_batches = max(n_batches, 100) \n",
    "else: \n",
    "    n_batches = 1\n",
    "    \n",
    "print(n_batches)"
   ]
  },
  {
   "cell_type": "markdown",
   "metadata": {},
   "source": [
    "#### Get the missingness fractions"
   ]
  },
  {
   "cell_type": "code",
   "execution_count": 8,
   "metadata": {},
   "outputs": [
    {
     "name": "stdout",
     "output_type": "stream",
     "text": [
      "original mv frac:  0.0\n",
      "training mv frac:  0.45\n",
      "validation mv frac:  0.55\n"
     ]
    }
   ],
   "source": [
    "# get the missingness fractions\n",
    "orig_mv_frac = np.count_nonzero(np.isnan(comb_quants)) / comb_quants.size\n",
    "train_mv_frac = np.count_nonzero(np.isnan(train)) / train.size\n",
    "val_mv_frac = np.count_nonzero(np.isnan(val)) / val.size\n",
    "\n",
    "print(\"original mv frac: \", np.around(orig_mv_frac, decimals=2))\n",
    "print(\"training mv frac: \", np.around(train_mv_frac, decimals=2))\n",
    "print(\"validation mv frac: \", np.around(val_mv_frac, decimals=2))"
   ]
  },
  {
   "cell_type": "markdown",
   "metadata": {},
   "source": [
    "***"
   ]
  },
  {
   "cell_type": "markdown",
   "metadata": {},
   "source": [
    "## Impute with various methods"
   ]
  },
  {
   "cell_type": "markdown",
   "metadata": {},
   "source": [
    "#### NMF impute"
   ]
  },
  {
   "cell_type": "code",
   "execution_count": 9,
   "metadata": {},
   "outputs": [
    {
     "name": "stderr",
     "output_type": "stream",
     "text": [
      "  3%|▎         | 31/1000 [00:41<21:50,  1.35s/epoch]"
     ]
    },
    {
     "name": "stdout",
     "output_type": "stream",
     "text": [
      "early stopping triggered: wilcoxon criteria\n"
     ]
    },
    {
     "name": "stderr",
     "output_type": "stream",
     "text": [
      "\n"
     ]
    }
   ],
   "source": [
    "# init model \n",
    "nmf_model = GradNMFImputer(\n",
    "                n_rows = train.shape[0], \n",
    "                n_cols = train.shape[1], \n",
    "                n_factors=n_factors, \n",
    "                stopping_tol=tolerance,\n",
    "                train_batch_size=n_batches, \n",
    "                eval_batch_size=n_batches,\n",
    "                n_epochs=max_epochs, \n",
    "                loss_func=loss_func,\n",
    "                optimizer=torch.optim.Adam,\n",
    "                optimizer_kwargs={\"lr\": learning_rate},\n",
    "                non_negative=True,\n",
    "                rand_seed=rng.random(),\n",
    ")\n",
    "# fit and transform\n",
    "nmf_recon = nmf_model.fit_transform(train, val)\n",
    "nmf_full_recon = nmf_model.train_set_transform(train)"
   ]
  },
  {
   "cell_type": "markdown",
   "metadata": {},
   "source": [
    "#### kNN impute"
   ]
  },
  {
   "cell_type": "code",
   "execution_count": 10,
   "metadata": {},
   "outputs": [],
   "source": [
    "# knn_model = KNNImputer(n_neighbors=k_neighbors)\n",
    "# knn_recon = knn_model.fit_transform(train)"
   ]
  },
  {
   "cell_type": "markdown",
   "metadata": {},
   "source": [
    "#### Sample min impute"
   ]
  },
  {
   "cell_type": "code",
   "execution_count": 11,
   "metadata": {},
   "outputs": [],
   "source": [
    "col_min = np.nanmin(train, axis=0)\n",
    "nan_idx = np.where(np.isnan(train))\n",
    "smin_recon = train.copy()\n",
    "# nan_idx[1] -> take index of column\n",
    "smin_recon[nan_idx] = np.take(col_min, nan_idx[1]) "
   ]
  },
  {
   "cell_type": "markdown",
   "metadata": {},
   "source": [
    "#### Gaussian sample impute"
   ]
  },
  {
   "cell_type": "code",
   "execution_count": 12,
   "metadata": {},
   "outputs": [],
   "source": [
    "# get the column mins\n",
    "col_min = np.nanmin(train, axis=0)\n",
    "\n",
    "# get the mean and std of the entire training matrix\n",
    "train_mean = np.nanmean(train)\n",
    "train_sd = np.nanstd(train)\n",
    "\n",
    "# get the indicies of the MVs \n",
    "nan_idx = np.where(np.isnan(train))\n",
    "gsample_recon = train.copy()\n",
    "\n",
    "# how many total MVs? \n",
    "n_mv = len(nan_idx[0])\n",
    "\n",
    "# fill in the MVs with random draws \n",
    "gsample_recon[nan_idx] = rng.normal(\n",
    "                            loc=np.mean(col_min), \n",
    "                            scale=np.std(col_min), \n",
    "                            size=n_mv\n",
    ")\n",
    "\n",
    "# don't want negative values\n",
    "gsample_recon = np.abs(gsample_recon)"
   ]
  },
  {
   "cell_type": "markdown",
   "metadata": {},
   "source": [
    "***"
   ]
  },
  {
   "cell_type": "markdown",
   "metadata": {},
   "source": [
    "## Precision Recall curve plotting"
   ]
  },
  {
   "cell_type": "markdown",
   "metadata": {},
   "source": [
    "#### Separate the recon matrices into the two experimental conditions\n",
    "Including no impute. "
   ]
  },
  {
   "cell_type": "code",
   "execution_count": 13,
   "metadata": {},
   "outputs": [],
   "source": [
    "# for the NMF model \n",
    "cond1_recon_nmf = nmf_recon[:,0:cols_cutoff]\n",
    "cond2_recon_nmf = nmf_recon[:,cols_cutoff:]\n",
    "\n",
    "# for the kNN model \n",
    "# cond1_recon_knn = knn_recon[:,0:cols_cutoff]\n",
    "# cond2_recon_knn = knn_recon[:,cols_cutoff:]\n",
    "\n",
    "# for min impute\n",
    "cond1_recon_smin = smin_recon[:,0:cols_cutoff]\n",
    "cond2_recon_smin = smin_recon[:,cols_cutoff:]\n",
    "\n",
    "# for random sample impute\n",
    "cond1_recon_gsample = gsample_recon[:,0:cols_cutoff]\n",
    "cond2_recon_gsample = gsample_recon[:,cols_cutoff:]\n",
    "\n",
    "# for no impute\n",
    "no_impute_mat = train.copy()\n",
    "cond1_noimp = no_impute_mat[:,0:cols_cutoff]\n",
    "cond2_noimp = no_impute_mat[:,cols_cutoff:]"
   ]
  },
  {
   "cell_type": "markdown",
   "metadata": {},
   "source": [
    "#### Get the corrected p-values for every model's reconstruction"
   ]
  },
  {
   "cell_type": "code",
   "execution_count": 14,
   "metadata": {},
   "outputs": [
    {
     "name": "stderr",
     "output_type": "stream",
     "text": [
      "/net/noble/vol2/home/lincolnh/.local/lib/python3.7/site-packages/scipy/stats/mstats_basic.py:1077: RuntimeWarning: divide by zero encountered in true_divide\n",
      "  denom = ma.sqrt(svar*(1.0/n1 + 1.0/n2))  # n-D computation here!\n"
     ]
    }
   ],
   "source": [
    "r, cp_vals_nmf = util_functions.find_DE_peptides(\n",
    "                        cond1_recon_nmf, cond2_recon_nmf, \n",
    "                        correction, alpha_=alpha)\n",
    "# r, cp_vals_knn = util_functions.find_DE_peptides(\n",
    "#                         cond1_recon_knn, cond2_recon_knn, \n",
    "#                         correction, alpha_=alpha)\n",
    "r, cp_vals_smin = util_functions.find_DE_peptides(\n",
    "                        cond1_recon_smin, cond2_recon_smin, \n",
    "                        correction, alpha_=alpha)\n",
    "r, cp_vals_gsample = util_functions.find_DE_peptides(\n",
    "                        cond1_recon_gsample, cond2_recon_gsample, \n",
    "                        correction, alpha_=alpha)\n",
    "r, cp_vals_noimp = util_functions.find_DE_peptides(\n",
    "                        cond1_noimp, cond2_noimp, \n",
    "                        correction, alpha_=alpha)"
   ]
  },
  {
   "cell_type": "markdown",
   "metadata": {},
   "source": [
    "#### Get the DE probabilities"
   ]
  },
  {
   "cell_type": "code",
   "execution_count": 15,
   "metadata": {},
   "outputs": [],
   "source": [
    "# the ground truth labels. True means DE peptide, False means not\n",
    "gt_labels = reject_null_gt.astype(float)\n",
    "\n",
    "# get the DE probabilities, for each model \n",
    "prob_true_nmf = 1 - cp_vals_nmf\n",
    "# prob_true_knn = 1 - cp_vals_knn\n",
    "prob_true_smin = 1 - cp_vals_smin\n",
    "prob_true_gsample = 1 - cp_vals_gsample\n",
    "prob_true_noimp = 1 - cp_vals_noimp"
   ]
  },
  {
   "cell_type": "markdown",
   "metadata": {},
   "source": [
    "#### Get the Precision Recall stats\n",
    "With the sklearn PR plotting function "
   ]
  },
  {
   "cell_type": "code",
   "execution_count": 17,
   "metadata": {},
   "outputs": [],
   "source": [
    "pr_nmf, recall_nmf, t = precision_recall_curve(\n",
    "                        y_true=gt_labels, probas_pred=prob_true_nmf)\n",
    "# pr_knn, recall_knn, t = precision_recall_curve(\n",
    "#                         y_true=gt_labels, probas_pred=prob_true_knn)\n",
    "pr_smin, recall_smin, t = precision_recall_curve(\n",
    "                        y_true=gt_labels, probas_pred=prob_true_smin)\n",
    "pr_gsample, recall_gsample, t = precision_recall_curve(\n",
    "                        y_true=gt_labels, probas_pred=prob_true_gsample)\n",
    "pr_noimp, recall_noimp, t = precision_recall_curve(\n",
    "                        y_true=gt_labels, probas_pred=prob_true_noimp)"
   ]
  },
  {
   "cell_type": "markdown",
   "metadata": {},
   "source": [
    "#### Get the AUCs"
   ]
  },
  {
   "cell_type": "code",
   "execution_count": 18,
   "metadata": {},
   "outputs": [],
   "source": [
    "nmf_auc = np.around(auc(recall_nmf, pr_nmf), 2)\n",
    "# knn_auc = np.around(auc(recall_knn, pr_knn), 2)\n",
    "smin_auc = np.around(auc(recall_smin, pr_smin), 2)\n",
    "gsample_auc = np.around(auc(recall_gsample, pr_gsample), 2)\n",
    "noimp_auc = np.around(auc(recall_noimp, pr_noimp), 2)"
   ]
  },
  {
   "cell_type": "markdown",
   "metadata": {},
   "source": [
    "#### Plot"
   ]
  },
  {
   "cell_type": "code",
   "execution_count": 19,
   "metadata": {},
   "outputs": [
    {
     "data": {
      "image/png": "[encoded data removed]",
      "text/plain": [
       "<Figure size 432x288 with 1 Axes>"
      ]
     },
     "metadata": {},
     "output_type": "display_data"
    }
   ],
   "source": [
    "# plot\n",
    "plt.figure()\n",
    "\n",
    "plt.plot(\n",
    "    recall_nmf, pr_nmf, label=\"NMF (\" + str(nmf_auc) + \")\")\n",
    "# plt.plot(\n",
    "#   recall_knn, pr_knn, label=\"kNN (\" + str(knn_auc) + \")\")\n",
    "plt.plot(\n",
    "    recall_smin, pr_smin, \n",
    "    label=\"Sample min (\" + str(smin_auc) + \")\")\n",
    "plt.plot(\n",
    "    recall_gsample, pr_gsample, \n",
    "    label=\"Gaussian sample (\" + str(gsample_auc) + \")\")\n",
    "plt.plot(\n",
    "    recall_noimp, pr_noimp, \n",
    "    label=\"No impute (\" + str(noimp_auc) + \")\")\n",
    "\n",
    "plt.legend(bbox_to_anchor=(1.0, 1.0))\n",
    "plt.xlabel(\"recall\")\n",
    "plt.ylabel(\"precision\")\n",
    "plt.show()"
   ]
  },
  {
   "cell_type": "markdown",
   "metadata": {},
   "source": [
    "***"
   ]
  },
  {
   "cell_type": "markdown",
   "metadata": {},
   "source": [
    "#### Check on these guys\n",
    "I'm guessing the second one will have a completely masked array. \n",
    "Looks like one of the arrays has only a single observation. "
   ]
  },
  {
   "cell_type": "code",
   "execution_count": 20,
   "metadata": {},
   "outputs": [],
   "source": [
    "#cond1_noimp[0]\n",
    "#cond2_noimp[0]"
   ]
  },
  {
   "cell_type": "code",
   "execution_count": 21,
   "metadata": {},
   "outputs": [],
   "source": [
    "#cond1_noimp[1]\n",
    "#cond2_noimp[1]"
   ]
  }
 ],
 "metadata": {
  "kernelspec": {
   "display_name": "ms-impute-trim",
   "language": "python",
   "name": "ms-impute-trim"
  },
  "language_info": {
   "codemirror_mode": {
    "name": "ipython",
    "version": 3
   },
   "file_extension": ".py",
   "mimetype": "text/x-python",
   "name": "python",
   "nbconvert_exporter": "python",
   "pygments_lexer": "ipython3",
   "version": "3.7.12"
  }
 },
 "nbformat": 4,
 "nbformat_minor": 4
}
