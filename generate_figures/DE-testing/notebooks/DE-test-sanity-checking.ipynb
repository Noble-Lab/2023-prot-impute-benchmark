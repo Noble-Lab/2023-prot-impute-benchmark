{
 "cells": [
  {
   "cell_type": "markdown",
   "metadata": {},
   "source": [
    "# DE-test-sanity-checking\n",
    "1.12.23\n",
    "\n",
    "Sanity checking, making sure the partitioning code is doing what I think its doing. \n",
    "Can also play around with the MNAR partitioning parameters to withhold a certain fraction of values. \n",
    "\n",
    "Also sanity checking my Gaussian random sample and sample min impute methods, just to make sure\n",
    "they're doing what they're supposed to be doing. "
   ]
  },
  {
   "cell_type": "code",
   "execution_count": 1,
   "metadata": {},
   "outputs": [],
   "source": [
    "import pandas as pd\n",
    "import numpy as np\n",
    "import sys\n",
    "import os\n",
    "import torch\n",
    "import seaborn as sns\n",
    "import matplotlib.pyplot as plt\n",
    "\n",
    "# my modules\n",
    "sys.path.append('../../../../bin/')\n",
    "import util_functions\n",
    "\n",
    "# plotting templates\n",
    "sns.set(context=\"talk\", style=\"ticks\") \n",
    "pal = sns.color_palette()"
   ]
  },
  {
   "cell_type": "markdown",
   "metadata": {},
   "source": [
    "#### Configs"
   ]
  },
  {
   "cell_type": "code",
   "execution_count": 2,
   "metadata": {},
   "outputs": [],
   "source": [
    "# partitioning params\n",
    "val_frac = 0.3\n",
    "test_frac = 0.0\n",
    "# setting this to 0 ensures that no peptides will be filtered out\n",
    "min_present = 0     # during partitioning\n",
    "q_anchor=0.35  # these three for MNAR partition \n",
    "t_std=0.45 \n",
    "brnl_prob=0.75\n",
    "\n",
    "# NMF training params\n",
    "batch_size = 64\n",
    "\n",
    "# the random number generator\n",
    "rng = np.random.default_rng(seed=18)\n",
    "\n",
    "# the random state for the partition\n",
    "split_rand_state = 18"
   ]
  },
  {
   "cell_type": "markdown",
   "metadata": {},
   "source": [
    "#### Read in the SMTG data, and divide into two experimental groups"
   ]
  },
  {
   "cell_type": "code",
   "execution_count": 3,
   "metadata": {},
   "outputs": [
    {
     "name": "stdout",
     "output_type": "stream",
     "text": [
      "condition 1 quants:  (32614, 9)\n",
      "condition 2 quants:  (32614, 9)\n"
     ]
    }
   ],
   "source": [
    "# read in \n",
    "cond1_df = pd.read_csv(\n",
    "            \"../../2022-10-31_SMTG_data/data/SMTG-ADD-quants.csv\")\n",
    "cond2_df = pd.read_csv(\n",
    "            \"../../2022-10-31_SMTG_data/data/SMTG-HCF-low-quants.csv\")\n",
    "\n",
    "# get the list of peptide IDs, or rather transition group IDs\n",
    "    # these will be the same for the two datasets\n",
    "peptide_ids = np.array(cond1_df[\"pids\"])\n",
    "\n",
    "# now remove the peptide ID columns\n",
    "to_remove = [\"pids\"]\n",
    "cond1_df = cond1_df.drop(to_remove, axis=1)\n",
    "cond2_df = cond2_df.drop(to_remove, axis=1)\n",
    "\n",
    "# convert to numpy arrays\n",
    "cond1_quants = np.array(cond1_df)\n",
    "cond2_quants = np.array(cond2_df)\n",
    "\n",
    "print(\"condition 1 quants: \", cond1_quants.shape)\n",
    "print(\"condition 2 quants: \", cond2_quants.shape)"
   ]
  },
  {
   "cell_type": "markdown",
   "metadata": {},
   "source": [
    "#### Combine, and keep track of the column cutoffs"
   ]
  },
  {
   "cell_type": "code",
   "execution_count": 4,
   "metadata": {},
   "outputs": [],
   "source": [
    "# create the combined matrix, to use for imputation \n",
    "comb_quants = np.concatenate([cond1_quants, cond2_quants], axis=1)\n",
    "\n",
    "# this is for eventually separating the reconstructed matrices \n",
    "    # into normal and tumor matrices\n",
    "cols_cutoff = cond1_quants.shape[1]"
   ]
  },
  {
   "cell_type": "markdown",
   "metadata": {},
   "source": [
    "#### Partition "
   ]
  },
  {
   "cell_type": "code",
   "execution_count": 5,
   "metadata": {},
   "outputs": [],
   "source": [
    "# MCAR partition \n",
    "# train, val, test = util_functions.split(\n",
    "#                                     comb_quants, \n",
    "#                                     val_frac=val_frac,\n",
    "#                                     test_frac=test_frac, \n",
    "#                                     min_present=min_present,\n",
    "#                                     random_state=split_rand_state,\n",
    "# )\n",
    "# MNAR partition \n",
    "train, val = util_functions.MNAR_partition_thresholds_matrix(\n",
    "                                    comb_quants, \n",
    "                                    q_anchor=q_anchor, \n",
    "                                    t_std=t_std, \n",
    "                                    brnl_prob=brnl_prob, \n",
    "                                    min_pres=min_present,\n",
    "                                    rand_state=split_rand_state,\n",
    ")"
   ]
  },
  {
   "cell_type": "markdown",
   "metadata": {},
   "source": [
    "#### Get the optimal number of batches"
   ]
  },
  {
   "cell_type": "code",
   "execution_count": 6,
   "metadata": {},
   "outputs": [],
   "source": [
    "# get the optimal number of batches for training\n",
    "if len(~np.isnan(train)) > 100:\n",
    "    n_batches = int(np.floor(len(~np.isnan(train)) / batch_size))\n",
    "    # setting the minimum n_batches to 100\n",
    "    n_batches = max(n_batches, 100) \n",
    "else: \n",
    "    n_batches = 1"
   ]
  },
  {
   "cell_type": "markdown",
   "metadata": {},
   "source": [
    "#### Get the missingness fractions"
   ]
  },
  {
   "cell_type": "code",
   "execution_count": 7,
   "metadata": {},
   "outputs": [
    {
     "name": "stdout",
     "output_type": "stream",
     "text": [
      "mv frac original:  0.0\n",
      "mv frac train:  0.275\n",
      "mv frac validation:  0.725\n"
     ]
    }
   ],
   "source": [
    "orig_mv_frac = np.count_nonzero(np.isnan(comb_quants)) / comb_quants.size\n",
    "train_mv_frac = np.count_nonzero(np.isnan(train)) / train.size\n",
    "val_mv_frac = np.count_nonzero(np.isnan(val)) / val.size\n",
    "\n",
    "print(\"mv frac original: \", np.around(orig_mv_frac, decimals=3))\n",
    "print(\"mv frac train: \", np.around(train_mv_frac, decimals=3))\n",
    "print(\"mv frac validation: \", np.around(val_mv_frac, decimals=3))"
   ]
  },
  {
   "cell_type": "markdown",
   "metadata": {},
   "source": [
    "#### Plotting the distributions of the partitions"
   ]
  },
  {
   "cell_type": "code",
   "execution_count": 8,
   "metadata": {},
   "outputs": [
    {
     "data": {
      "text/plain": [
       "Text(0, 0.5, 'Counts')"
      ]
     },
     "execution_count": 8,
     "metadata": {},
     "output_type": "execute_result"
    },
    {
     "data": {
      "image/png": "[encoded data removed]",
      "text/plain": [
       "<Figure size 432x288 with 1 Axes>"
      ]
     },
     "metadata": {},
     "output_type": "display_data"
    }
   ],
   "source": [
    "# flatten\n",
    "quants_rav = comb_quants.ravel()\n",
    "train_rav = train.ravel()\n",
    "val_rav = val.ravel()\n",
    "\n",
    "# get the present values from the original matrix\n",
    "p_quants_nans = np.isnan(quants_rav)\n",
    "p_quants_present = quants_rav[~p_quants_nans]\n",
    "\n",
    "# get present values from the training matrix\n",
    "train_nans = np.isnan(train_rav)\n",
    "train_present = train_rav[~train_nans]\n",
    "\n",
    "# get present values from the validation matrix\n",
    "val_nans = np.isnan(val_rav)\n",
    "val_present = val_rav[~val_nans]\n",
    "\n",
    "quants_max = np.max(p_quants_present)\n",
    "quants_min = np.min(p_quants_present)\n",
    "\n",
    "bins_range = np.arange(0, quants_max, 0.1)\n",
    "\n",
    "plt.figure()\n",
    "plt.hist(p_quants_present, density=False, bins=bins_range, linewidth=0.01,\n",
    "         color='cornflowerblue', edgecolor='cornflowerblue', alpha=1.0, label=\"original\")\n",
    "plt.hist(train_present, density=False, bins=bins_range, linewidth=0.01, \n",
    "         color='firebrick', edgecolor='firebrick', alpha=0.8, label=\"training\")\n",
    "plt.hist(val_present, density=False, bins=bins_range, linewidth=0.01,\n",
    "        color='olivedrab', edgecolor='olivedrab', alpha=0.8, label=\"validation\")\n",
    "\n",
    "plt.minorticks_off()\n",
    "\n",
    "plt.legend()\n",
    "plt.xlabel(\"Intensity\")\n",
    "plt.ylabel(\"Counts\")"
   ]
  },
  {
   "cell_type": "markdown",
   "metadata": {},
   "source": [
    "***"
   ]
  },
  {
   "cell_type": "markdown",
   "metadata": {},
   "source": [
    "## Lets look at Gaussian random sample impute, because that seems to be causing problems. "
   ]
  },
  {
   "cell_type": "markdown",
   "metadata": {},
   "source": [
    "#### Rand impute\n",
    "Ok, I think this is working now. "
   ]
  },
  {
   "cell_type": "code",
   "execution_count": 9,
   "metadata": {},
   "outputs": [],
   "source": [
    "col_min = np.nanmin(train, axis=0)\n",
    "\n",
    "train_mean = np.nanmean(train)\n",
    "train_sd = np.nanstd(train)\n",
    "\n",
    "nan_idx = np.where(np.isnan(train))\n",
    "std_recon = train.copy()\n",
    "\n",
    "# how many total MVs? \n",
    "n_mv = len(nan_idx[0])\n",
    "\n",
    "# fill in the MVs with random draws \n",
    "std_recon[nan_idx] = rng.normal(\n",
    "                            loc=np.mean(col_min), \n",
    "                            scale=np.std(col_min), \n",
    "                            size=n_mv\n",
    ")\n",
    "# don't want negative values\n",
    "std_recon = np.abs(std_recon)"
   ]
  },
  {
   "cell_type": "markdown",
   "metadata": {},
   "source": [
    "## Lets look at sample min impute as well \n",
    "Just to sanity check. Keep in mind that we could just as easily do a row (peptide) min rather than col (sample) min. I think the more common approach is the sample min, so maybe thats the best starting point. "
   ]
  },
  {
   "cell_type": "markdown",
   "metadata": {},
   "source": [
    "#### Min impute"
   ]
  },
  {
   "cell_type": "code",
   "execution_count": 12,
   "metadata": {},
   "outputs": [],
   "source": [
    "col_min = np.nanmin(train, axis=0)\n",
    "nan_idx = np.where(np.isnan(train))\n",
    "min_recon = train.copy()\n",
    "# nan_idx[1] -> take index of column\n",
    "min_recon[nan_idx] = np.take(col_min, nan_idx[1]) "
   ]
  }
 ],
 "metadata": {
  "kernelspec": {
   "display_name": "ms-impute-trim",
   "language": "python",
   "name": "ms-impute-trim"
  },
  "language_info": {
   "codemirror_mode": {
    "name": "ipython",
    "version": 3
   },
   "file_extension": ".py",
   "mimetype": "text/x-python",
   "name": "python",
   "nbconvert_exporter": "python",
   "pygments_lexer": "ipython3",
   "version": "3.7.12"
  }
 },
 "nbformat": 4,
 "nbformat_minor": 4
}
