{
 "cells": [
  {
   "cell_type": "markdown",
   "metadata": {},
   "source": [
    "# plot-distributions-post-partition\n",
    "3.2.23\n",
    "\n",
    "Want to make plots of the distributions of the train/validation/test set fractions\n",
    "following the partition. This will hopefully become a supplementary figure in the manuscript.\n",
    "\n",
    "Right now doing this for the SMTG DIA data. Is that the best choice? Probably justifiable either way. "
   ]
  },
  {
   "cell_type": "code",
   "execution_count": 1,
   "metadata": {},
   "outputs": [],
   "source": [
    "import pandas as pd\n",
    "import numpy as np\n",
    "import sys\n",
    "import os\n",
    "import torch\n",
    "import seaborn as sns\n",
    "import matplotlib.pyplot as plt\n",
    "\n",
    "# my modules\n",
    "sys.path.append('../../../bin/')\n",
    "import utils\n",
    "\n",
    "# plotting templates\n",
    "sns.set(context=\"talk\", style=\"ticks\") \n",
    "pal = sns.color_palette()"
   ]
  },
  {
   "cell_type": "markdown",
   "metadata": {},
   "source": [
    "#### Configs"
   ]
  },
  {
   "cell_type": "code",
   "execution_count": 2,
   "metadata": {},
   "outputs": [],
   "source": [
    "# partitioning params\n",
    "val_frac = 0.25\n",
    "test_frac = 0.0\n",
    "# setting this to 0 ensures that no peptides will be filtered out\n",
    "min_present = 0     # during partitioning\n",
    "q_anchor=0.35  # these three for MNAR partition \n",
    "t_std=0.6\n",
    "brnl_prob=0.7\n",
    "\n",
    "# NMF training params\n",
    "batch_size = 64\n",
    "\n",
    "# the random number generator\n",
    "rng = np.random.default_rng(seed=18)\n",
    "\n",
    "# the random state for the partition\n",
    "split_rand_state = 18"
   ]
  },
  {
   "cell_type": "markdown",
   "metadata": {},
   "source": [
    "#### Read in the DIA AD data"
   ]
  },
  {
   "cell_type": "code",
   "execution_count": 3,
   "metadata": {},
   "outputs": [
    {
     "name": "stdout",
     "output_type": "stream",
     "text": [
      "condition 1 quants:  (32614, 9)\n",
      "condition 2 quants:  (32614, 9)\n"
     ]
    }
   ],
   "source": [
    "# read in \n",
    "cond1_df = pd.read_csv(\"path/to/the/data\")\n",
    "cond2_df = pd.read_csv(\"path/to/the/data\")\n",
    "\n",
    "# get the list of peptide IDs, or rather transition group IDs\n",
    "    # these will be the same for the two datasets\n",
    "peptide_ids = np.array(cond1_df[\"pids\"])\n",
    "\n",
    "# now remove the peptide ID columns\n",
    "to_remove = [\"pids\"]\n",
    "cond1_df = cond1_df.drop(to_remove, axis=1)\n",
    "cond2_df = cond2_df.drop(to_remove, axis=1)\n",
    "\n",
    "# convert to numpy arrays\n",
    "cond1_quants = np.array(cond1_df)\n",
    "cond2_quants = np.array(cond2_df)\n",
    "\n",
    "print(\"condition 1 quants: \", cond1_quants.shape)\n",
    "print(\"condition 2 quants: \", cond2_quants.shape)"
   ]
  },
  {
   "cell_type": "markdown",
   "metadata": {},
   "source": [
    "#### Combine two conditions into a single matrix"
   ]
  },
  {
   "cell_type": "code",
   "execution_count": 4,
   "metadata": {},
   "outputs": [],
   "source": [
    "# create the combined matrix, to use for imputation \n",
    "comb_quants = np.concatenate([cond1_quants, cond2_quants], axis=1)\n",
    "\n",
    "# should we maybe exponentiate these\n",
    "# comb_quants = np.exp(comb_quants)"
   ]
  },
  {
   "cell_type": "markdown",
   "metadata": {},
   "source": [
    "#### Partition\n",
    "With either MCAR or MNAR"
   ]
  },
  {
   "cell_type": "code",
   "execution_count": 11,
   "metadata": {},
   "outputs": [],
   "source": [
    "# MCAR partition \n",
    "train, val, test = util_functions.split(\n",
    "                                    comb_quants, \n",
    "                                    val_frac=val_frac,\n",
    "                                    test_frac=test_frac, \n",
    "                                    min_present=min_present,\n",
    "                                    random_state=split_rand_state,\n",
    ")\n",
    "# MNAR partition \n",
    "# train, val = util_functions.MNAR_partition_thresholds_matrix(\n",
    "#                                     comb_quants, \n",
    "#                                     q_anchor=q_anchor, \n",
    "#                                     t_std=t_std, \n",
    "#                                     brnl_prob=brnl_prob, \n",
    "#                                     min_pres=min_present,\n",
    "#                                     rand_state=split_rand_state,\n",
    "# )"
   ]
  },
  {
   "cell_type": "markdown",
   "metadata": {},
   "source": [
    "#### Get the missingness fractions"
   ]
  },
  {
   "cell_type": "code",
   "execution_count": 12,
   "metadata": {},
   "outputs": [
    {
     "name": "stdout",
     "output_type": "stream",
     "text": [
      "mv frac original:  0.0\n",
      "mv frac train:  0.25\n",
      "mv frac validation:  0.75\n"
     ]
    }
   ],
   "source": [
    "orig_mv_frac = np.count_nonzero(np.isnan(comb_quants)) / comb_quants.size\n",
    "train_mv_frac = np.count_nonzero(np.isnan(train)) / train.size\n",
    "val_mv_frac = np.count_nonzero(np.isnan(val)) / val.size\n",
    "\n",
    "print(\"mv frac original: \", np.around(orig_mv_frac, decimals=3))\n",
    "print(\"mv frac train: \", np.around(train_mv_frac, decimals=3))\n",
    "print(\"mv frac validation: \", np.around(val_mv_frac, decimals=3))"
   ]
  },
  {
   "cell_type": "markdown",
   "metadata": {},
   "source": [
    "#### Plot the distributions of the partitions"
   ]
  },
  {
   "cell_type": "code",
   "execution_count": 14,
   "metadata": {},
   "outputs": [
    {
     "data": {
      "image/png": "[encoded data removed]",
      "text/plain": [
       "<Figure size 432x288 with 1 Axes>"
      ]
     },
     "metadata": {},
     "output_type": "display_data"
    }
   ],
   "source": [
    "# flatten\n",
    "quants_rav = comb_quants.ravel()\n",
    "train_rav = train.ravel()\n",
    "val_rav = val.ravel()\n",
    "\n",
    "# get the present values from the original matrix\n",
    "p_quants_nans = np.isnan(quants_rav)\n",
    "p_quants_present = quants_rav[~p_quants_nans]\n",
    "\n",
    "# get present values from the training matrix\n",
    "train_nans = np.isnan(train_rav)\n",
    "train_present = train_rav[~train_nans]\n",
    "\n",
    "# get present values from the validation matrix\n",
    "val_nans = np.isnan(val_rav)\n",
    "val_present = val_rav[~val_nans]\n",
    "\n",
    "# for logged quants\n",
    "quants_max = np.max(p_quants_present)\n",
    "quants_min = np.min(p_quants_present)\n",
    "bins_range = np.arange(0, quants_max, 0.1)\n",
    "\n",
    "# for non-logged quants\n",
    "# quants_min = np.quantile(p_quants_present, 0.1)\n",
    "# quants_max = np.quantile(p_quants_present, 0.7)\n",
    "# bins_range = np.arange(0, quants_max, 1e9)\n",
    "\n",
    "plt.figure()\n",
    "plt.hist(p_quants_present, density=False, bins=bins_range, linewidth=0.01,\n",
    "         color='cornflowerblue', edgecolor='cornflowerblue', alpha=1.0, label=\"Original\")\n",
    "plt.hist(train_present, density=False, bins=bins_range, linewidth=0.01, \n",
    "         color='firebrick', edgecolor='firebrick', alpha=0.8, label=\"Train\")\n",
    "plt.hist(val_present, density=False, bins=bins_range, linewidth=0.01,\n",
    "        color='olivedrab', edgecolor='olivedrab', alpha=0.8, label=\"Test\")\n",
    "\n",
    "plt.minorticks_off()\n",
    "\n",
    "plt.legend()\n",
    "plt.title(\"MCAR partition\", pad=20, size=24)\n",
    "plt.xlabel(\"Intensity\")\n",
    "plt.ylabel(\"Counts\")\n",
    "\n",
    "# plt.savefig(\n",
    "#     \"../logs/partition-distributions-MCAR-0.25valid1.png\", dpi=250, bbox_inches=\"tight\"\n",
    "# )"
   ]
  },
  {
   "cell_type": "code",
   "execution_count": null,
   "metadata": {},
   "outputs": [],
   "source": []
  }
 ],
 "metadata": {
  "kernelspec": {
   "display_name": "ms-impute-trim",
   "language": "python",
   "name": "ms-impute-trim"
  },
  "language_info": {
   "codemirror_mode": {
    "name": "ipython",
    "version": 3
   },
   "file_extension": ".py",
   "mimetype": "text/x-python",
   "name": "python",
   "nbconvert_exporter": "python",
   "pygments_lexer": "ipython3",
   "version": "3.7.12"
  }
 },
 "nbformat": 4,
 "nbformat_minor": 4
}
