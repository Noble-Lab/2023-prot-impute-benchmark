{
 "cells": [
  {
   "cell_type": "markdown",
   "metadata": {},
   "source": [
    "# save-PR-stats-sandbox\n",
    "2.8.23"
   ]
  },
  {
   "cell_type": "code",
   "execution_count": 1,
   "metadata": {},
   "outputs": [],
   "source": [
    "import pandas as pd\n",
    "import numpy as np\n",
    "import sys\n",
    "from scipy import stats\n",
    "import os\n",
    "import torch\n",
    "import seaborn as sns\n",
    "import matplotlib.pyplot as plt\n",
    "from sklearn.metrics import auc\n",
    "from sklearn.metrics import precision_recall_curve\n",
    "\n",
    "# suppressing this CUDA initialization warning I always get\n",
    "    # this could be dangerous\n",
    "import warnings\n",
    "warnings.filterwarnings(\"ignore\", category=UserWarning)\n",
    "\n",
    "# import my modules\n",
    "sys.path.append('../../../../bin/')\n",
    "from models.linear import GradNMFImputer\n",
    "import util_functions\n",
    "import intermediate_plots\n",
    "\n",
    "# plotting templates\n",
    "sns.set(context=\"talk\", style=\"ticks\") \n",
    "pal = sns.color_palette()"
   ]
  },
  {
   "cell_type": "markdown",
   "metadata": {},
   "source": [
    "#### Some configs"
   ]
  },
  {
   "cell_type": "code",
   "execution_count": 15,
   "metadata": {},
   "outputs": [],
   "source": [
    "# partitioning params\n",
    "val_frac = 0.3\n",
    "test_frac = 0.0\n",
    "# setting this to 0 ensures that no peptides will be filtered out\n",
    "min_present = 0     # during partitioning\n",
    "q_anchor=0.35  # these three for MNAR partition \n",
    "t_std=0.45\n",
    "brnl_prob=0.7\n",
    "\n",
    "# NMF model params\n",
    "n_factors = 4\n",
    "tolerance = 0.0001            # 0.0001 is default\n",
    "max_epochs = 1000             # 1000 is default\n",
    "learning_rate = 0.01          # 0.01 is default\n",
    "batch_size = 64               # 64 is default\n",
    "loss_func = \"MSE\"\n",
    "\n",
    "# for determining the ground truth DE peptides\n",
    "alpha = 0.01\n",
    "correction = \"BH\"\n",
    "\n",
    "# the random number generator\n",
    "rng = np.random.default_rng(seed=18)\n",
    "\n",
    "# the random state for the partition\n",
    "split_rand_state = 18"
   ]
  },
  {
   "cell_type": "markdown",
   "metadata": {},
   "source": [
    "#### Read in quants matrix, pre-process"
   ]
  },
  {
   "cell_type": "code",
   "execution_count": 3,
   "metadata": {},
   "outputs": [
    {
     "name": "stdout",
     "output_type": "stream",
     "text": [
      "condition 1 quants:  (32614, 9)\n",
      "condition 2 quants:  (32614, 9)\n"
     ]
    }
   ],
   "source": [
    "# read in \n",
    "cond1_df = pd.read_csv(\n",
    "            \"../../2022-10-31_SMTG_data/data/SMTG-ADD-quants.csv\")\n",
    "cond2_df = pd.read_csv(\n",
    "            \"../../2022-10-31_SMTG_data/data/SMTG-HCF-low-quants.csv\")\n",
    "\n",
    "# downsample. Really should do this probabilisticly \n",
    "# cond1_df = cond1_df[:10000]\n",
    "# cond2_df = cond2_df[:10000]\n",
    "\n",
    "# get the list of peptide IDs, or rather transition group IDs\n",
    "    # these will be the same for the two datasets\n",
    "peptide_ids = np.array(cond1_df[\"pids\"])\n",
    "\n",
    "# now remove the peptide ID columns\n",
    "to_remove = [\"pids\"]\n",
    "cond1_df = cond1_df.drop(to_remove, axis=1)\n",
    "cond2_df = cond2_df.drop(to_remove, axis=1)\n",
    "\n",
    "# convert to numpy arrays\n",
    "cond1_quants = np.array(cond1_df)\n",
    "cond2_quants = np.array(cond2_df)\n",
    "\n",
    "print(\"condition 1 quants: \", cond1_quants.shape)\n",
    "print(\"condition 2 quants: \", cond2_quants.shape)"
   ]
  },
  {
   "cell_type": "markdown",
   "metadata": {},
   "source": [
    "#### Get the ground truth DE peptides"
   ]
  },
  {
   "cell_type": "code",
   "execution_count": 17,
   "metadata": {},
   "outputs": [],
   "source": [
    "reject_null_gt, pvals_correct = \\\n",
    "        util_functions.find_DE_peptides(\n",
    "                            cond1_quants, \n",
    "                            cond2_quants, \n",
    "                            correction, \n",
    "                            alpha,\n",
    "        )\n",
    "DE_peptides_gt = list(peptide_ids[reject_null_gt])"
   ]
  },
  {
   "cell_type": "markdown",
   "metadata": {},
   "source": [
    "#### Partition \n",
    "MCAR or MNAR. "
   ]
  },
  {
   "cell_type": "code",
   "execution_count": 4,
   "metadata": {},
   "outputs": [],
   "source": [
    "# create the combined matrix, to use for imputation \n",
    "comb_quants = np.concatenate([cond1_quants, cond2_quants], axis=1)\n",
    "\n",
    "# this is for eventually separating the reconstructed matrices \n",
    "    # into normal and tumor matrices\n",
    "cols_cutoff = cond1_quants.shape[1]\n",
    "\n",
    "# MCAR partition \n",
    "# train, val, test = util_functions.split(\n",
    "#                                     comb_quants, \n",
    "#                                     val_frac=val_frac,\n",
    "#                                     test_frac=test_frac, \n",
    "#                                     min_present=min_present,\n",
    "#                                     random_state=split_rand_state,\n",
    "# )\n",
    "# MNAR partition \n",
    "train, val = util_functions.MNAR_partition_thresholds_matrix(\n",
    "                                    comb_quants, \n",
    "                                    q_anchor=q_anchor, \n",
    "                                    t_std=t_std, \n",
    "                                    brnl_prob=brnl_prob, \n",
    "                                    min_pres=min_present,\n",
    "                                    rand_state=split_rand_state,\n",
    ")"
   ]
  },
  {
   "cell_type": "markdown",
   "metadata": {},
   "source": [
    "#### Get the optimal number of batches for training and eval"
   ]
  },
  {
   "cell_type": "code",
   "execution_count": 5,
   "metadata": {},
   "outputs": [
    {
     "name": "stdout",
     "output_type": "stream",
     "text": [
      "509\n"
     ]
    }
   ],
   "source": [
    "# get the optimal number of batches for training\n",
    "if len(~np.isnan(train)) > 100:\n",
    "    n_batches = int(np.floor(len(~np.isnan(train)) / batch_size))\n",
    "    # setting the minimum n_batches to 100\n",
    "    n_batches = max(n_batches, 100) \n",
    "else: \n",
    "    n_batches = 1\n",
    "    \n",
    "print(n_batches)"
   ]
  },
  {
   "cell_type": "markdown",
   "metadata": {},
   "source": [
    "#### Get the MV fractions from each partition "
   ]
  },
  {
   "cell_type": "code",
   "execution_count": 6,
   "metadata": {},
   "outputs": [
    {
     "name": "stdout",
     "output_type": "stream",
     "text": [
      "original mv frac:  0.0\n",
      "training mv frac:  0.26\n",
      "validation mv frac:  0.74\n"
     ]
    }
   ],
   "source": [
    "# get the missingness fractions\n",
    "orig_mv_frac = np.count_nonzero(np.isnan(comb_quants)) / comb_quants.size\n",
    "train_mv_frac = np.count_nonzero(np.isnan(train)) / train.size\n",
    "val_mv_frac = np.count_nonzero(np.isnan(val)) / val.size\n",
    "\n",
    "print(\"original mv frac: \", np.around(orig_mv_frac, decimals=2))\n",
    "print(\"training mv frac: \", np.around(train_mv_frac, decimals=2))\n",
    "print(\"validation mv frac: \", np.around(val_mv_frac, decimals=2))"
   ]
  },
  {
   "cell_type": "markdown",
   "metadata": {},
   "source": [
    "#### Plot the distribution of the partitions"
   ]
  },
  {
   "cell_type": "code",
   "execution_count": 7,
   "metadata": {},
   "outputs": [
    {
     "data": {
      "text/plain": [
       "Text(0, 0.5, 'Counts')"
      ]
     },
     "execution_count": 7,
     "metadata": {},
     "output_type": "execute_result"
    },
    {
     "data": {
      "image/png": "[encoded data removed]",
      "text/plain": [
       "<Figure size 432x288 with 1 Axes>"
      ]
     },
     "metadata": {},
     "output_type": "display_data"
    }
   ],
   "source": [
    "# flatten\n",
    "quants_rav = comb_quants.ravel()\n",
    "train_rav = train.ravel()\n",
    "val_rav = val.ravel()\n",
    "\n",
    "# get the present values from the original matrix\n",
    "p_quants_nans = np.isnan(quants_rav)\n",
    "p_quants_present = quants_rav[~p_quants_nans]\n",
    "\n",
    "# get present values from the training matrix\n",
    "train_nans = np.isnan(train_rav)\n",
    "train_present = train_rav[~train_nans]\n",
    "\n",
    "# get present values from the validation matrix\n",
    "val_nans = np.isnan(val_rav)\n",
    "val_present = val_rav[~val_nans]\n",
    "\n",
    "quants_max = np.max(p_quants_present)\n",
    "quants_min = np.min(p_quants_present)\n",
    "\n",
    "bins_range = np.arange(0, quants_max, 0.1)\n",
    "\n",
    "plt.figure()\n",
    "plt.hist(p_quants_present, density=False, bins=bins_range, linewidth=0.01,\n",
    "         color='cornflowerblue', edgecolor='cornflowerblue', alpha=1.0, label=\"original\")\n",
    "plt.hist(train_present, density=False, bins=bins_range, linewidth=0.01, \n",
    "         color='firebrick', edgecolor='firebrick', alpha=0.8, label=\"training\")\n",
    "plt.hist(val_present, density=False, bins=bins_range, linewidth=0.01,\n",
    "        color='olivedrab', edgecolor='olivedrab', alpha=0.8, label=\"validation\")\n",
    "\n",
    "plt.minorticks_off()\n",
    "\n",
    "plt.legend()\n",
    "plt.xlabel(\"Intensity\")\n",
    "plt.ylabel(\"Counts\")"
   ]
  },
  {
   "cell_type": "markdown",
   "metadata": {},
   "source": [
    "***"
   ]
  },
  {
   "cell_type": "markdown",
   "metadata": {},
   "source": [
    "#### NMF impute"
   ]
  },
  {
   "cell_type": "code",
   "execution_count": 8,
   "metadata": {},
   "outputs": [
    {
     "name": "stderr",
     "output_type": "stream",
     "text": [
      "  6%|▌         | 57/1000 [01:16<21:06,  1.34s/epoch]"
     ]
    },
    {
     "name": "stdout",
     "output_type": "stream",
     "text": [
      "early stopping triggered: standard criteria\n"
     ]
    },
    {
     "name": "stderr",
     "output_type": "stream",
     "text": [
      "\n"
     ]
    }
   ],
   "source": [
    "# init model \n",
    "nmf_model = GradNMFImputer(\n",
    "                n_rows = train.shape[0], \n",
    "                n_cols = train.shape[1], \n",
    "                n_factors=n_factors, \n",
    "                stopping_tol=tolerance,\n",
    "                train_batch_size=n_batches, \n",
    "                eval_batch_size=n_batches,\n",
    "                n_epochs=max_epochs, \n",
    "                loss_func=loss_func,\n",
    "                optimizer=torch.optim.Adam,\n",
    "                optimizer_kwargs={\"lr\": learning_rate},\n",
    "                non_negative=True,\n",
    "                rand_seed=rng.random(),\n",
    ")\n",
    "# fit and transform\n",
    "nmf_recon = nmf_model.fit_transform(train, val)\n",
    "nmf_full_recon = nmf_model.train_set_transform(train)"
   ]
  },
  {
   "cell_type": "markdown",
   "metadata": {},
   "source": [
    "#### Get sanity check plots"
   ]
  },
  {
   "cell_type": "code",
   "execution_count": 9,
   "metadata": {
    "scrolled": true
   },
   "outputs": [
    {
     "data": {
      "image/png": "[encoded data removed]",
      "text/plain": [
       "<Figure size 432x288 with 1 Axes>"
      ]
     },
     "metadata": {},
     "output_type": "display_data"
    },
    {
     "data": {
      "image/png": "[encoded data removed]",
      "text/plain": [
       "<Figure size 360x360 with 1 Axes>"
      ]
     },
     "metadata": {},
     "output_type": "display_data"
    },
    {
     "data": {
      "image/png": "[encoded data removed]",
      "text/plain": [
       "<Figure size 360x360 with 1 Axes>"
      ]
     },
     "metadata": {},
     "output_type": "display_data"
    }
   ],
   "source": [
    "intermediate_plots.plot_train_loss(\n",
    "            model=nmf_model, \n",
    "            PXD=\"SMTG\", \n",
    "            n_row_factors=nmf_model.n_row_factors,\n",
    "            n_col_factors=nmf_model._n_col_factors, \n",
    "            model_type=\"NMF\", \n",
    "            eval_loss=\"MSE\",\n",
    "            tail=None,\n",
    ")                   \n",
    "intermediate_plots.real_v_imputed_basic(\n",
    "            recon_mat=nmf_recon, \n",
    "            val_mat=val, \n",
    "            PXD=\"SMTG\",\n",
    "            row_factors=nmf_model.n_row_factors,\n",
    "            col_factors=nmf_model._n_col_factors,\n",
    "            model_type=\"NMF\",\n",
    "            log_transform=False,\n",
    "            tail=\"valid\",\n",
    ")\n",
    "intermediate_plots.real_v_imputed_basic(\n",
    "            recon_mat=nmf_full_recon,\n",
    "            val_mat=train,\n",
    "            PXD=\"SMTG\",\n",
    "            row_factors=nmf_model.n_row_factors,\n",
    "            col_factors=nmf_model._n_col_factors,\n",
    "            model_type=\"NMF\", \n",
    "            log_transform=False,\n",
    "            tail=\"train\",\n",
    ")"
   ]
  },
  {
   "cell_type": "markdown",
   "metadata": {},
   "source": [
    "## Gaussian random sample impute"
   ]
  },
  {
   "cell_type": "code",
   "execution_count": 11,
   "metadata": {},
   "outputs": [],
   "source": [
    "# get the column mins\n",
    "col_min = np.nanmin(train, axis=0)\n",
    "\n",
    "# get the mean and std of the entire training matrix\n",
    "train_mean = np.nanmean(train)\n",
    "train_sd = np.nanstd(train)\n",
    "\n",
    "# get the indicies of the MVs \n",
    "nan_idx = np.where(np.isnan(train))\n",
    "gsample_recon = train.copy()\n",
    "\n",
    "# how many total MVs? \n",
    "n_mv = len(nan_idx[0])\n",
    "\n",
    "# fill in the MVs with random draws \n",
    "gsample_recon[nan_idx] = rng.normal(\n",
    "                            loc=np.mean(col_min), \n",
    "                            scale=np.std(col_min), \n",
    "                            size=n_mv\n",
    ")\n",
    "\n",
    "# don't want negative values\n",
    "gsample_recon = np.abs(gsample_recon)"
   ]
  },
  {
   "cell_type": "markdown",
   "metadata": {},
   "source": [
    "#### Sample min impute"
   ]
  },
  {
   "cell_type": "code",
   "execution_count": 27,
   "metadata": {},
   "outputs": [],
   "source": [
    "col_min = np.nanmin(train, axis=0)\n",
    "nan_idx = np.where(np.isnan(train))\n",
    "min_recon = train.copy()\n",
    "# nan_idx[1] -> take index of column\n",
    "min_recon[nan_idx] = np.take(col_min, nan_idx[1]) "
   ]
  },
  {
   "cell_type": "markdown",
   "metadata": {},
   "source": [
    "***"
   ]
  },
  {
   "cell_type": "markdown",
   "metadata": {},
   "source": [
    "## Get the Precision Recall curve"
   ]
  },
  {
   "cell_type": "markdown",
   "metadata": {},
   "source": [
    "#### Get column cutoffs"
   ]
  },
  {
   "cell_type": "code",
   "execution_count": 28,
   "metadata": {},
   "outputs": [],
   "source": [
    "# for the NMF model \n",
    "cond1_recon_nmf = nmf_recon[:,0:cols_cutoff]\n",
    "cond2_recon_nmf = nmf_recon[:,cols_cutoff:]\n",
    "\n",
    "# for Gaussian sample\n",
    "cond1_recon_gsample = gsample_recon[:,0:cols_cutoff]\n",
    "cond2_recon_gsample = gsample_recon[:,cols_cutoff:]\n",
    "\n",
    "# for Sample min impute\n",
    "cond1_recon_min = min_recon[:,0:cols_cutoff]\n",
    "cond2_recon_min = min_recon[:,cols_cutoff:]"
   ]
  },
  {
   "cell_type": "markdown",
   "metadata": {},
   "source": [
    "#### Get the corrected p-values\n",
    "And the ground truth labels"
   ]
  },
  {
   "cell_type": "code",
   "execution_count": 29,
   "metadata": {},
   "outputs": [],
   "source": [
    "r, cp_vals_nmf = util_functions.find_DE_peptides(\n",
    "                        cond1_recon_nmf, cond2_recon_nmf, \n",
    "                        correction, alpha_=alpha)\n",
    "r, cp_vals_gsample = util_functions.find_DE_peptides(\n",
    "                        cond1_recon_gsample, cond2_recon_gsample, \n",
    "                        correction, alpha_=alpha)\n",
    "r, cp_vals_min = util_functions.find_DE_peptides(\n",
    "                        cond1_recon_min, cond2_recon_min, \n",
    "                        correction, alpha_=alpha)\n",
    "\n",
    "# the ground truth labels. True means DE peptide, False means not\n",
    "gt_labels = reject_null_gt.astype(float)"
   ]
  },
  {
   "cell_type": "markdown",
   "metadata": {},
   "source": [
    "#### Get the DE probabilities"
   ]
  },
  {
   "cell_type": "code",
   "execution_count": 31,
   "metadata": {},
   "outputs": [],
   "source": [
    "prob_true_nmf = 1 - cp_vals_nmf\n",
    "prob_true_gsample = 1 - cp_vals_gsample\n",
    "prob_true_min = 1 - cp_vals_min"
   ]
  },
  {
   "cell_type": "markdown",
   "metadata": {},
   "source": [
    "#### Get the Precision Recall stats"
   ]
  },
  {
   "cell_type": "code",
   "execution_count": 32,
   "metadata": {},
   "outputs": [],
   "source": [
    "pr_nmf, recall_nmf, t = precision_recall_curve(\n",
    "                        y_true=gt_labels, probas_pred=prob_true_nmf)\n",
    "pr_gsample, recall_gsample, t = precision_recall_curve(\n",
    "                        y_true=gt_labels, probas_pred=prob_true_gsample)\n",
    "pr_min, recall_min, t = precision_recall_curve(\n",
    "                        y_true=gt_labels, probas_pred=prob_true_min)\n",
    "\n",
    "# get the AUCs\n",
    "nmf_auc = np.around(auc(recall_nmf, pr_nmf), 2)\n",
    "gsample_auc = np.around(auc(recall_gsample, pr_gsample), 2)\n",
    "min_auc = np.around(auc(recall_min, pr_min), 2)"
   ]
  },
  {
   "cell_type": "code",
   "execution_count": 33,
   "metadata": {},
   "outputs": [
    {
     "name": "stdout",
     "output_type": "stream",
     "text": [
      "17957\n",
      "17957\n",
      "13485\n",
      "13485\n",
      "13383\n",
      "13383\n"
     ]
    }
   ],
   "source": [
    "print(len(pr_nmf))\n",
    "print(len(recall_nmf))\n",
    "\n",
    "print(len(pr_gsample))\n",
    "print(len(recall_gsample))\n",
    "\n",
    "print(len(pr_min))\n",
    "print(len(recall_min))"
   ]
  },
  {
   "cell_type": "markdown",
   "metadata": {},
   "source": [
    "#### Create a Precision Recall results dataframe"
   ]
  },
  {
   "cell_type": "code",
   "execution_count": 34,
   "metadata": {},
   "outputs": [
    {
     "data": {
      "text/html": [
       "<div>\n",
       "<style scoped>\n",
       "    .dataframe tbody tr th:only-of-type {\n",
       "        vertical-align: middle;\n",
       "    }\n",
       "\n",
       "    .dataframe tbody tr th {\n",
       "        vertical-align: top;\n",
       "    }\n",
       "\n",
       "    .dataframe thead th {\n",
       "        text-align: right;\n",
       "    }\n",
       "</style>\n",
       "<table border=\"1\" class=\"dataframe\">\n",
       "  <thead>\n",
       "    <tr style=\"text-align: right;\">\n",
       "      <th></th>\n",
       "      <th>NMF precision</th>\n",
       "      <th>kNN precision</th>\n",
       "      <th>missForest precision</th>\n",
       "      <th>Sample min precision</th>\n",
       "      <th>Gaussian sample precision</th>\n",
       "      <th>No impute precision</th>\n",
       "      <th>NMF recall</th>\n",
       "      <th>kNN recall</th>\n",
       "      <th>missForest recall</th>\n",
       "      <th>Sample min recall</th>\n",
       "      <th>Gaussian sample recall</th>\n",
       "      <th>No impute recall</th>\n",
       "      <th>NMF AUC</th>\n",
       "      <th>kNN AUC</th>\n",
       "      <th>missForest AUC</th>\n",
       "      <th>Sample min AUC</th>\n",
       "      <th>Gaussian sample AUC</th>\n",
       "      <th>No impute AUC</th>\n",
       "    </tr>\n",
       "  </thead>\n",
       "  <tbody>\n",
       "  </tbody>\n",
       "</table>\n",
       "</div>"
      ],
      "text/plain": [
       "Empty DataFrame\n",
       "Columns: [NMF precision, kNN precision, missForest precision, Sample min precision, Gaussian sample precision, No impute precision, NMF recall, kNN recall, missForest recall, Sample min recall, Gaussian sample recall, No impute recall, NMF AUC, kNN AUC, missForest AUC, Sample min AUC, Gaussian sample AUC, No impute AUC]\n",
       "Index: []"
      ]
     },
     "execution_count": 34,
     "metadata": {},
     "output_type": "execute_result"
    }
   ],
   "source": [
    "# Save the Precision Recall results to a dataframe\n",
    "cols = [\"NMF precision\", \"kNN precision\", \"missForest precision\", \n",
    "        \"Sample min precision\", \"Gaussian sample precision\", \n",
    "        \"No impute precision\", \"NMF recall\", \"kNN recall\", \n",
    "        \"missForest recall\", \"Sample min recall\",\n",
    "        \"Gaussian sample recall\", \"No impute recall\", \n",
    "        \"NMF AUC\", \"kNN AUC\", \"missForest AUC\", \n",
    "        \"Sample min AUC\", \"Gaussian sample AUC\", \"No impute AUC\"]\n",
    "\n",
    "pr_results_df = pd.DataFrame(columns = cols)\n",
    "pr_results_df"
   ]
  },
  {
   "cell_type": "code",
   "execution_count": 59,
   "metadata": {},
   "outputs": [],
   "source": [
    "# get the max length of any PR results array\n",
    "max_len = np.max([len(pr_nmf), len(pr_gsample), len(pr_min)])\n",
    "\n",
    "# figure out how many NaNs to add to each array\n",
    "nmf_n_toadd = max_len - len(pr_nmf)\n",
    "gsamp_n_toadd = max_len - len(pr_gsample)\n",
    "min_n_toadd = max_len - len(pr_min)\n",
    "\n",
    "# generate NaN arrays\n",
    "nmf_toadd = np.zeros(nmf_n_toadd)\n",
    "nmf_toadd[:] = np.nan\n",
    "\n",
    "gsamp_toadd = np.zeros(gsamp_n_toadd)\n",
    "gsamp_toadd[:] = np.nan\n",
    "\n",
    "min_toadd = np.zeros(min_n_toadd)\n",
    "min_toadd[:] = np.nan\n",
    "\n",
    "# make additions\n",
    "pr_nmf = list(pr_nmf) + list(nmf_toadd)\n",
    "pr_gsample = list(pr_gsample) + list(gsamp_toadd)\n",
    "pr_min = list(pr_min) + list(min_toadd)"
   ]
  },
  {
   "cell_type": "code",
   "execution_count": 60,
   "metadata": {},
   "outputs": [],
   "source": [
    "pr_results_df[\"NMF precision\"] = pr_nmf\n",
    "pr_results_df[\"Gaussian sample precision\"] = pr_gsample\n",
    "pr_results_df[\"Sample min precision\"] = pr_min"
   ]
  },
  {
   "cell_type": "code",
   "execution_count": 61,
   "metadata": {},
   "outputs": [
    {
     "data": {
      "text/html": [
       "<div>\n",
       "<style scoped>\n",
       "    .dataframe tbody tr th:only-of-type {\n",
       "        vertical-align: middle;\n",
       "    }\n",
       "\n",
       "    .dataframe tbody tr th {\n",
       "        vertical-align: top;\n",
       "    }\n",
       "\n",
       "    .dataframe thead th {\n",
       "        text-align: right;\n",
       "    }\n",
       "</style>\n",
       "<table border=\"1\" class=\"dataframe\">\n",
       "  <thead>\n",
       "    <tr style=\"text-align: right;\">\n",
       "      <th></th>\n",
       "      <th>NMF precision</th>\n",
       "      <th>kNN precision</th>\n",
       "      <th>missForest precision</th>\n",
       "      <th>Sample min precision</th>\n",
       "      <th>Gaussian sample precision</th>\n",
       "      <th>No impute precision</th>\n",
       "      <th>NMF recall</th>\n",
       "      <th>kNN recall</th>\n",
       "      <th>missForest recall</th>\n",
       "      <th>Sample min recall</th>\n",
       "      <th>Gaussian sample recall</th>\n",
       "      <th>No impute recall</th>\n",
       "      <th>NMF AUC</th>\n",
       "      <th>kNN AUC</th>\n",
       "      <th>missForest AUC</th>\n",
       "      <th>Sample min AUC</th>\n",
       "      <th>Gaussian sample AUC</th>\n",
       "      <th>No impute AUC</th>\n",
       "    </tr>\n",
       "  </thead>\n",
       "  <tbody>\n",
       "    <tr>\n",
       "      <th>0</th>\n",
       "      <td>0.086610</td>\n",
       "      <td>NaN</td>\n",
       "      <td>NaN</td>\n",
       "      <td>0.084315</td>\n",
       "      <td>0.084289</td>\n",
       "      <td>NaN</td>\n",
       "      <td>1.000000</td>\n",
       "      <td>NaN</td>\n",
       "      <td>NaN</td>\n",
       "      <td>NaN</td>\n",
       "      <td>NaN</td>\n",
       "      <td>NaN</td>\n",
       "      <td>NaN</td>\n",
       "      <td>NaN</td>\n",
       "      <td>NaN</td>\n",
       "      <td>NaN</td>\n",
       "      <td>NaN</td>\n",
       "      <td>NaN</td>\n",
       "    </tr>\n",
       "    <tr>\n",
       "      <th>1</th>\n",
       "      <td>0.086587</td>\n",
       "      <td>NaN</td>\n",
       "      <td>NaN</td>\n",
       "      <td>0.084294</td>\n",
       "      <td>0.084261</td>\n",
       "      <td>NaN</td>\n",
       "      <td>0.999636</td>\n",
       "      <td>NaN</td>\n",
       "      <td>NaN</td>\n",
       "      <td>NaN</td>\n",
       "      <td>NaN</td>\n",
       "      <td>NaN</td>\n",
       "      <td>NaN</td>\n",
       "      <td>NaN</td>\n",
       "      <td>NaN</td>\n",
       "      <td>NaN</td>\n",
       "      <td>NaN</td>\n",
       "      <td>NaN</td>\n",
       "    </tr>\n",
       "    <tr>\n",
       "      <th>2</th>\n",
       "      <td>0.086617</td>\n",
       "      <td>NaN</td>\n",
       "      <td>NaN</td>\n",
       "      <td>0.084297</td>\n",
       "      <td>0.084263</td>\n",
       "      <td>NaN</td>\n",
       "      <td>0.999636</td>\n",
       "      <td>NaN</td>\n",
       "      <td>NaN</td>\n",
       "      <td>NaN</td>\n",
       "      <td>NaN</td>\n",
       "      <td>NaN</td>\n",
       "      <td>NaN</td>\n",
       "      <td>NaN</td>\n",
       "      <td>NaN</td>\n",
       "      <td>NaN</td>\n",
       "      <td>NaN</td>\n",
       "      <td>NaN</td>\n",
       "    </tr>\n",
       "    <tr>\n",
       "      <th>3</th>\n",
       "      <td>0.086619</td>\n",
       "      <td>NaN</td>\n",
       "      <td>NaN</td>\n",
       "      <td>0.084300</td>\n",
       "      <td>0.084271</td>\n",
       "      <td>NaN</td>\n",
       "      <td>0.999636</td>\n",
       "      <td>NaN</td>\n",
       "      <td>NaN</td>\n",
       "      <td>NaN</td>\n",
       "      <td>NaN</td>\n",
       "      <td>NaN</td>\n",
       "      <td>NaN</td>\n",
       "      <td>NaN</td>\n",
       "      <td>NaN</td>\n",
       "      <td>NaN</td>\n",
       "      <td>NaN</td>\n",
       "      <td>NaN</td>\n",
       "    </tr>\n",
       "    <tr>\n",
       "      <th>4</th>\n",
       "      <td>0.086622</td>\n",
       "      <td>NaN</td>\n",
       "      <td>NaN</td>\n",
       "      <td>0.084336</td>\n",
       "      <td>0.084243</td>\n",
       "      <td>NaN</td>\n",
       "      <td>0.999636</td>\n",
       "      <td>NaN</td>\n",
       "      <td>NaN</td>\n",
       "      <td>NaN</td>\n",
       "      <td>NaN</td>\n",
       "      <td>NaN</td>\n",
       "      <td>NaN</td>\n",
       "      <td>NaN</td>\n",
       "      <td>NaN</td>\n",
       "      <td>NaN</td>\n",
       "      <td>NaN</td>\n",
       "      <td>NaN</td>\n",
       "    </tr>\n",
       "    <tr>\n",
       "      <th>...</th>\n",
       "      <td>...</td>\n",
       "      <td>...</td>\n",
       "      <td>...</td>\n",
       "      <td>...</td>\n",
       "      <td>...</td>\n",
       "      <td>...</td>\n",
       "      <td>...</td>\n",
       "      <td>...</td>\n",
       "      <td>...</td>\n",
       "      <td>...</td>\n",
       "      <td>...</td>\n",
       "      <td>...</td>\n",
       "      <td>...</td>\n",
       "      <td>...</td>\n",
       "      <td>...</td>\n",
       "      <td>...</td>\n",
       "      <td>...</td>\n",
       "      <td>...</td>\n",
       "    </tr>\n",
       "    <tr>\n",
       "      <th>17952</th>\n",
       "      <td>1.000000</td>\n",
       "      <td>NaN</td>\n",
       "      <td>NaN</td>\n",
       "      <td>NaN</td>\n",
       "      <td>NaN</td>\n",
       "      <td>NaN</td>\n",
       "      <td>0.004001</td>\n",
       "      <td>NaN</td>\n",
       "      <td>NaN</td>\n",
       "      <td>NaN</td>\n",
       "      <td>NaN</td>\n",
       "      <td>NaN</td>\n",
       "      <td>NaN</td>\n",
       "      <td>NaN</td>\n",
       "      <td>NaN</td>\n",
       "      <td>NaN</td>\n",
       "      <td>NaN</td>\n",
       "      <td>NaN</td>\n",
       "    </tr>\n",
       "    <tr>\n",
       "      <th>17953</th>\n",
       "      <td>1.000000</td>\n",
       "      <td>NaN</td>\n",
       "      <td>NaN</td>\n",
       "      <td>NaN</td>\n",
       "      <td>NaN</td>\n",
       "      <td>NaN</td>\n",
       "      <td>0.003274</td>\n",
       "      <td>NaN</td>\n",
       "      <td>NaN</td>\n",
       "      <td>NaN</td>\n",
       "      <td>NaN</td>\n",
       "      <td>NaN</td>\n",
       "      <td>NaN</td>\n",
       "      <td>NaN</td>\n",
       "      <td>NaN</td>\n",
       "      <td>NaN</td>\n",
       "      <td>NaN</td>\n",
       "      <td>NaN</td>\n",
       "    </tr>\n",
       "    <tr>\n",
       "      <th>17954</th>\n",
       "      <td>1.000000</td>\n",
       "      <td>NaN</td>\n",
       "      <td>NaN</td>\n",
       "      <td>NaN</td>\n",
       "      <td>NaN</td>\n",
       "      <td>NaN</td>\n",
       "      <td>0.002910</td>\n",
       "      <td>NaN</td>\n",
       "      <td>NaN</td>\n",
       "      <td>NaN</td>\n",
       "      <td>NaN</td>\n",
       "      <td>NaN</td>\n",
       "      <td>NaN</td>\n",
       "      <td>NaN</td>\n",
       "      <td>NaN</td>\n",
       "      <td>NaN</td>\n",
       "      <td>NaN</td>\n",
       "      <td>NaN</td>\n",
       "    </tr>\n",
       "    <tr>\n",
       "      <th>17955</th>\n",
       "      <td>1.000000</td>\n",
       "      <td>NaN</td>\n",
       "      <td>NaN</td>\n",
       "      <td>NaN</td>\n",
       "      <td>NaN</td>\n",
       "      <td>NaN</td>\n",
       "      <td>0.002546</td>\n",
       "      <td>NaN</td>\n",
       "      <td>NaN</td>\n",
       "      <td>NaN</td>\n",
       "      <td>NaN</td>\n",
       "      <td>NaN</td>\n",
       "      <td>NaN</td>\n",
       "      <td>NaN</td>\n",
       "      <td>NaN</td>\n",
       "      <td>NaN</td>\n",
       "      <td>NaN</td>\n",
       "      <td>NaN</td>\n",
       "    </tr>\n",
       "    <tr>\n",
       "      <th>17956</th>\n",
       "      <td>1.000000</td>\n",
       "      <td>NaN</td>\n",
       "      <td>NaN</td>\n",
       "      <td>NaN</td>\n",
       "      <td>NaN</td>\n",
       "      <td>NaN</td>\n",
       "      <td>0.000000</td>\n",
       "      <td>NaN</td>\n",
       "      <td>NaN</td>\n",
       "      <td>NaN</td>\n",
       "      <td>NaN</td>\n",
       "      <td>NaN</td>\n",
       "      <td>NaN</td>\n",
       "      <td>NaN</td>\n",
       "      <td>NaN</td>\n",
       "      <td>NaN</td>\n",
       "      <td>NaN</td>\n",
       "      <td>NaN</td>\n",
       "    </tr>\n",
       "  </tbody>\n",
       "</table>\n",
       "<p>17957 rows × 18 columns</p>\n",
       "</div>"
      ],
      "text/plain": [
       "       NMF precision kNN precision missForest precision  Sample min precision  \\\n",
       "0           0.086610           NaN                  NaN              0.084315   \n",
       "1           0.086587           NaN                  NaN              0.084294   \n",
       "2           0.086617           NaN                  NaN              0.084297   \n",
       "3           0.086619           NaN                  NaN              0.084300   \n",
       "4           0.086622           NaN                  NaN              0.084336   \n",
       "...              ...           ...                  ...                   ...   \n",
       "17952       1.000000           NaN                  NaN                   NaN   \n",
       "17953       1.000000           NaN                  NaN                   NaN   \n",
       "17954       1.000000           NaN                  NaN                   NaN   \n",
       "17955       1.000000           NaN                  NaN                   NaN   \n",
       "17956       1.000000           NaN                  NaN                   NaN   \n",
       "\n",
       "       Gaussian sample precision No impute precision  NMF recall kNN recall  \\\n",
       "0                       0.084289                 NaN    1.000000        NaN   \n",
       "1                       0.084261                 NaN    0.999636        NaN   \n",
       "2                       0.084263                 NaN    0.999636        NaN   \n",
       "3                       0.084271                 NaN    0.999636        NaN   \n",
       "4                       0.084243                 NaN    0.999636        NaN   \n",
       "...                          ...                 ...         ...        ...   \n",
       "17952                        NaN                 NaN    0.004001        NaN   \n",
       "17953                        NaN                 NaN    0.003274        NaN   \n",
       "17954                        NaN                 NaN    0.002910        NaN   \n",
       "17955                        NaN                 NaN    0.002546        NaN   \n",
       "17956                        NaN                 NaN    0.000000        NaN   \n",
       "\n",
       "      missForest recall Sample min recall Gaussian sample recall  \\\n",
       "0                   NaN               NaN                    NaN   \n",
       "1                   NaN               NaN                    NaN   \n",
       "2                   NaN               NaN                    NaN   \n",
       "3                   NaN               NaN                    NaN   \n",
       "4                   NaN               NaN                    NaN   \n",
       "...                 ...               ...                    ...   \n",
       "17952               NaN               NaN                    NaN   \n",
       "17953               NaN               NaN                    NaN   \n",
       "17954               NaN               NaN                    NaN   \n",
       "17955               NaN               NaN                    NaN   \n",
       "17956               NaN               NaN                    NaN   \n",
       "\n",
       "      No impute recall NMF AUC kNN AUC missForest AUC Sample min AUC  \\\n",
       "0                  NaN     NaN     NaN            NaN            NaN   \n",
       "1                  NaN     NaN     NaN            NaN            NaN   \n",
       "2                  NaN     NaN     NaN            NaN            NaN   \n",
       "3                  NaN     NaN     NaN            NaN            NaN   \n",
       "4                  NaN     NaN     NaN            NaN            NaN   \n",
       "...                ...     ...     ...            ...            ...   \n",
       "17952              NaN     NaN     NaN            NaN            NaN   \n",
       "17953              NaN     NaN     NaN            NaN            NaN   \n",
       "17954              NaN     NaN     NaN            NaN            NaN   \n",
       "17955              NaN     NaN     NaN            NaN            NaN   \n",
       "17956              NaN     NaN     NaN            NaN            NaN   \n",
       "\n",
       "      Gaussian sample AUC No impute AUC  \n",
       "0                     NaN           NaN  \n",
       "1                     NaN           NaN  \n",
       "2                     NaN           NaN  \n",
       "3                     NaN           NaN  \n",
       "4                     NaN           NaN  \n",
       "...                   ...           ...  \n",
       "17952                 NaN           NaN  \n",
       "17953                 NaN           NaN  \n",
       "17954                 NaN           NaN  \n",
       "17955                 NaN           NaN  \n",
       "17956                 NaN           NaN  \n",
       "\n",
       "[17957 rows x 18 columns]"
      ]
     },
     "execution_count": 61,
     "metadata": {},
     "output_type": "execute_result"
    }
   ],
   "source": [
    "pr_results_df"
   ]
  },
  {
   "cell_type": "code",
   "execution_count": null,
   "metadata": {},
   "outputs": [],
   "source": []
  }
 ],
 "metadata": {
  "kernelspec": {
   "display_name": "ms-impute-trim",
   "language": "python",
   "name": "ms-impute-trim"
  },
  "language_info": {
   "codemirror_mode": {
    "name": "ipython",
    "version": 3
   },
   "file_extension": ".py",
   "mimetype": "text/x-python",
   "name": "python",
   "nbconvert_exporter": "python",
   "pygments_lexer": "ipython3",
   "version": "3.7.12"
  }
 },
 "nbformat": 4,
 "nbformat_minor": 4
}
