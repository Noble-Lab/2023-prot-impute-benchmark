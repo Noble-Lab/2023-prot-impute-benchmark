{
 "cells": [
  {
   "cell_type": "markdown",
   "metadata": {},
   "source": [
    "# get-dataset-characteristics-updated\n",
    "2.10.23\n",
    "\n",
    "A more sophisticated and reproducible version of the original `get-dataset-characteristics.ipynb` notebook. \n",
    "One question I have is how different are the matrices in the `data/peptides_data/` subdir vs `data/maxquant-peptides`, for example. Are the missingness fractions significantly different? "
   ]
  },
  {
   "cell_type": "code",
   "execution_count": 1,
   "metadata": {},
   "outputs": [],
   "source": [
    "import pandas as pd\n",
    "import numpy as np"
   ]
  },
  {
   "cell_type": "markdown",
   "metadata": {},
   "source": [
    "#### Configs"
   ]
  },
  {
   "cell_type": "code",
   "execution_count": 2,
   "metadata": {},
   "outputs": [],
   "source": [
    "processed_data_path = \"../../../../data/peptides-data/\"\n",
    "pxds = \\\n",
    "    [\"PXD013792\", \"PXD014156\", \"PXD006348\", \"PXD011961\", \n",
    "     \"PXD014525\", \"PXD016079\", \"PXD006109\", \"PXD014525\", \n",
    "     \"PXD034525\", \"PXD014815\", \"Satpathy2020\", \n",
    "     \"Petralia2020\", \"PXD007683\"]"
   ]
  },
  {
   "cell_type": "markdown",
   "metadata": {},
   "source": [
    "#### Init the dataset characteristics dataframe"
   ]
  },
  {
   "cell_type": "code",
   "execution_count": 3,
   "metadata": {},
   "outputs": [],
   "source": [
    "cols = [\"PXD\", \"n samples\", \"n peptides\", \"n present\", \"n missing\", \"mv frac\"]\n",
    "dataset_stats = pd.DataFrame(columns=cols)\n",
    "\n",
    "dataset_stats[\"PXD\"] = pxds"
   ]
  },
  {
   "cell_type": "markdown",
   "metadata": {},
   "source": [
    "#### Loop through every dataset, store results"
   ]
  },
  {
   "cell_type": "code",
   "execution_count": 4,
   "metadata": {
    "scrolled": true
   },
   "outputs": [],
   "source": [
    "i = 0\n",
    "for pxd in pxds:\n",
    "    df = pd.read_csv(processed_data_path + pxd + \"_peptides.csv\")\n",
    "    \n",
    "    df[df==0.0] = np.nan\n",
    "    n_nans = np.count_nonzero(np.isnan(df))\n",
    "    n_present = df.size - n_nans\n",
    "    mv_frac = np.around(n_nans / df.size, 3)\n",
    "    \n",
    "    dataset_stats.loc[i, \"n missing\"] = n_nans\n",
    "    dataset_stats.loc[i, \"n present\"] = n_present\n",
    "    dataset_stats.loc[i, \"n samples\"] = df.shape[1]\n",
    "    dataset_stats.loc[i, \"n peptides\"] = df.shape[0]\n",
    "    dataset_stats.loc[i, \"mv frac\"] = mv_frac\n",
    "    \n",
    "    i += 1"
   ]
  },
  {
   "cell_type": "code",
   "execution_count": 5,
   "metadata": {},
   "outputs": [
    {
     "data": {
      "text/html": [
       "<div>\n",
       "<style scoped>\n",
       "    .dataframe tbody tr th:only-of-type {\n",
       "        vertical-align: middle;\n",
       "    }\n",
       "\n",
       "    .dataframe tbody tr th {\n",
       "        vertical-align: top;\n",
       "    }\n",
       "\n",
       "    .dataframe thead th {\n",
       "        text-align: right;\n",
       "    }\n",
       "</style>\n",
       "<table border=\"1\" class=\"dataframe\">\n",
       "  <thead>\n",
       "    <tr style=\"text-align: right;\">\n",
       "      <th></th>\n",
       "      <th>PXD</th>\n",
       "      <th>n samples</th>\n",
       "      <th>n peptides</th>\n",
       "      <th>n present</th>\n",
       "      <th>n missing</th>\n",
       "      <th>mv frac</th>\n",
       "    </tr>\n",
       "  </thead>\n",
       "  <tbody>\n",
       "    <tr>\n",
       "      <th>0</th>\n",
       "      <td>PXD013792</td>\n",
       "      <td>12</td>\n",
       "      <td>2224</td>\n",
       "      <td>7373</td>\n",
       "      <td>19315</td>\n",
       "      <td>0.724</td>\n",
       "    </tr>\n",
       "    <tr>\n",
       "      <th>1</th>\n",
       "      <td>PXD014156</td>\n",
       "      <td>20</td>\n",
       "      <td>697</td>\n",
       "      <td>6263</td>\n",
       "      <td>7677</td>\n",
       "      <td>0.551</td>\n",
       "    </tr>\n",
       "    <tr>\n",
       "      <th>2</th>\n",
       "      <td>PXD006348</td>\n",
       "      <td>24</td>\n",
       "      <td>10362</td>\n",
       "      <td>70307</td>\n",
       "      <td>178381</td>\n",
       "      <td>0.717</td>\n",
       "    </tr>\n",
       "    <tr>\n",
       "      <th>3</th>\n",
       "      <td>PXD011961</td>\n",
       "      <td>23</td>\n",
       "      <td>23415</td>\n",
       "      <td>290232</td>\n",
       "      <td>248313</td>\n",
       "      <td>0.461</td>\n",
       "    </tr>\n",
       "    <tr>\n",
       "      <th>4</th>\n",
       "      <td>PXD014525</td>\n",
       "      <td>36</td>\n",
       "      <td>17208</td>\n",
       "      <td>47224</td>\n",
       "      <td>572264</td>\n",
       "      <td>0.924</td>\n",
       "    </tr>\n",
       "    <tr>\n",
       "      <th>5</th>\n",
       "      <td>PXD016079</td>\n",
       "      <td>31</td>\n",
       "      <td>32999</td>\n",
       "      <td>560332</td>\n",
       "      <td>462637</td>\n",
       "      <td>0.452</td>\n",
       "    </tr>\n",
       "    <tr>\n",
       "      <th>6</th>\n",
       "      <td>PXD006109</td>\n",
       "      <td>20</td>\n",
       "      <td>38124</td>\n",
       "      <td>637008</td>\n",
       "      <td>125472</td>\n",
       "      <td>0.165</td>\n",
       "    </tr>\n",
       "    <tr>\n",
       "      <th>7</th>\n",
       "      <td>PXD014525</td>\n",
       "      <td>36</td>\n",
       "      <td>17208</td>\n",
       "      <td>47224</td>\n",
       "      <td>572264</td>\n",
       "      <td>0.924</td>\n",
       "    </tr>\n",
       "    <tr>\n",
       "      <th>8</th>\n",
       "      <td>PXD034525</td>\n",
       "      <td>10</td>\n",
       "      <td>40346</td>\n",
       "      <td>352593</td>\n",
       "      <td>50867</td>\n",
       "      <td>0.126</td>\n",
       "    </tr>\n",
       "    <tr>\n",
       "      <th>9</th>\n",
       "      <td>PXD014815</td>\n",
       "      <td>42</td>\n",
       "      <td>24204</td>\n",
       "      <td>726182</td>\n",
       "      <td>290386</td>\n",
       "      <td>0.286</td>\n",
       "    </tr>\n",
       "    <tr>\n",
       "      <th>10</th>\n",
       "      <td>Satpathy2020</td>\n",
       "      <td>35</td>\n",
       "      <td>291317</td>\n",
       "      <td>6064382</td>\n",
       "      <td>4131713</td>\n",
       "      <td>0.405</td>\n",
       "    </tr>\n",
       "    <tr>\n",
       "      <th>11</th>\n",
       "      <td>Petralia2020</td>\n",
       "      <td>226</td>\n",
       "      <td>110739</td>\n",
       "      <td>11217284</td>\n",
       "      <td>13809730</td>\n",
       "      <td>0.552</td>\n",
       "    </tr>\n",
       "    <tr>\n",
       "      <th>12</th>\n",
       "      <td>PXD007683</td>\n",
       "      <td>11</td>\n",
       "      <td>38921</td>\n",
       "      <td>428127</td>\n",
       "      <td>4</td>\n",
       "      <td>0.0</td>\n",
       "    </tr>\n",
       "  </tbody>\n",
       "</table>\n",
       "</div>"
      ],
      "text/plain": [
       "             PXD n samples n peptides n present n missing mv frac\n",
       "0      PXD013792        12       2224      7373     19315   0.724\n",
       "1      PXD014156        20        697      6263      7677   0.551\n",
       "2      PXD006348        24      10362     70307    178381   0.717\n",
       "3      PXD011961        23      23415    290232    248313   0.461\n",
       "4      PXD014525        36      17208     47224    572264   0.924\n",
       "5      PXD016079        31      32999    560332    462637   0.452\n",
       "6      PXD006109        20      38124    637008    125472   0.165\n",
       "7      PXD014525        36      17208     47224    572264   0.924\n",
       "8      PXD034525        10      40346    352593     50867   0.126\n",
       "9      PXD014815        42      24204    726182    290386   0.286\n",
       "10  Satpathy2020        35     291317   6064382   4131713   0.405\n",
       "11  Petralia2020       226     110739  11217284  13809730   0.552\n",
       "12     PXD007683        11      38921    428127         4     0.0"
      ]
     },
     "execution_count": 5,
     "metadata": {},
     "output_type": "execute_result"
    }
   ],
   "source": [
    "dataset_stats"
   ]
  },
  {
   "cell_type": "code",
   "execution_count": null,
   "metadata": {},
   "outputs": [],
   "source": []
  }
 ],
 "metadata": {
  "kernelspec": {
   "display_name": "ms-impute-trim",
   "language": "python",
   "name": "ms-impute-trim"
  },
  "language_info": {
   "codemirror_mode": {
    "name": "ipython",
    "version": 3
   },
   "file_extension": ".py",
   "mimetype": "text/x-python",
   "name": "python",
   "nbconvert_exporter": "python",
   "pygments_lexer": "ipython3",
   "version": "3.7.12"
  }
 },
 "nbformat": 4,
 "nbformat_minor": 4
}
