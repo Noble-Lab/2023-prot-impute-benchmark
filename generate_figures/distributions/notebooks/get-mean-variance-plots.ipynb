{
 "cells": [
  {
   "cell_type": "markdown",
   "metadata": {},
   "source": [
    "# get-mean-variance-plots\n",
    "2.9.23    \n",
    "Updating this, should be working now. This notebook plots the relationship between mean and variance of peptides for sets of replicate runs. This figure may or may not make it into the publication. Best to have working code either way. \n",
    "\n",
    "Note that this is really slow. Currently set up to generate a plot with three datasets: PXD016079, PXD006109, and PXD014525. But running all three will take forever. A \"test\" mode\n",
    "is to just run for a single dataset. For the sake of testing, could make a trimmed version of each dataset. \n",
    "\n",
    "Plotting non-logged and logged quants side-by-side. \n",
    "\n",
    "Adding in the SMTG DIA AD peptide quants dataset in here. This is PXD034525. "
   ]
  },
  {
   "cell_type": "code",
   "execution_count": 1,
   "metadata": {},
   "outputs": [],
   "source": [
    "import pandas as pd\n",
    "import numpy as np\n",
    "import sys\n",
    "import os\n",
    "import seaborn as sns\n",
    "import matplotlib.pyplot as plt\n",
    "\n",
    "# plotting templates\n",
    "sns.set(context=\"talk\", style=\"ticks\") \n",
    "sns.set_palette(\"tab10\")"
   ]
  },
  {
   "cell_type": "markdown",
   "metadata": {},
   "source": [
    "#### Configs"
   ]
  },
  {
   "cell_type": "code",
   "execution_count": 2,
   "metadata": {},
   "outputs": [],
   "source": [
    "# main \n",
    "stem = \"../../../../../data/peptides-data/\"\n",
    "\n",
    "# n_replicates = [3,5,6,10]\n",
    "# pxds = [\"PXD016079\", \"PXD034525\", \"PXD014525\", \"PXD006109\"]\n",
    "\n",
    "n_replicates = [10]\n",
    "pxds = [\"PXD006109\"]"
   ]
  },
  {
   "cell_type": "markdown",
   "metadata": {},
   "source": [
    "#### Helper funcs"
   ]
  },
  {
   "cell_type": "code",
   "execution_count": 3,
   "metadata": {},
   "outputs": [],
   "source": [
    "def get_mean_var_std(df, n_replicates):\n",
    "    \"\"\" \n",
    "    For the intensity cols of a single MaxQuant dataframe, break down\n",
    "    column-wise according to the number of replicates in the matrix, \n",
    "    then get means and variances for each peptide, for each replicate.\n",
    "    Also get peptide standard deviations. \n",
    "        \n",
    "    Assumes columns are in sorted order! as in, the replicate runs are\n",
    "    next to one another. \n",
    "    \n",
    "    Parameters\n",
    "    ----------\n",
    "    df: Matrix of intensity vals, for a single PRIDE experiment\n",
    "    n_replicates: Number of replicates for each run within that PRIDE\n",
    "                    experiment\n",
    "    \n",
    "    Returns\n",
    "    -------\n",
    "    all_means_flat: Flattened (1D) array of all peptide means\n",
    "    all_vars_flat: Flattened (1D) array of all peptide variances\n",
    "    all_stds_flat: Flattened (1D) array of all peptide standard deviations\n",
    "    \"\"\"\n",
    "    \n",
    "    cols = list(df.columns)\n",
    "    r_split_cols = [cols[i:i+n_replicates] for i in range(0,len(cols), n_replicates)]\n",
    "\n",
    "    all_means = []\n",
    "    all_vars = []\n",
    "    all_stds = []\n",
    "    \n",
    "    # loop through row-wise\n",
    "    for i in df.index:\n",
    "        peptide_means = []\n",
    "        peptide_vars = []\n",
    "        peptide_stds = []\n",
    "    \n",
    "        # for every set of replicate runs\n",
    "        for j in range(0,len(r_split_cols)):\n",
    "            rep_df = df[r_split_cols[j]] # 2x check this bit\n",
    "            peptide_mean = np.nanmean(rep_df.iloc[i])\n",
    "            peptide_var = np.nanvar(rep_df.iloc[i])\n",
    "            peptide_std = np.nanstd(rep_df.iloc[i])\n",
    "        \n",
    "            peptide_means.append(peptide_mean)\n",
    "            peptide_vars.append(peptide_var)\n",
    "            peptide_stds.append(peptide_std)\n",
    "            \n",
    "        all_means.append(peptide_means)\n",
    "        all_vars.append(peptide_vars)\n",
    "        all_stds.append(peptide_stds)\n",
    "        \n",
    "    all_means_flat = np.array(all_means).flatten()\n",
    "    all_vars_flat = np.array(all_vars).flatten()\n",
    "    all_stds_flat = np.array(all_stds).flatten()\n",
    "        \n",
    "    return all_means_flat, all_vars_flat, all_stds_flat"
   ]
  },
  {
   "cell_type": "markdown",
   "metadata": {},
   "source": [
    "### The main loop\n",
    "For each peptide quants dataset, collect means and variances across technical replicate runs."
   ]
  },
  {
   "cell_type": "code",
   "execution_count": 4,
   "metadata": {
    "scrolled": true
   },
   "outputs": [
    {
     "name": "stdout",
     "output_type": "stream",
     "text": [
      "working on:  PXD006109\n"
     ]
    },
    {
     "name": "stderr",
     "output_type": "stream",
     "text": [
      "/net/gs/vol3/software/modules-sw-python/3.7.7/jupyter/5.7.9/Linux/CentOS7/x86_64/ipykernel_launcher.py:40: RuntimeWarning: Mean of empty slice\n",
      "/net/gs/vol3/software/modules-sw-python/3.7.7/jupyter/5.7.9/Linux/CentOS7/x86_64/ipykernel_launcher.py:41: RuntimeWarning: Degrees of freedom <= 0 for slice.\n",
      "/net/noble/vol2/home/lincolnh/.local/lib/python3.7/site-packages/numpy/lib/nanfunctions.py:1671: RuntimeWarning: Degrees of freedom <= 0 for slice.\n",
      "  keepdims=keepdims)\n"
     ]
    }
   ],
   "source": [
    "aggregated = pd.DataFrame(columns=[\"means\", \"variances\", \"stds\", \"PXD\"])\n",
    "\n",
    "for pxd, n_rep in zip(pxds, n_replicates):\n",
    "    print(\"working on: \", pxd)\n",
    "    # read in, convert 0s to np.nans\n",
    "    df = pd.read_csv(stem + pxd + \"_peptides.csv\")\n",
    "    df[df==0] = np.nan\n",
    "\n",
    "    # drop some columns that don't fit into the standard replicates scheme\n",
    "    if pxd == \"PXD016079\":\n",
    "        pxd016079_todrop = [\n",
    "                    \"Intensity OO-CTRL-minusCu-Biorep1-Run4\", \n",
    "                    \"Intensity OO-PlusBC-Biorep2-Run4\", \n",
    "                    \"Intensity OO-PlusCu-Biorep1-Run4\", \n",
    "                    \"Intensity OO-PlusBC-Biorep3-Run4\"\n",
    "        ]\n",
    "        df = df.drop(pxd016079_todrop, axis=1)\n",
    "    \n",
    "    elif pxd == \"PXD014525\":\n",
    "        pxd014525_todrop = [\n",
    "                    \"Intensity Honly_ind_01\",\n",
    "                    \"Intensity Honly_ind_02\",\n",
    "                    \"Intensity Honly_ind_03\",\n",
    "                    \"Intensity Yonly_ind_01\",\n",
    "                    \"Intensity Yonly_ind_02\",\n",
    "                    \"Intensity Yonly_ind_03\"\n",
    "        ]\n",
    "        df = df.drop(pxd014525_todrop, axis=1)\n",
    "    \n",
    "    means, variances, stds = get_mean_var_std(df, n_rep)\n",
    "    \n",
    "    tmp = pd.DataFrame(columns=[\"means\", \"variances\", \"stds\", \"PXD\"])\n",
    "    tmp[\"means\"] = means\n",
    "    tmp[\"variances\"] = variances\n",
    "    tmp[\"stds\"] = stds\n",
    "    tmp[\"PXD\"] = pxd\n",
    "    \n",
    "    aggregated = pd.concat([aggregated, tmp], ignore_index=False)\n",
    "    \n",
    "aggregated = aggregated.reindex()\n",
    "\n",
    "# set zeros to np.nan....my guess is that a zero variance\n",
    "#     or zero std value corresponds to a peptide that only \n",
    "#     had a quant value for a single replicate\n",
    "aggregated[aggregated==0] = np.nan"
   ]
  },
  {
   "cell_type": "markdown",
   "metadata": {},
   "source": [
    "#### Generate plot"
   ]
  },
  {
   "cell_type": "code",
   "execution_count": 5,
   "metadata": {},
   "outputs": [
    {
     "data": {
      "image/png": "[encoded data removed]",
      "text/plain": [
       "<Figure size 432x432 with 1 Axes>"
      ]
     },
     "metadata": {},
     "output_type": "display_data"
    }
   ],
   "source": [
    "plt.figure(figsize=(6,6))\n",
    "sns.scatterplot(\n",
    "    data=aggregated, x=\"means\", y=\"variances\", hue=\"PXD\", \n",
    "    alpha=0.03, edgecolors=\"none\")\n",
    "\n",
    "plt.minorticks_off()\n",
    "\n",
    "plt.xlabel(\"Mean\")\n",
    "plt.ylabel(\"Variance\")\n",
    "\n",
    "# log scale the axes? Note this is not the same as logging the data\n",
    "plt.xscale(\"log\")\n",
    "plt.yscale(\"log\")\n",
    "\n",
    "ax = plt.gca()\n",
    "\n",
    "# get the mins and maxes of the means and vars\n",
    "means_qmax = np.nanquantile(aggregated[\"means\"], 0.999)\n",
    "means_qmin = np.nanquantile(aggregated[\"means\"], 0.001)\n",
    "\n",
    "vars_qmax = np.nanquantile(aggregated[\"variances\"], 0.999)\n",
    "vars_qmin = np.nanquantile(aggregated[\"variances\"], 0.001)\n",
    "\n",
    "axes_max = np.max([means_qmax, vars_qmax])\n",
    "axes_min = np.min([means_qmin, vars_qmin])\n",
    "\n",
    "# this was hand tuned....probably not ideal\n",
    "axes_min = 1\n",
    "axes_max = axes_max + 1e12\n",
    "\n",
    "ax.plot([axes_min, axes_max], [axes_min, axes_max], color=\"black\", zorder=0, alpha=0.7, label='y=x')\n",
    "ax.set_aspect('equal', 'box')\n",
    "\n",
    "ax.set_xlim(axes_min, axes_max)\n",
    "ax.set_ylim(axes_min, axes_max)\n",
    "\n",
    "plt.legend(\n",
    "    frameon=True, \n",
    "    fancybox=False, \n",
    "    loc=\"lower right\", \n",
    "    edgecolor=\"black\",\n",
    "    handlelength=0.5,\n",
    "    borderaxespad=0,\n",
    "    fontsize=\"small\",\n",
    ")\n",
    "\n",
    "plt.tight_layout()\n",
    "plt.show()"
   ]
  },
  {
   "cell_type": "markdown",
   "metadata": {},
   "source": [
    "***"
   ]
  },
  {
   "cell_type": "markdown",
   "metadata": {},
   "source": [
    "## The logged version"
   ]
  },
  {
   "cell_type": "markdown",
   "metadata": {},
   "source": [
    "#### The main loop"
   ]
  },
  {
   "cell_type": "code",
   "execution_count": null,
   "metadata": {},
   "outputs": [
    {
     "name": "stdout",
     "output_type": "stream",
     "text": [
      "working on:  PXD006109\n"
     ]
    },
    {
     "name": "stderr",
     "output_type": "stream",
     "text": [
      "/net/gs/vol3/software/modules-sw-python/3.7.7/jupyter/5.7.9/Linux/CentOS7/x86_64/ipykernel_launcher.py:40: RuntimeWarning: Mean of empty slice\n",
      "/net/gs/vol3/software/modules-sw-python/3.7.7/jupyter/5.7.9/Linux/CentOS7/x86_64/ipykernel_launcher.py:41: RuntimeWarning: Degrees of freedom <= 0 for slice.\n",
      "/net/noble/vol2/home/lincolnh/.local/lib/python3.7/site-packages/numpy/lib/nanfunctions.py:1671: RuntimeWarning: Degrees of freedom <= 0 for slice.\n",
      "  keepdims=keepdims)\n"
     ]
    }
   ],
   "source": [
    "aggregated_log = pd.DataFrame(columns=[\"means\", \"variances\", \"stds\", \"PXD\"])\n",
    "\n",
    "for pxd, n_rep in zip(pxds, n_replicates):\n",
    "    print(\"working on: \", pxd)\n",
    "    # read in, convert 0s to np.nans\n",
    "    df = pd.read_csv(stem + pxd + \"_peptides.csv\")\n",
    "    df[df==0] = np.nan\n",
    "    \n",
    "    # log the peptide quants\n",
    "    df = np.log(df)\n",
    "    \n",
    "    # drop some columns that don't fit into the standard replicates scheme\n",
    "    if pxd == \"PXD016079\":\n",
    "        pxd016079_todrop = [\n",
    "                    \"Intensity OO-CTRL-minusCu-Biorep1-Run4\", \n",
    "                    \"Intensity OO-PlusBC-Biorep2-Run4\", \n",
    "                    \"Intensity OO-PlusCu-Biorep1-Run4\", \n",
    "                    \"Intensity OO-PlusBC-Biorep3-Run4\"\n",
    "        ]\n",
    "        df = df.drop(pxd016079_todrop, axis=1)\n",
    "    \n",
    "    elif pxd == \"PXD014525\":\n",
    "        pxd014525_todrop = [\n",
    "                    \"Intensity Honly_ind_01\",\n",
    "                    \"Intensity Honly_ind_02\",\n",
    "                    \"Intensity Honly_ind_03\",\n",
    "                    \"Intensity Yonly_ind_01\",\n",
    "                    \"Intensity Yonly_ind_02\",\n",
    "                    \"Intensity Yonly_ind_03\"\n",
    "        ]\n",
    "        df = df.drop(pxd014525_todrop, axis=1)\n",
    "    \n",
    "    means, variances, stds = get_mean_var_std(df, n_rep)\n",
    "    \n",
    "    tmp = pd.DataFrame(columns=[\"means\", \"variances\", \"stds\", \"PXD\"])\n",
    "    tmp[\"means\"] = means\n",
    "    tmp[\"variances\"] = variances\n",
    "    tmp[\"stds\"] = stds\n",
    "    tmp[\"PXD\"] = pxd\n",
    "    \n",
    "    aggregated_log = pd.concat([aggregated_log, tmp], ignore_index=False)\n",
    "    \n",
    "aggregated_log = aggregated_log.reindex()\n",
    "\n",
    "# set zeros to np.nan....my guess is that a zero variance\n",
    "#     or zero std value corresponds to a peptide that only \n",
    "#     had a quant value for a single replicate\n",
    "aggregated_log[aggregated_log==0] = np.nan"
   ]
  },
  {
   "cell_type": "markdown",
   "metadata": {},
   "source": [
    "#### Plot, the logged version"
   ]
  },
  {
   "cell_type": "code",
   "execution_count": null,
   "metadata": {},
   "outputs": [],
   "source": [
    "plt.figure(figsize=(6,6))\n",
    "sns.scatterplot(\n",
    "    data=aggregated_log, x=\"means\", y=\"variances\", hue=\"PXD\", \n",
    "    alpha=0.05, edgecolors=\"none\")\n",
    "\n",
    "plt.minorticks_off()\n",
    "\n",
    "plt.xlabel(\"Mean\")\n",
    "plt.ylabel(\"Variance\")\n",
    "\n",
    "ax = plt.gca()\n",
    "\n",
    "lims = [\n",
    "        np.min([ax.get_xlim(), ax.get_ylim()]),  # min of both axes\n",
    "        np.max([ax.get_xlim(), ax.get_ylim()]),  # max of both axes\n",
    "        ]\n",
    "\n",
    "ax.plot(lims, lims, color=\"black\", zorder=0, alpha=0.7, label='y=x')\n",
    "ax.set_aspect('equal', 'box')\n",
    "\n",
    "plt.legend(\n",
    "    frameon=True, \n",
    "    fancybox=False, \n",
    "    loc=\"lower right\", \n",
    "    edgecolor=\"black\",\n",
    "    handlelength=0.5,\n",
    "    borderaxespad=0,\n",
    "    fontsize=\"small\",\n",
    ")\n",
    "\n",
    "plt.tight_layout()\n",
    "plt.show()"
   ]
  },
  {
   "cell_type": "markdown",
   "metadata": {},
   "source": [
    "***"
   ]
  },
  {
   "cell_type": "markdown",
   "metadata": {},
   "source": [
    "## Side-by-side plots"
   ]
  },
  {
   "cell_type": "markdown",
   "metadata": {},
   "source": [
    "#### For the non-logged dataset, get the mins and maxes"
   ]
  },
  {
   "cell_type": "code",
   "execution_count": null,
   "metadata": {},
   "outputs": [],
   "source": [
    "# get the mins and maxes of the means and vars\n",
    "means_qmax = np.nanquantile(aggregated[\"means\"], 0.999)\n",
    "means_qmin = np.nanquantile(aggregated[\"means\"], 0.001)\n",
    "\n",
    "vars_qmax = np.nanquantile(aggregated[\"variances\"], 0.999)\n",
    "vars_qmin = np.nanquantile(aggregated[\"variances\"], 0.001)\n",
    "\n",
    "axes_max = np.max([means_qmax, vars_qmax])\n",
    "axes_min = np.min([means_qmin, vars_qmin])\n",
    "\n",
    "# this was hand tuned....probably not ideal\n",
    "axes_min = 1\n",
    "axes_max = axes_max + 1e22"
   ]
  },
  {
   "cell_type": "markdown",
   "metadata": {},
   "source": [
    "#### Plot"
   ]
  },
  {
   "cell_type": "code",
   "execution_count": null,
   "metadata": {
    "scrolled": false
   },
   "outputs": [],
   "source": [
    "fig, axes = plt.subplots(ncols=2, nrows=1, figsize=(12,6)) #sharey=False, sharex=False\n",
    "fig.tight_layout()\n",
    "\n",
    "sns.scatterplot(\n",
    "    data=aggregated, x=\"means\", y=\"variances\", hue=\"PXD\", \n",
    "    alpha=0.03, edgecolors=\"none\", ax=axes[0])\n",
    "axes[0].minorticks_off()\n",
    "axes[0].set_xlabel(\"Mean\", labelpad=10)\n",
    "axes[0].set_ylabel(\"Variance\", labelpad=10)\n",
    "axes[0].set_xscale(\"log\")\n",
    "axes[0].set_yscale(\"log\")\n",
    "axes[0].set_title(\"Not logged\", size=24, pad=20)\n",
    "axes[0].get_legend().remove()\n",
    "\n",
    "axes[0].plot(\n",
    "    [axes_min, axes_max], [axes_min, axes_max], \n",
    "    color=\"black\", zorder=0, alpha=1, linewidth=2)\n",
    "axes[0].set_aspect('equal', 'box')\n",
    "\n",
    "# set axis limits for the non-logged plot\n",
    "axes[0].set_xlim(axes_min, axes_max)\n",
    "axes[0].set_ylim(axes_min, axes_max)\n",
    "\n",
    "sns.scatterplot(\n",
    "    data=aggregated_log, x=\"means\", y=\"variances\", hue=\"PXD\", \n",
    "    alpha=0.03, edgecolors=\"none\", ax=axes[1])\n",
    "axes[1].minorticks_off()\n",
    "axes[1].set_xlabel(\"Mean\", labelpad=10)\n",
    "axes[1].set_ylabel(\"\")\n",
    "axes[1].set_title(\"Logged\", size=24, pad=20)\n",
    "#axes[1].get_legend().remove()\n",
    "\n",
    "# plot the y=x line. And establish the axis limits\n",
    "lims1 = [\n",
    "        np.min([axes[1].get_xlim(), axes[1].get_ylim()]),  # min of both axes\n",
    "        np.max([axes[1].get_xlim(), axes[1].get_ylim()]),  # max of both axes\n",
    "        ]\n",
    "\n",
    "axes[1].plot(lims1, lims1, color=\"black\", zorder=0, alpha=1, linewidth=2)\n",
    "axes[1].set_aspect('equal', 'box')\n",
    "\n",
    "# set axis limits for the logged plot\n",
    "axes[1].set_xlim(lims1)\n",
    "axes[1].set_ylim(lims1)\n",
    "\n",
    "axes[1].legend(\n",
    "        frameon=True, \n",
    "        fancybox=False, \n",
    "        loc=\"upper left\", \n",
    "        edgecolor=\"black\",\n",
    "        handlelength=0.5,\n",
    "        borderaxespad=0,\n",
    "        fontsize=\"small\",\n",
    ")\n",
    "\n",
    "#plt.savefig(\"distributions-fig3.png\", dpi=250, bbox_inches=\"tight\")"
   ]
  },
  {
   "cell_type": "markdown",
   "metadata": {},
   "source": [
    "***"
   ]
  }
 ],
 "metadata": {
  "kernelspec": {
   "display_name": "ms-impute-trim",
   "language": "python",
   "name": "ms-impute-trim"
  },
  "language_info": {
   "codemirror_mode": {
    "name": "ipython",
    "version": 3
   },
   "file_extension": ".py",
   "mimetype": "text/x-python",
   "name": "python",
   "nbconvert_exporter": "python",
   "pygments_lexer": "ipython3",
   "version": "3.7.12"
  }
 },
 "nbformat": 4,
 "nbformat_minor": 4
}
