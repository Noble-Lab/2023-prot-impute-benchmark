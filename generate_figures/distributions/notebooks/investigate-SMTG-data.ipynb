{
 "cells": [
  {
   "cell_type": "markdown",
   "metadata": {},
   "source": [
    "# investigate-SMTG-data\n",
    "2.10.23\n",
    "\n",
    "What does the AD SMTG DIA data look like from the MacCoss lab? \n",
    "Are there any technical replicates? Could I potentially repeat my distributions \n",
    "experiment on this dataset? \n",
    "\n",
    "Also writing the pre-processed SMTG peptide quants matrix (PXD034525) to a csv, to \n",
    "be stuck in the `data/peptides_data/` directory. "
   ]
  },
  {
   "cell_type": "code",
   "execution_count": 1,
   "metadata": {},
   "outputs": [],
   "source": [
    "import pandas as pd\n",
    "import numpy as np\n",
    "import seaborn as sns\n",
    "import matplotlib.pyplot as plt\n",
    "\n",
    "# plotting templates\n",
    "sns.set(context=\"talk\", style=\"ticks\") \n",
    "sns.set_palette(\"tab10\")"
   ]
  },
  {
   "cell_type": "markdown",
   "metadata": {},
   "source": [
    "#### Configs"
   ]
  },
  {
   "cell_type": "code",
   "execution_count": 2,
   "metadata": {},
   "outputs": [],
   "source": [
    "smtg_path = \"../../../../data/maccoss-data/SMTG-pepGrp.batchadj.csv\"\n",
    "n_reps = 5\n",
    "pxd = \"PXD034525\""
   ]
  },
  {
   "cell_type": "markdown",
   "metadata": {},
   "source": [
    "#### Helper functions "
   ]
  },
  {
   "cell_type": "code",
   "execution_count": 3,
   "metadata": {},
   "outputs": [],
   "source": [
    "def get_mean_var_std(df, n_replicates):\n",
    "    \"\"\" \n",
    "    For the intensity cols of a single MaxQuant dataframe, break down\n",
    "    column-wise according to the number of replicates in the matrix, \n",
    "    then get means and variances for each peptide, for each replicate.\n",
    "    Also get peptide standard deviations. \n",
    "    \n",
    "    Assumes columns are in sorted order! as in, the replicate runs are\n",
    "    next to one another. \n",
    "    \n",
    "    Parameters\n",
    "    ----------\n",
    "    df: Matrix of intensity vals, for a single PRIDE experiment\n",
    "    n_replicates: Number of replicates for each run within that PRIDE\n",
    "                    experiment\n",
    "    \n",
    "    Returns\n",
    "    -------\n",
    "    all_means_flat: Flattened (1D) array of all peptide means\n",
    "    all_vars_flat: Flattened (1D) array of all peptide variances\n",
    "    all_stds_flat: Flattened (1D) array of all peptide standard deviations\n",
    "    \"\"\"\n",
    "    \n",
    "    cols = list(df.columns)\n",
    "    r_split_cols = [cols[i:i+n_replicates] for i in range(0,len(cols), n_replicates)]\n",
    "\n",
    "    all_means = []\n",
    "    all_vars = []\n",
    "    all_stds = []\n",
    "    \n",
    "    for i in df.index:\n",
    "        peptide_means = []\n",
    "        peptide_vars = []\n",
    "        peptide_stds = []\n",
    "    \n",
    "        for j in range(0,len(r_split_cols)):\n",
    "            rep_df = df[r_split_cols[j]]\n",
    "            peptide_mean = np.nanmean(rep_df.iloc[i])\n",
    "            peptide_var = np.nanvar(rep_df.iloc[i])\n",
    "            peptide_std = np.nanstd(rep_df.iloc[i])\n",
    "        \n",
    "            peptide_means.append(peptide_mean)\n",
    "            peptide_vars.append(peptide_var)\n",
    "            peptide_stds.append(peptide_std)\n",
    "            \n",
    "        all_means.append(peptide_means)\n",
    "        all_vars.append(peptide_vars)\n",
    "        all_stds.append(peptide_stds)\n",
    "        \n",
    "    all_means_flat = np.array(all_means).flatten()\n",
    "    all_vars_flat = np.array(all_vars).flatten()\n",
    "    all_stds_flat = np.array(all_stds).flatten()\n",
    "        \n",
    "    return all_means_flat, all_vars_flat, all_stds_flat"
   ]
  },
  {
   "cell_type": "markdown",
   "metadata": {},
   "source": [
    "#### Read in and pre-process\n",
    "The idea is that each \"HADT\" sample is a replicate, as is each \"TRPR\" sample. "
   ]
  },
  {
   "cell_type": "code",
   "execution_count": 4,
   "metadata": {},
   "outputs": [],
   "source": [
    "# read in \n",
    "smtg_peps = pd.read_csv(smtg_path)\n",
    "\n",
    "keep_cols = ['HADT01', 'TRPR01', 'HADT02', 'TRPR02', 'HADT03', 'TRPR03', 'HADT04',\n",
    "            'TRPR04', 'HADTP05', 'TRPR05']\n",
    "\n",
    "# subset\n",
    "smtg_peps = smtg_peps[keep_cols]\n",
    "\n",
    "# reorder columns so that replicates are next to each other\n",
    "smtg_peps = smtg_peps[\n",
    "    [\"HADT01\", \"HADT02\", \"HADT03\", \"HADT04\", \"HADTP05\", \n",
    "     \"TRPR01\", \"TRPR02\", \"TRPR03\", \"TRPR04\", \"TRPR05\"]\n",
    "]\n",
    "\n",
    "# set zeros to nans...\n",
    "    # though Mike says there may be a difference between 0s and NaNs in this context\n",
    "smtg_peps[smtg_peps == 0] = np.nan\n",
    "\n",
    "# convert to np array\n",
    "quants_mat = np.array(smtg_peps)\n",
    "quants_mat\n",
    "\n",
    "# inverse log transform - 2^x, for every element in quants_mat\n",
    "    # and also smtg_peps, the pandas dataframe version \n",
    "quants_mat = np.power(2, quants_mat)\n",
    "smtg_peps = np.power(2, smtg_peps)\n",
    "\n",
    "# write to csv\n",
    "smtg_peps.to_csv(\"PXD034525_peptides.csv\", index=False)"
   ]
  },
  {
   "cell_type": "markdown",
   "metadata": {},
   "source": [
    "#### Get the means and vars across technical replicates"
   ]
  },
  {
   "cell_type": "code",
   "execution_count": null,
   "metadata": {},
   "outputs": [
    {
     "name": "stderr",
     "output_type": "stream",
     "text": [
      "/net/gs/vol3/software/modules-sw-python/3.7.7/jupyter/5.7.9/Linux/CentOS7/x86_64/ipykernel_launcher.py:38: RuntimeWarning: Mean of empty slice\n",
      "/net/gs/vol3/software/modules-sw-python/3.7.7/jupyter/5.7.9/Linux/CentOS7/x86_64/ipykernel_launcher.py:39: RuntimeWarning: Degrees of freedom <= 0 for slice.\n",
      "/net/noble/vol2/home/lincolnh/.local/lib/python3.7/site-packages/numpy/lib/nanfunctions.py:1671: RuntimeWarning: Degrees of freedom <= 0 for slice.\n",
      "  keepdims=keepdims)\n"
     ]
    }
   ],
   "source": [
    "# init the aggregated dataframe\n",
    "mean_x_var = pd.DataFrame(columns=[\"means\", \"variances\", \"stds\", \"PXD\"])\n",
    "\n",
    "# get the means and vars\n",
    "means, variances, stds = get_mean_var_std(smtg_peps, n_reps)\n",
    "\n",
    "# add to the aggregated dataframe\n",
    "mean_x_var[\"means\"] = means\n",
    "mean_x_var[\"variances\"] = variances\n",
    "mean_x_var[\"stds\"] = stds\n",
    "mean_x_var[\"PXD\"] = pxd\n",
    "\n",
    "# get rid of zero means and vars\n",
    "mean_x_var = mean_x_var[mean_x_var[\"variances\"] != 0]\n",
    "mean_x_var = mean_x_var[mean_x_var[\"means\"] != 0]\n",
    "\n",
    "# get rid of nan entries\n",
    "nan_idxs = np.isnan(mean_x_var[\"means\"]) | np.isnan(mean_x_var[\"variances\"])\n",
    "mean_x_var = mean_x_var[~nan_idxs]\n",
    "\n",
    "mean_x_var = mean_x_var.reset_index(drop=True)"
   ]
  },
  {
   "cell_type": "markdown",
   "metadata": {},
   "source": [
    "#### Plot"
   ]
  },
  {
   "cell_type": "code",
   "execution_count": null,
   "metadata": {},
   "outputs": [],
   "source": [
    "plt.figure(figsize=(6,6))\n",
    "sns.scatterplot(\n",
    "    data=mean_x_var, x=\"means\", y=\"variances\", alpha=0.05, \n",
    "    edgecolors=\"none\", label=\"SMTG Peptides\")\n",
    "\n",
    "plt.minorticks_off()\n",
    "\n",
    "plt.xlabel(\"Mean\")\n",
    "plt.ylabel(\"Variance\")\n",
    "\n",
    "plt.xscale(\"log\")\n",
    "plt.yscale(\"log\")\n",
    "\n",
    "ax = plt.gca()\n",
    "\n",
    "lims = [\n",
    "        np.min([ax.get_xlim(), ax.get_ylim()]),  # min of both axes\n",
    "        np.max([ax.get_xlim(), ax.get_ylim()]),  # max of both axes\n",
    "        ]\n",
    "\n",
    "ax.plot(lims, lims, color=\"black\", zorder=0, alpha=0.7, label='y=x')\n",
    "ax.set_aspect('equal', 'box')\n",
    "\n",
    "plt.legend(\n",
    "    frameon=True, \n",
    "    fancybox=False, \n",
    "    loc=\"upper left\", \n",
    "    edgecolor=\"black\",\n",
    "    handlelength=0.5,\n",
    "    borderaxespad=0,\n",
    "    fontsize=\"small\",\n",
    ")\n",
    "\n",
    "plt.tight_layout()\n",
    "plt.show()\n",
    "plt.close()"
   ]
  },
  {
   "cell_type": "markdown",
   "metadata": {},
   "source": [
    "***"
   ]
  },
  {
   "cell_type": "markdown",
   "metadata": {},
   "source": [
    "## Logged version "
   ]
  },
  {
   "cell_type": "code",
   "execution_count": null,
   "metadata": {},
   "outputs": [],
   "source": [
    "# log the peptide quants\n",
    "smtg_peps = np.log(smtg_peps)\n",
    "\n",
    "# init the aggregated dataframe\n",
    "mean_x_var_log = pd.DataFrame(columns=[\"means\", \"variances\", \"stds\", \"PXD\"])\n",
    "\n",
    "# get the means and vars\n",
    "means, variances, stds = get_mean_var_std(smtg_peps, n_reps)\n",
    "\n",
    "# add to the aggregated dataframe\n",
    "mean_x_var_log[\"means\"] = means\n",
    "mean_x_var_log[\"variances\"] = variances\n",
    "mean_x_var_log[\"stds\"] = stds\n",
    "mean_x_var_log[\"PXD\"] = pxd\n",
    "\n",
    "# get rid of zero means and vars\n",
    "mean_x_var_log = mean_x_var_log[mean_x_var_log[\"variances\"] != 0]\n",
    "mean_x_var_log = mean_x_var_log[mean_x_var_log[\"means\"] != 0]\n",
    "\n",
    "# get rid of nan entries\n",
    "nan_idxs = np.isnan(mean_x_var_log[\"means\"]) | np.isnan(mean_x_var_log[\"variances\"])\n",
    "mean_x_var_log = mean_x_var_log[~nan_idxs]\n",
    "\n",
    "mean_x_var_log = mean_x_var_log.reset_index(drop=True)"
   ]
  },
  {
   "cell_type": "markdown",
   "metadata": {},
   "source": [
    "#### Plot the logged quants"
   ]
  },
  {
   "cell_type": "code",
   "execution_count": null,
   "metadata": {},
   "outputs": [],
   "source": [
    "plt.figure(figsize=(6,6))\n",
    "sns.scatterplot(\n",
    "    data=mean_x_var_log, x=\"means\", y=\"variances\", alpha=0.05, \n",
    "    edgecolors=\"none\", label=\"SMTG Peptides\")\n",
    "\n",
    "plt.minorticks_off()\n",
    "\n",
    "plt.xlabel(\"Mean\")\n",
    "plt.ylabel(\"Variance\")\n",
    "\n",
    "#plt.xscale(\"log\")\n",
    "#plt.yscale(\"log\")\n",
    "\n",
    "ax = plt.gca()\n",
    "\n",
    "lims = [\n",
    "        np.min([ax.get_xlim(), ax.get_ylim()]),  # min of both axes\n",
    "        np.max([ax.get_xlim(), ax.get_ylim()]),  # max of both axes\n",
    "        ]\n",
    "\n",
    "ax.plot(lims, lims, color=\"black\", zorder=0, alpha=0.7, label='y=x')\n",
    "ax.set_aspect('equal', 'box')\n",
    "\n",
    "plt.legend(\n",
    "    frameon=True, \n",
    "    fancybox=False, \n",
    "    loc=\"upper left\", \n",
    "    edgecolor=\"black\",\n",
    "    handlelength=0.5,\n",
    "    borderaxespad=0,\n",
    "    fontsize=\"small\",\n",
    ")\n",
    "\n",
    "plt.tight_layout()\n",
    "plt.show()\n",
    "plt.close()"
   ]
  },
  {
   "cell_type": "code",
   "execution_count": null,
   "metadata": {},
   "outputs": [],
   "source": []
  }
 ],
 "metadata": {
  "kernelspec": {
   "display_name": "ms-impute-trim",
   "language": "python",
   "name": "ms-impute-trim"
  },
  "language_info": {
   "codemirror_mode": {
    "name": "ipython",
    "version": 3
   },
   "file_extension": ".py",
   "mimetype": "text/x-python",
   "name": "python",
   "nbconvert_exporter": "python",
   "pygments_lexer": "ipython3",
   "version": "3.7.12"
  }
 },
 "nbformat": 4,
 "nbformat_minor": 4
}
