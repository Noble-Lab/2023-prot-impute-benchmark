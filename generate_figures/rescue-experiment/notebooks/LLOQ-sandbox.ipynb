{
 "cells": [
  {
   "cell_type": "markdown",
   "metadata": {},
   "source": [
    "# LLOQ-sandbox\n",
    "1.24.23"
   ]
  },
  {
   "cell_type": "code",
   "execution_count": 1,
   "metadata": {},
   "outputs": [],
   "source": [
    "import pandas as pd\n",
    "import numpy as np\n",
    "import matplotlib.pyplot as plt\n",
    "import seaborn as sns\n",
    "\n",
    "# plotting templates\n",
    "sns.set(context=\"talk\", style=\"ticks\") \n",
    "sns.set_palette(\"tab10\")"
   ]
  },
  {
   "cell_type": "markdown",
   "metadata": {},
   "source": [
    "#### Get LLOQs for the original (unimputed) matrix"
   ]
  },
  {
   "cell_type": "code",
   "execution_count": 2,
   "metadata": {},
   "outputs": [
    {
     "name": "stderr",
     "output_type": "stream",
     "text": [
      "/net/gs/vol3/software/modules-sw-python/3.7.7/jupyter/5.7.9/Linux/CentOS7/x86_64/ipykernel_launcher.py:3: SettingWithCopyWarning: \n",
      "A value is trying to be set on a copy of a slice from a DataFrame\n",
      "\n",
      "See the caveats in the documentation: https://pandas.pydata.org/pandas-docs/stable/user_guide/indexing.html#returning-a-view-versus-a-copy\n",
      "  This is separate from the ipykernel package so we can avoid doing imports until\n"
     ]
    }
   ],
   "source": [
    "fom_orig = pd.read_csv(\"out/fom-orig-MCAR.csv\")\n",
    "orig_loq = fom_orig[\"LOQ\"]\n",
    "orig_loq[orig_loq == np.inf] = np.nan\n",
    "#orig_loq"
   ]
  },
  {
   "cell_type": "markdown",
   "metadata": {},
   "source": [
    "#### Get LLOQs for all five imputed matrices"
   ]
  },
  {
   "cell_type": "code",
   "execution_count": 3,
   "metadata": {},
   "outputs": [
    {
     "name": "stderr",
     "output_type": "stream",
     "text": [
      "/net/gs/vol3/software/modules-sw-python/3.7.7/jupyter/5.7.9/Linux/CentOS7/x86_64/ipykernel_launcher.py:3: SettingWithCopyWarning: \n",
      "A value is trying to be set on a copy of a slice from a DataFrame\n",
      "\n",
      "See the caveats in the documentation: https://pandas.pydata.org/pandas-docs/stable/user_guide/indexing.html#returning-a-view-versus-a-copy\n",
      "  This is separate from the ipykernel package so we can avoid doing imports until\n",
      "/net/gs/vol3/software/modules-sw-python/3.7.7/jupyter/5.7.9/Linux/CentOS7/x86_64/ipykernel_launcher.py:7: SettingWithCopyWarning: \n",
      "A value is trying to be set on a copy of a slice from a DataFrame\n",
      "\n",
      "See the caveats in the documentation: https://pandas.pydata.org/pandas-docs/stable/user_guide/indexing.html#returning-a-view-versus-a-copy\n",
      "  import sys\n",
      "/net/gs/vol3/software/modules-sw-python/3.7.7/jupyter/5.7.9/Linux/CentOS7/x86_64/ipykernel_launcher.py:11: SettingWithCopyWarning: \n",
      "A value is trying to be set on a copy of a slice from a DataFrame\n",
      "\n",
      "See the caveats in the documentation: https://pandas.pydata.org/pandas-docs/stable/user_guide/indexing.html#returning-a-view-versus-a-copy\n",
      "  # This is added back by InteractiveShellApp.init_path()\n",
      "/net/gs/vol3/software/modules-sw-python/3.7.7/jupyter/5.7.9/Linux/CentOS7/x86_64/ipykernel_launcher.py:15: SettingWithCopyWarning: \n",
      "A value is trying to be set on a copy of a slice from a DataFrame\n",
      "\n",
      "See the caveats in the documentation: https://pandas.pydata.org/pandas-docs/stable/user_guide/indexing.html#returning-a-view-versus-a-copy\n",
      "  from ipykernel import kernelapp as app\n",
      "/net/gs/vol3/software/modules-sw-python/3.7.7/jupyter/5.7.9/Linux/CentOS7/x86_64/ipykernel_launcher.py:19: SettingWithCopyWarning: \n",
      "A value is trying to be set on a copy of a slice from a DataFrame\n",
      "\n",
      "See the caveats in the documentation: https://pandas.pydata.org/pandas-docs/stable/user_guide/indexing.html#returning-a-view-versus-a-copy\n"
     ]
    }
   ],
   "source": [
    "fom_nmf = pd.read_csv(\"out/fom-NMF-recon-MCAR.csv\")\n",
    "nmf_loq = fom_nmf[\"LOQ\"]\n",
    "nmf_loq[nmf_loq == np.inf] = np.nan\n",
    "\n",
    "fom_knn = pd.read_csv(\"out/fom-KNN-recon-MCAR.csv\")\n",
    "knn_loq = fom_knn[\"LOQ\"]\n",
    "knn_loq[knn_loq == np.inf] = np.nan\n",
    "\n",
    "fom_mf = pd.read_csv(\"out/fom-mf-recon-MCAR.csv\")\n",
    "mf_loq = fom_mf[\"LOQ\"]\n",
    "mf_loq[mf_loq == np.inf] = np.nan\n",
    "\n",
    "fom_min = pd.read_csv(\"out/fom-min-recon-MCAR.csv\")\n",
    "min_loq = fom_min[\"LOQ\"]\n",
    "min_loq[min_loq == np.inf] = np.nan\n",
    "\n",
    "fom_std = pd.read_csv(\"out/fom-std-recon-MCAR.csv\")\n",
    "std_loq = fom_std[\"LOQ\"]\n",
    "std_loq[std_loq == np.inf] = np.nan"
   ]
  },
  {
   "cell_type": "markdown",
   "metadata": {},
   "source": [
    "#### LLOQ stats for NMF impute"
   ]
  },
  {
   "cell_type": "code",
   "execution_count": 4,
   "metadata": {},
   "outputs": [
    {
     "name": "stdout",
     "output_type": "stream",
     "text": [
      "n LLOQs decreased by NMF impute:  1084\n",
      "n LLOQs increased by NMF impute:  2498\n"
     ]
    }
   ],
   "source": [
    "# if negative, NMF impute increased the LLOQ\n",
    "#    if positive, NMF impute decreased the LLOQ\n",
    "nmf_diffs = orig_loq - nmf_loq\n",
    "\n",
    "n_nmf_decrease_loq = np.count_nonzero(nmf_diffs > 0)\n",
    "n_nmf_increase_loq = np.count_nonzero(nmf_diffs < 0)\n",
    "\n",
    "print(\"n LLOQs decreased by NMF impute: \", n_nmf_decrease_loq)\n",
    "print(\"n LLOQs increased by NMF impute: \", n_nmf_increase_loq)"
   ]
  },
  {
   "cell_type": "markdown",
   "metadata": {},
   "source": [
    "#### LLOQ stats for kNN impute"
   ]
  },
  {
   "cell_type": "code",
   "execution_count": 5,
   "metadata": {},
   "outputs": [
    {
     "name": "stdout",
     "output_type": "stream",
     "text": [
      "n LLOQs decreased by kNN impute:  261\n",
      "n LLOQs increased by kNN impute:  2184\n"
     ]
    }
   ],
   "source": [
    "# if negative, kNN impute increased the LLOQ\n",
    "#    if positive, kNN impute decreased the LLOQ\n",
    "knn_diffs = orig_loq - knn_loq\n",
    "\n",
    "n_knn_decrease_loq = np.count_nonzero(knn_diffs > 0)\n",
    "n_knn_increase_loq = np.count_nonzero(knn_diffs < 0)\n",
    "\n",
    "print(\"n LLOQs decreased by kNN impute: \", n_knn_decrease_loq)\n",
    "print(\"n LLOQs increased by kNN impute: \", n_knn_increase_loq)"
   ]
  },
  {
   "cell_type": "markdown",
   "metadata": {},
   "source": [
    "#### LLOQ stats for missForest impute"
   ]
  },
  {
   "cell_type": "code",
   "execution_count": 6,
   "metadata": {},
   "outputs": [
    {
     "name": "stdout",
     "output_type": "stream",
     "text": [
      "n LLOQs decreased by missForest impute:  4260\n",
      "n LLOQs increased by missForest impute:  3115\n"
     ]
    }
   ],
   "source": [
    "# if negative, missForest impute increased the LLOQ\n",
    "#    if positive, missForest impute decreased the LLOQ\n",
    "mf_diffs = orig_loq - mf_loq\n",
    "\n",
    "n_mf_decrease_loq = np.count_nonzero(mf_diffs > 0)\n",
    "n_mf_increase_loq = np.count_nonzero(mf_diffs < 0)\n",
    "\n",
    "print(\"n LLOQs decreased by missForest impute: \", n_mf_decrease_loq)\n",
    "print(\"n LLOQs increased by missForest impute: \", n_mf_increase_loq)"
   ]
  },
  {
   "cell_type": "markdown",
   "metadata": {},
   "source": [
    "#### LLOQ stats for sample min impute"
   ]
  },
  {
   "cell_type": "code",
   "execution_count": 7,
   "metadata": {},
   "outputs": [
    {
     "name": "stdout",
     "output_type": "stream",
     "text": [
      "n LLOQs decreased by sample min impute:  252\n",
      "n LLOQs increased by sample min impute:  1187\n"
     ]
    }
   ],
   "source": [
    "# if negative, sample min impute increased the LLOQ\n",
    "#    if positive, sample min impute decreased the LLOQ\n",
    "min_diffs = orig_loq - min_loq\n",
    "\n",
    "n_min_decrease_loq = np.count_nonzero(min_diffs > 0)\n",
    "n_min_increase_loq = np.count_nonzero(min_diffs < 0)\n",
    "\n",
    "print(\"n LLOQs decreased by sample min impute: \", n_min_decrease_loq)\n",
    "print(\"n LLOQs increased by sample min impute: \", n_min_increase_loq)"
   ]
  },
  {
   "cell_type": "markdown",
   "metadata": {},
   "source": [
    "#### LLOQ stats for Gaussian random sample impute"
   ]
  },
  {
   "cell_type": "code",
   "execution_count": 8,
   "metadata": {},
   "outputs": [
    {
     "name": "stdout",
     "output_type": "stream",
     "text": [
      "n LLOQs decreased by Gaussian random sample impute:  254\n",
      "n LLOQs increased by Gaussian random sample impute:  1126\n"
     ]
    }
   ],
   "source": [
    "# if negative, Gaussian random sample impute increased the LLOQ\n",
    "#    if positive, Gaussian random sample impute decreased the LLOQ\n",
    "std_diffs = orig_loq - std_loq\n",
    "\n",
    "n_std_decrease_loq = np.count_nonzero(std_diffs > 0)\n",
    "n_std_increase_loq = np.count_nonzero(std_diffs < 0)\n",
    "\n",
    "print(\"n LLOQs decreased by Gaussian random sample impute: \", n_std_decrease_loq)\n",
    "print(\"n LLOQs increased by Gaussian random sample impute: \", n_std_increase_loq)"
   ]
  },
  {
   "cell_type": "markdown",
   "metadata": {},
   "source": [
    "***"
   ]
  },
  {
   "cell_type": "markdown",
   "metadata": {},
   "source": [
    "## Generate some plots\n",
    "\n",
    "The easiest thing to do here is to just generate a bar plot. \n",
    "The problem is, we're just plotting raw counts. \n",
    "We don't know whether and of the LLOQ increases/decreases we're plotting are actually significant. "
   ]
  },
  {
   "cell_type": "markdown",
   "metadata": {},
   "source": [
    "#### Init barplot plotter object"
   ]
  },
  {
   "cell_type": "code",
   "execution_count": 9,
   "metadata": {},
   "outputs": [
    {
     "data": {
      "text/html": [
       "<div>\n",
       "<style scoped>\n",
       "    .dataframe tbody tr th:only-of-type {\n",
       "        vertical-align: middle;\n",
       "    }\n",
       "\n",
       "    .dataframe tbody tr th {\n",
       "        vertical-align: top;\n",
       "    }\n",
       "\n",
       "    .dataframe thead th {\n",
       "        text-align: right;\n",
       "    }\n",
       "</style>\n",
       "<table border=\"1\" class=\"dataframe\">\n",
       "  <thead>\n",
       "    <tr style=\"text-align: right;\">\n",
       "      <th></th>\n",
       "      <th>method</th>\n",
       "      <th>n decrease</th>\n",
       "      <th>n increase</th>\n",
       "    </tr>\n",
       "  </thead>\n",
       "  <tbody>\n",
       "    <tr>\n",
       "      <th>0</th>\n",
       "      <td>NMF</td>\n",
       "      <td>1084</td>\n",
       "      <td>2498</td>\n",
       "    </tr>\n",
       "    <tr>\n",
       "      <th>1</th>\n",
       "      <td>KNN</td>\n",
       "      <td>261</td>\n",
       "      <td>2184</td>\n",
       "    </tr>\n",
       "    <tr>\n",
       "      <th>2</th>\n",
       "      <td>missForest</td>\n",
       "      <td>4260</td>\n",
       "      <td>3115</td>\n",
       "    </tr>\n",
       "    <tr>\n",
       "      <th>3</th>\n",
       "      <td>Sample min</td>\n",
       "      <td>252</td>\n",
       "      <td>1187</td>\n",
       "    </tr>\n",
       "    <tr>\n",
       "      <th>4</th>\n",
       "      <td>Gaussian sample</td>\n",
       "      <td>254</td>\n",
       "      <td>1126</td>\n",
       "    </tr>\n",
       "  </tbody>\n",
       "</table>\n",
       "</div>"
      ],
      "text/plain": [
       "            method n decrease n increase\n",
       "0              NMF       1084       2498\n",
       "1              KNN        261       2184\n",
       "2       missForest       4260       3115\n",
       "3       Sample min        252       1187\n",
       "4  Gaussian sample        254       1126"
      ]
     },
     "execution_count": 9,
     "metadata": {},
     "output_type": "execute_result"
    }
   ],
   "source": [
    "# init\n",
    "lloq_plotter = pd.DataFrame(columns=[\"method\", \"n decrease\", \"n increase\"])\n",
    "lloq_plotter[\"method\"] = [\"NMF\", \"KNN\", \"missForest\", \"Sample min\", \"Gaussian sample\"]\n",
    "\n",
    "# fill in \n",
    "lloq_plotter.iloc[0][\"n decrease\"] = n_nmf_decrease_loq\n",
    "lloq_plotter.iloc[0][\"n increase\"] = n_nmf_increase_loq\n",
    "\n",
    "lloq_plotter.iloc[1][\"n decrease\"] = n_knn_decrease_loq\n",
    "lloq_plotter.iloc[1][\"n increase\"] = n_knn_increase_loq\n",
    "\n",
    "lloq_plotter.iloc[2][\"n decrease\"] = n_mf_decrease_loq\n",
    "lloq_plotter.iloc[2][\"n increase\"] = n_mf_increase_loq\n",
    "\n",
    "lloq_plotter.iloc[3][\"n decrease\"] = n_min_decrease_loq\n",
    "lloq_plotter.iloc[3][\"n increase\"] = n_min_increase_loq\n",
    "\n",
    "lloq_plotter.iloc[4][\"n decrease\"] = n_std_decrease_loq\n",
    "lloq_plotter.iloc[4][\"n increase\"] = n_std_increase_loq\n",
    "\n",
    "# negate the decrease values. Will help with plotting\n",
    "#lloq_plotter[\"n decrease\"] = -lloq_plotter[\"n decrease\"]\n",
    "\n",
    "lloq_plotter"
   ]
  },
  {
   "cell_type": "markdown",
   "metadata": {},
   "source": [
    "#### Plot"
   ]
  },
  {
   "cell_type": "code",
   "execution_count": 10,
   "metadata": {},
   "outputs": [],
   "source": [
    "# plt.figure()\n",
    "# plt.barh(data=lloq_plotter, y=\"method\", width=\"n decrease\", label=\"decreased LLOQ\")\n",
    "# plt.barh(data=lloq_plotter, y=\"method\", width=\"n increase\", label=\"increased LLOQ\")\n",
    "\n",
    "# plt.axvline(x=0, color=\"grey\", alpha=0.5)\n",
    "\n",
    "# #plt.legend()\n",
    "# plt.xlabel(\"Number of peptides with decreased (blue) \\nor increased (orange) LLOQ\", labelpad=20)\n",
    "# plt.ylabel(\"imputation method\", labelpad=20)"
   ]
  },
  {
   "cell_type": "markdown",
   "metadata": {},
   "source": [
    "#### Another way of doing the same thing"
   ]
  },
  {
   "cell_type": "code",
   "execution_count": 20,
   "metadata": {},
   "outputs": [
    {
     "data": {
      "image/png": "[encoded data removed]",
      "text/plain": [
       "<Figure size 720x360 with 2 Axes>"
      ]
     },
     "metadata": {},
     "output_type": "display_data"
    }
   ],
   "source": [
    "fig, axes = plt.subplots(figsize=(10,5), ncols=2, sharey=True, sharex=False)\n",
    "fig.tight_layout()\n",
    "\n",
    "axes[0].barh(data=lloq_plotter, y=\"method\", width=\"n decrease\", \n",
    "             label=\"decreased LLOQ\", color=\"#1f77b4\")\n",
    "axes[0].set_title(\"# peptides with $\\it{decreased}$ \\nlower limit of quant\", pad=15)\n",
    "axes[0].set_xlim(left=0, right=4500)\n",
    "\n",
    "axes[1].barh(data=lloq_plotter, y=\"method\", width=\"n increase\", \n",
    "             label=\"increased LLOQ\", color=\"#ff7f0e\")\n",
    "axes[1].set_title(\"# peptides with $\\it{increased}$ \\nlower limit of quant\", pad=15)\n",
    "axes[1].set_xlim(left=0, right=4500)\n",
    "\n",
    "# invert axis of left plot\n",
    "axes[0].invert_xaxis() \n",
    "#axes[1].invert_xaxis() \n",
    "\n",
    "# disguise the right plot's ticks by setting them to the same color\n",
    "    # as the left plot's bars\n",
    "axes[1].tick_params(axis='y', colors='#1f77b4')\n",
    "\n",
    "plt.subplots_adjust(wspace=0, top=0.85, bottom=0.1, left=0.18, right=0.95)\n",
    "\n",
    "#plt.show()\n",
    "#plt.savefig(\"lloq-fig-alt.png\", dpi=250, bbox_inches=\"tight\")"
   ]
  },
  {
   "cell_type": "code",
   "execution_count": 12,
   "metadata": {},
   "outputs": [
    {
     "data": {
      "text/html": [
       "<div>\n",
       "<style scoped>\n",
       "    .dataframe tbody tr th:only-of-type {\n",
       "        vertical-align: middle;\n",
       "    }\n",
       "\n",
       "    .dataframe tbody tr th {\n",
       "        vertical-align: top;\n",
       "    }\n",
       "\n",
       "    .dataframe thead th {\n",
       "        text-align: right;\n",
       "    }\n",
       "</style>\n",
       "<table border=\"1\" class=\"dataframe\">\n",
       "  <thead>\n",
       "    <tr style=\"text-align: right;\">\n",
       "      <th></th>\n",
       "      <th>method</th>\n",
       "      <th>n decrease</th>\n",
       "      <th>n increase</th>\n",
       "    </tr>\n",
       "  </thead>\n",
       "  <tbody>\n",
       "    <tr>\n",
       "      <th>0</th>\n",
       "      <td>NMF</td>\n",
       "      <td>1084</td>\n",
       "      <td>2498</td>\n",
       "    </tr>\n",
       "    <tr>\n",
       "      <th>1</th>\n",
       "      <td>KNN</td>\n",
       "      <td>261</td>\n",
       "      <td>2184</td>\n",
       "    </tr>\n",
       "    <tr>\n",
       "      <th>2</th>\n",
       "      <td>missForest</td>\n",
       "      <td>4260</td>\n",
       "      <td>3115</td>\n",
       "    </tr>\n",
       "    <tr>\n",
       "      <th>3</th>\n",
       "      <td>Sample min</td>\n",
       "      <td>252</td>\n",
       "      <td>1187</td>\n",
       "    </tr>\n",
       "    <tr>\n",
       "      <th>4</th>\n",
       "      <td>Gaussian sample</td>\n",
       "      <td>254</td>\n",
       "      <td>1126</td>\n",
       "    </tr>\n",
       "  </tbody>\n",
       "</table>\n",
       "</div>"
      ],
      "text/plain": [
       "            method n decrease n increase\n",
       "0              NMF       1084       2498\n",
       "1              KNN        261       2184\n",
       "2       missForest       4260       3115\n",
       "3       Sample min        252       1187\n",
       "4  Gaussian sample        254       1126"
      ]
     },
     "execution_count": 12,
     "metadata": {},
     "output_type": "execute_result"
    }
   ],
   "source": [
    "lloq_plotter"
   ]
  },
  {
   "cell_type": "markdown",
   "metadata": {},
   "source": [
    "***"
   ]
  },
  {
   "cell_type": "markdown",
   "metadata": {},
   "source": [
    "## Can we add significance tests here?"
   ]
  },
  {
   "cell_type": "code",
   "execution_count": 13,
   "metadata": {},
   "outputs": [],
   "source": [
    "# # if negative, NMF impute increased the LLOQ\n",
    "# #    if positive, NMF impute decreased the LLOQ\n",
    "# nmf_diffs = orig_loq - nmf_loq\n",
    "\n",
    "# list(nmf_diffs)"
   ]
  },
  {
   "cell_type": "markdown",
   "metadata": {},
   "source": [
    "#### Trying a basic significance thresholding idea"
   ]
  },
  {
   "cell_type": "code",
   "execution_count": 14,
   "metadata": {},
   "outputs": [],
   "source": [
    "# # divide all the original LLOQs in half\n",
    "# loq_thresholds = fom_orig[\"LOQ\"] * 0.5\n",
    "\n",
    "# # get the difference between orig LLOQs and NMF imputed LLOQs\n",
    "# nmf_diffs = orig_loq - nmf_loq\n",
    "\n",
    "# # figure out which NMF diffs are above the LLOQ threshold\n",
    "# nmf_sig_diffs_bool = np.abs(nmf_diffs) > loq_thresholds\n",
    "\n",
    "# # get the values associated with the diffs that pass the threshold\n",
    "# nmf_sig_diffs = nmf_diffs[nmf_sig_diffs_bool]\n",
    "\n",
    "# # if negative, NMF impute increased the LLOQ\n",
    "# #    if positive, NMF impute decreased the LLOQ\n",
    "# nmf_n_decrease = np.count_nonzero(nmf_sig_diffs > 0)\n",
    "# nmf_n_increase = np.count_nonzero(nmf_sig_diffs < 0)\n",
    "\n",
    "# print(\"n decrease: \", nmf_n_decrease)\n",
    "# print(\"n increase: \", nmf_n_increase)"
   ]
  },
  {
   "cell_type": "code",
   "execution_count": null,
   "metadata": {},
   "outputs": [],
   "source": []
  }
 ],
 "metadata": {
  "kernelspec": {
   "display_name": "ms-impute-trim",
   "language": "python",
   "name": "ms-impute-trim"
  },
  "language_info": {
   "codemirror_mode": {
    "name": "ipython",
    "version": 3
   },
   "file_extension": ".py",
   "mimetype": "text/x-python",
   "name": "python",
   "nbconvert_exporter": "python",
   "pygments_lexer": "ipython3",
   "version": "3.7.12"
  }
 },
 "nbformat": 4,
 "nbformat_minor": 4
}
