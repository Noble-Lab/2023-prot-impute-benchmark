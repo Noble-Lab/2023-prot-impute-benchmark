{
 "cells": [
  {
   "cell_type": "markdown",
   "metadata": {},
   "source": [
    "# rescue-experiment-comparisons\n",
    "1.18.22\n",
    "\n",
    "So the full workflow is this: \n",
    "\n",
    "1. Run `rescue-experiment-optimized.py` to generate optimized reconstructed matrices with NMF, neural net and kNN. This will write optimized reconstructions to csvs. It will also write small \"tester\" matrices to csvs that you can use for a much faster test. \n",
    "\n",
    "2. Run `calculate-loq-runner.sh`. This is a shell script that will run `calculate-loq.py` on the reconstructed matrices from each imputation method. \n",
    "\n",
    "3. Run this notebook to get the \"quantifiable\" peptides for each reconstruction, test or full. \n",
    "\n",
    "Trying to generate UpSet plots to do comparisons across all five imputation methods. "
   ]
  },
  {
   "cell_type": "code",
   "execution_count": 1,
   "metadata": {},
   "outputs": [],
   "source": [
    "import pandas as pd\n",
    "import numpy as np\n",
    "import upsetplot\n",
    "import matplotlib.pyplot as plt\n",
    "from matplotlib_venn import venn2, venn3\n",
    "import seaborn as sns\n",
    "\n",
    "# plotting templates\n",
    "sns.set(context=\"talk\", style=\"ticks\") \n",
    "pal = sns.color_palette()"
   ]
  },
  {
   "cell_type": "markdown",
   "metadata": {},
   "source": [
    "#### Get the \"quantifiable\" peptides for the original matrix"
   ]
  },
  {
   "cell_type": "code",
   "execution_count": 2,
   "metadata": {
    "scrolled": true
   },
   "outputs": [],
   "source": [
    "fom_orig = pd.read_csv(\"out/fom-orig-MCAR.csv\")\n",
    "\n",
    "# find the rows where LOQ == True\n",
    "q_bool = [fom_orig[\"LOQ\"] != np.inf]\n",
    "# subset the original output dataframe\n",
    "fom_orig_quant = fom_orig.loc[np.array(q_bool)[0]]\n",
    "# reset the indices on the figures of merit quantitative dataframe\n",
    "fom_orig_quant = fom_orig_quant.reset_index(drop=True)"
   ]
  },
  {
   "cell_type": "markdown",
   "metadata": {},
   "source": [
    "#### Get the \"quantifiable\" peptides for the NMF imputed matrix"
   ]
  },
  {
   "cell_type": "code",
   "execution_count": 3,
   "metadata": {
    "scrolled": true
   },
   "outputs": [],
   "source": [
    "fom_nmf = pd.read_csv(\"out/fom-NMF-recon-MCAR.csv\")\n",
    "\n",
    "# find the rows where LOQ == True\n",
    "q_bool = [fom_nmf[\"LOQ\"] != np.inf]\n",
    "# subset the original output dataframe\n",
    "fom_nmf_quant = fom_nmf.loc[np.array(q_bool)[0]]\n",
    "# reset the indices on the figures of merit quantitative dataframe\n",
    "fom_nmf_quant = fom_nmf_quant.reset_index(drop=True)"
   ]
  },
  {
   "cell_type": "markdown",
   "metadata": {},
   "source": [
    "#### Get the \"quantifiable\" peptides in the kNN imputed matrix"
   ]
  },
  {
   "cell_type": "code",
   "execution_count": 4,
   "metadata": {},
   "outputs": [],
   "source": [
    "fom_knn = pd.read_csv(\"out/fom-KNN-recon-MCAR.csv\")\n",
    "\n",
    "# find the rows where LOQ == True\n",
    "q_bool = [fom_knn[\"LOQ\"] != np.inf]\n",
    "# subset the original output dataframe\n",
    "fom_knn_quant = fom_knn.loc[np.array(q_bool)[0]]\n",
    "# reset the indices on the figures of merit quantitative dataframe\n",
    "fom_knn_quant = fom_knn_quant.reset_index(drop=True)"
   ]
  },
  {
   "cell_type": "markdown",
   "metadata": {},
   "source": [
    "#### Get the \"quantifiable\" peptides in the missForest imputed matrix"
   ]
  },
  {
   "cell_type": "code",
   "execution_count": 5,
   "metadata": {
    "scrolled": true
   },
   "outputs": [],
   "source": [
    "fom_mf = pd.read_csv(\"out/fom-mf-recon-MCAR.csv\")\n",
    "\n",
    "# find the rows where LOQ == True\n",
    "q_bool = [fom_mf[\"LOQ\"] != np.inf]\n",
    "# subset the original output dataframe\n",
    "fom_mf_quant = fom_mf.loc[np.array(q_bool)[0]]\n",
    "# reset the indices on the figures of merit quantitative dataframe\n",
    "fom_mf_quant = fom_mf_quant.reset_index(drop=True)"
   ]
  },
  {
   "cell_type": "markdown",
   "metadata": {},
   "source": [
    "#### Get the \"quantifiable\" peptides in the sample min imputed matrix"
   ]
  },
  {
   "cell_type": "code",
   "execution_count": 6,
   "metadata": {},
   "outputs": [],
   "source": [
    "fom_min = pd.read_csv(\"out/fom-min-recon-MCAR.csv\")\n",
    "\n",
    "# find the rows where LOQ == True\n",
    "q_bool = [fom_min[\"LOQ\"] != np.inf]\n",
    "# subset the original output dataframe\n",
    "fom_min_quant = fom_min.loc[np.array(q_bool)[0]]\n",
    "# reset the indices on the figures of merit quantitative dataframe\n",
    "fom_min_quant = fom_min_quant.reset_index(drop=True)"
   ]
  },
  {
   "cell_type": "markdown",
   "metadata": {},
   "source": [
    "#### Get the \"quantifiable\" peptides in the Gaussian random draw imputed matrix"
   ]
  },
  {
   "cell_type": "code",
   "execution_count": 7,
   "metadata": {},
   "outputs": [],
   "source": [
    "fom_std = pd.read_csv(\"out/fom-std-recon-MCAR.csv\")\n",
    "\n",
    "# find the rows where LOQ == True\n",
    "q_bool = [fom_std[\"LOQ\"] != np.inf]\n",
    "# subset the original output dataframe\n",
    "fom_std_quant = fom_std.loc[np.array(q_bool)[0]]\n",
    "# reset the indices on the figures of merit quantitative dataframe\n",
    "fom_std_quant = fom_std_quant.reset_index(drop=True)"
   ]
  },
  {
   "cell_type": "markdown",
   "metadata": {},
   "source": [
    "#### Compare"
   ]
  },
  {
   "cell_type": "code",
   "execution_count": 8,
   "metadata": {},
   "outputs": [
    {
     "name": "stdout",
     "output_type": "stream",
     "text": [
      "n quant peptides, original:  7707\n",
      "n quant peptides, NMF impute:  4723\n",
      "n quant peptides, kNN impute:  3505\n",
      "n quant peptides, missForest impute:  10475\n",
      "n quant peptides, sample min impute:  1487\n",
      "n quant peptides, random sample impute:  1424\n"
     ]
    }
   ],
   "source": [
    "orig_nquant = fom_orig_quant.shape[0]\n",
    "nmf_recon_nquant = fom_nmf_quant.shape[0]\n",
    "knn_recon_nquant = fom_knn_quant.shape[0]\n",
    "mf_recon_nquant = fom_mf_quant.shape[0]\n",
    "min_recon_nquant = fom_min_quant.shape[0]\n",
    "std_recon_nquant = fom_std_quant.shape[0]\n",
    "\n",
    "print(\"n quant peptides, original: \", orig_nquant)\n",
    "print(\"n quant peptides, NMF impute: \", nmf_recon_nquant)\n",
    "print(\"n quant peptides, kNN impute: \", knn_recon_nquant)\n",
    "print(\"n quant peptides, missForest impute: \", mf_recon_nquant)\n",
    "print(\"n quant peptides, sample min impute: \", min_recon_nquant)\n",
    "print(\"n quant peptides, random sample impute: \", std_recon_nquant)"
   ]
  },
  {
   "cell_type": "markdown",
   "metadata": {},
   "source": [
    "***"
   ]
  },
  {
   "cell_type": "markdown",
   "metadata": {},
   "source": [
    "## Create a dataframe where rows are imputation methods and columns are the 300 peptides\n",
    "1 indicates the peptide was quantitative, 0 not."
   ]
  },
  {
   "cell_type": "markdown",
   "metadata": {},
   "source": [
    "#### Init dataframe"
   ]
  },
  {
   "cell_type": "code",
   "execution_count": 11,
   "metadata": {
    "scrolled": true
   },
   "outputs": [
    {
     "data": {
      "text/plain": [
       "(6, 21876)"
      ]
     },
     "execution_count": 11,
     "metadata": {},
     "output_type": "execute_result"
    }
   ],
   "source": [
    "all_pids = list(fom_orig[\"peptide\"])\n",
    "all_pids.insert(0, \"method\")\n",
    "\n",
    "upset_df = pd.DataFrame(np.zeros((6,21876)), columns=all_pids)\n",
    "upset_df[\"method\"] = [\"orig\", \"NMF\", \"kNN\", \"mf\", \"min\", \"std\"]\n",
    "\n",
    "upset_df.shape"
   ]
  },
  {
   "cell_type": "markdown",
   "metadata": {},
   "source": [
    "#### Get the lists of quantitative peptides"
   ]
  },
  {
   "cell_type": "code",
   "execution_count": 12,
   "metadata": {
    "scrolled": true
   },
   "outputs": [],
   "source": [
    "orig_qpids = list(fom_orig_quant[\"peptide\"])\n",
    "nmf_qpids = list(fom_nmf_quant[\"peptide\"])\n",
    "knn_qpids = list(fom_knn_quant[\"peptide\"])\n",
    "mf_qpids = list(fom_mf_quant[\"peptide\"])\n",
    "min_qpids = list(fom_min_quant[\"peptide\"])\n",
    "std_qpids = list(fom_std_quant[\"peptide\"])"
   ]
  },
  {
   "cell_type": "markdown",
   "metadata": {},
   "source": [
    "#### Fill in the upset plot dataframe"
   ]
  },
  {
   "cell_type": "code",
   "execution_count": 13,
   "metadata": {},
   "outputs": [],
   "source": [
    "for pid in upset_df.columns:\n",
    "    if pid in orig_qpids:\n",
    "        upset_df.loc[0, pid] = 1\n",
    "    if pid in nmf_qpids:\n",
    "        upset_df.loc[1, pid] = 1\n",
    "    if pid in knn_qpids:\n",
    "        upset_df.loc[2, pid] = 1\n",
    "    if pid in mf_qpids:\n",
    "        upset_df.loc[3, pid] = 1\n",
    "    if pid in min_qpids:\n",
    "        upset_df.loc[4, pid] = 1\n",
    "    if pid in std_qpids:\n",
    "        upset_df.loc[5, pid] = 1"
   ]
  },
  {
   "cell_type": "code",
   "execution_count": 14,
   "metadata": {},
   "outputs": [
    {
     "data": {
      "text/html": [
       "<div>\n",
       "<style scoped>\n",
       "    .dataframe tbody tr th:only-of-type {\n",
       "        vertical-align: middle;\n",
       "    }\n",
       "\n",
       "    .dataframe tbody tr th {\n",
       "        vertical-align: top;\n",
       "    }\n",
       "\n",
       "    .dataframe thead th {\n",
       "        text-align: right;\n",
       "    }\n",
       "</style>\n",
       "<table border=\"1\" class=\"dataframe\">\n",
       "  <thead>\n",
       "    <tr style=\"text-align: right;\">\n",
       "      <th></th>\n",
       "      <th>method</th>\n",
       "      <th>AAAALAGGKK</th>\n",
       "      <th>AAAAQDEITGDGTTTVVC[+57.0214635]LVGELLR</th>\n",
       "      <th>AAADALSDLEIK</th>\n",
       "      <th>AAAEGVANLHLDEATGEMVSK</th>\n",
       "      <th>AAAEYEKGEYETAISTLNDAVEQGR</th>\n",
       "      <th>AAAGSVLLEDC[+57.0214635]K</th>\n",
       "      <th>AAALVYPGSETFIVWGHVGLDEVSPIGK</th>\n",
       "      <th>AAANHTPPDMTNMDTR</th>\n",
       "      <th>AAAPGIQLVAGEGFQSPLEDR</th>\n",
       "      <th>...</th>\n",
       "      <th>VILNQAFIER</th>\n",
       "      <th>VILPIASMFVK</th>\n",
       "      <th>VILPTQNMDGTIAK</th>\n",
       "      <th>VILQILNYIR</th>\n",
       "      <th>VILTQVGSGPQETNESLIDAK</th>\n",
       "      <th>VINAITGGVATDIADK</th>\n",
       "      <th>VINALDYDIIAAESHTISQAVR</th>\n",
       "      <th>VINATPTMVIPPLILVR</th>\n",
       "      <th>VINDAFGIEEGLMTTVHSLTATQK</th>\n",
       "      <th>VINDAFGIEEGLMTTVHSMTATQK</th>\n",
       "    </tr>\n",
       "  </thead>\n",
       "  <tbody>\n",
       "    <tr>\n",
       "      <th>0</th>\n",
       "      <td>orig</td>\n",
       "      <td>0.0</td>\n",
       "      <td>1.0</td>\n",
       "      <td>1.0</td>\n",
       "      <td>1.0</td>\n",
       "      <td>0.0</td>\n",
       "      <td>0.0</td>\n",
       "      <td>0.0</td>\n",
       "      <td>0.0</td>\n",
       "      <td>0.0</td>\n",
       "      <td>...</td>\n",
       "      <td>0.0</td>\n",
       "      <td>0.0</td>\n",
       "      <td>0.0</td>\n",
       "      <td>0.0</td>\n",
       "      <td>0.0</td>\n",
       "      <td>0.0</td>\n",
       "      <td>0.0</td>\n",
       "      <td>1.0</td>\n",
       "      <td>0.0</td>\n",
       "      <td>0.0</td>\n",
       "    </tr>\n",
       "    <tr>\n",
       "      <th>1</th>\n",
       "      <td>NMF</td>\n",
       "      <td>0.0</td>\n",
       "      <td>1.0</td>\n",
       "      <td>0.0</td>\n",
       "      <td>0.0</td>\n",
       "      <td>0.0</td>\n",
       "      <td>0.0</td>\n",
       "      <td>0.0</td>\n",
       "      <td>0.0</td>\n",
       "      <td>0.0</td>\n",
       "      <td>...</td>\n",
       "      <td>0.0</td>\n",
       "      <td>0.0</td>\n",
       "      <td>0.0</td>\n",
       "      <td>0.0</td>\n",
       "      <td>0.0</td>\n",
       "      <td>0.0</td>\n",
       "      <td>0.0</td>\n",
       "      <td>0.0</td>\n",
       "      <td>0.0</td>\n",
       "      <td>0.0</td>\n",
       "    </tr>\n",
       "    <tr>\n",
       "      <th>2</th>\n",
       "      <td>kNN</td>\n",
       "      <td>0.0</td>\n",
       "      <td>0.0</td>\n",
       "      <td>0.0</td>\n",
       "      <td>0.0</td>\n",
       "      <td>0.0</td>\n",
       "      <td>0.0</td>\n",
       "      <td>0.0</td>\n",
       "      <td>0.0</td>\n",
       "      <td>0.0</td>\n",
       "      <td>...</td>\n",
       "      <td>0.0</td>\n",
       "      <td>0.0</td>\n",
       "      <td>0.0</td>\n",
       "      <td>0.0</td>\n",
       "      <td>0.0</td>\n",
       "      <td>0.0</td>\n",
       "      <td>0.0</td>\n",
       "      <td>0.0</td>\n",
       "      <td>0.0</td>\n",
       "      <td>0.0</td>\n",
       "    </tr>\n",
       "    <tr>\n",
       "      <th>3</th>\n",
       "      <td>mf</td>\n",
       "      <td>0.0</td>\n",
       "      <td>1.0</td>\n",
       "      <td>1.0</td>\n",
       "      <td>1.0</td>\n",
       "      <td>0.0</td>\n",
       "      <td>0.0</td>\n",
       "      <td>0.0</td>\n",
       "      <td>0.0</td>\n",
       "      <td>0.0</td>\n",
       "      <td>...</td>\n",
       "      <td>0.0</td>\n",
       "      <td>1.0</td>\n",
       "      <td>0.0</td>\n",
       "      <td>0.0</td>\n",
       "      <td>0.0</td>\n",
       "      <td>1.0</td>\n",
       "      <td>0.0</td>\n",
       "      <td>1.0</td>\n",
       "      <td>0.0</td>\n",
       "      <td>0.0</td>\n",
       "    </tr>\n",
       "    <tr>\n",
       "      <th>4</th>\n",
       "      <td>min</td>\n",
       "      <td>0.0</td>\n",
       "      <td>0.0</td>\n",
       "      <td>0.0</td>\n",
       "      <td>0.0</td>\n",
       "      <td>0.0</td>\n",
       "      <td>0.0</td>\n",
       "      <td>0.0</td>\n",
       "      <td>0.0</td>\n",
       "      <td>0.0</td>\n",
       "      <td>...</td>\n",
       "      <td>0.0</td>\n",
       "      <td>0.0</td>\n",
       "      <td>0.0</td>\n",
       "      <td>0.0</td>\n",
       "      <td>0.0</td>\n",
       "      <td>0.0</td>\n",
       "      <td>0.0</td>\n",
       "      <td>0.0</td>\n",
       "      <td>0.0</td>\n",
       "      <td>0.0</td>\n",
       "    </tr>\n",
       "    <tr>\n",
       "      <th>5</th>\n",
       "      <td>std</td>\n",
       "      <td>0.0</td>\n",
       "      <td>0.0</td>\n",
       "      <td>0.0</td>\n",
       "      <td>0.0</td>\n",
       "      <td>0.0</td>\n",
       "      <td>0.0</td>\n",
       "      <td>0.0</td>\n",
       "      <td>0.0</td>\n",
       "      <td>0.0</td>\n",
       "      <td>...</td>\n",
       "      <td>0.0</td>\n",
       "      <td>0.0</td>\n",
       "      <td>0.0</td>\n",
       "      <td>0.0</td>\n",
       "      <td>0.0</td>\n",
       "      <td>0.0</td>\n",
       "      <td>0.0</td>\n",
       "      <td>0.0</td>\n",
       "      <td>0.0</td>\n",
       "      <td>0.0</td>\n",
       "    </tr>\n",
       "  </tbody>\n",
       "</table>\n",
       "<p>6 rows × 21876 columns</p>\n",
       "</div>"
      ],
      "text/plain": [
       "  method  AAAALAGGKK  AAAAQDEITGDGTTTVVC[+57.0214635]LVGELLR  AAADALSDLEIK  \\\n",
       "0   orig         0.0                                     1.0           1.0   \n",
       "1    NMF         0.0                                     1.0           0.0   \n",
       "2    kNN         0.0                                     0.0           0.0   \n",
       "3     mf         0.0                                     1.0           1.0   \n",
       "4    min         0.0                                     0.0           0.0   \n",
       "5    std         0.0                                     0.0           0.0   \n",
       "\n",
       "   AAAEGVANLHLDEATGEMVSK  AAAEYEKGEYETAISTLNDAVEQGR  \\\n",
       "0                    1.0                        0.0   \n",
       "1                    0.0                        0.0   \n",
       "2                    0.0                        0.0   \n",
       "3                    1.0                        0.0   \n",
       "4                    0.0                        0.0   \n",
       "5                    0.0                        0.0   \n",
       "\n",
       "   AAAGSVLLEDC[+57.0214635]K  AAALVYPGSETFIVWGHVGLDEVSPIGK  AAANHTPPDMTNMDTR  \\\n",
       "0                        0.0                           0.0               0.0   \n",
       "1                        0.0                           0.0               0.0   \n",
       "2                        0.0                           0.0               0.0   \n",
       "3                        0.0                           0.0               0.0   \n",
       "4                        0.0                           0.0               0.0   \n",
       "5                        0.0                           0.0               0.0   \n",
       "\n",
       "   AAAPGIQLVAGEGFQSPLEDR  ...  VILNQAFIER  VILPIASMFVK  VILPTQNMDGTIAK  \\\n",
       "0                    0.0  ...         0.0          0.0             0.0   \n",
       "1                    0.0  ...         0.0          0.0             0.0   \n",
       "2                    0.0  ...         0.0          0.0             0.0   \n",
       "3                    0.0  ...         0.0          1.0             0.0   \n",
       "4                    0.0  ...         0.0          0.0             0.0   \n",
       "5                    0.0  ...         0.0          0.0             0.0   \n",
       "\n",
       "   VILQILNYIR  VILTQVGSGPQETNESLIDAK  VINAITGGVATDIADK  \\\n",
       "0         0.0                    0.0               0.0   \n",
       "1         0.0                    0.0               0.0   \n",
       "2         0.0                    0.0               0.0   \n",
       "3         0.0                    0.0               1.0   \n",
       "4         0.0                    0.0               0.0   \n",
       "5         0.0                    0.0               0.0   \n",
       "\n",
       "   VINALDYDIIAAESHTISQAVR  VINATPTMVIPPLILVR  VINDAFGIEEGLMTTVHSLTATQK  \\\n",
       "0                     0.0                1.0                       0.0   \n",
       "1                     0.0                0.0                       0.0   \n",
       "2                     0.0                0.0                       0.0   \n",
       "3                     0.0                1.0                       0.0   \n",
       "4                     0.0                0.0                       0.0   \n",
       "5                     0.0                0.0                       0.0   \n",
       "\n",
       "   VINDAFGIEEGLMTTVHSMTATQK  \n",
       "0                       0.0  \n",
       "1                       0.0  \n",
       "2                       0.0  \n",
       "3                       0.0  \n",
       "4                       0.0  \n",
       "5                       0.0  \n",
       "\n",
       "[6 rows x 21876 columns]"
      ]
     },
     "execution_count": 14,
     "metadata": {},
     "output_type": "execute_result"
    }
   ],
   "source": [
    "upset_df"
   ]
  },
  {
   "cell_type": "markdown",
   "metadata": {},
   "source": [
    "#### Transpose, bc I think this is what `UpsetR` wants"
   ]
  },
  {
   "cell_type": "code",
   "execution_count": 15,
   "metadata": {},
   "outputs": [
    {
     "data": {
      "text/html": [
       "<div>\n",
       "<style scoped>\n",
       "    .dataframe tbody tr th:only-of-type {\n",
       "        vertical-align: middle;\n",
       "    }\n",
       "\n",
       "    .dataframe tbody tr th {\n",
       "        vertical-align: top;\n",
       "    }\n",
       "\n",
       "    .dataframe thead th {\n",
       "        text-align: right;\n",
       "    }\n",
       "</style>\n",
       "<table border=\"1\" class=\"dataframe\">\n",
       "  <thead>\n",
       "    <tr style=\"text-align: right;\">\n",
       "      <th></th>\n",
       "      <th>orig</th>\n",
       "      <th>NMF</th>\n",
       "      <th>kNN</th>\n",
       "      <th>mf</th>\n",
       "      <th>min</th>\n",
       "      <th>std</th>\n",
       "    </tr>\n",
       "  </thead>\n",
       "  <tbody>\n",
       "    <tr>\n",
       "      <th>AAAALAGGKK</th>\n",
       "      <td>0.0</td>\n",
       "      <td>0.0</td>\n",
       "      <td>0.0</td>\n",
       "      <td>0.0</td>\n",
       "      <td>0.0</td>\n",
       "      <td>0.0</td>\n",
       "    </tr>\n",
       "    <tr>\n",
       "      <th>AAAAQDEITGDGTTTVVC[+57.0214635]LVGELLR</th>\n",
       "      <td>1.0</td>\n",
       "      <td>1.0</td>\n",
       "      <td>0.0</td>\n",
       "      <td>1.0</td>\n",
       "      <td>0.0</td>\n",
       "      <td>0.0</td>\n",
       "    </tr>\n",
       "    <tr>\n",
       "      <th>AAADALSDLEIK</th>\n",
       "      <td>1.0</td>\n",
       "      <td>0.0</td>\n",
       "      <td>0.0</td>\n",
       "      <td>1.0</td>\n",
       "      <td>0.0</td>\n",
       "      <td>0.0</td>\n",
       "    </tr>\n",
       "    <tr>\n",
       "      <th>AAAEGVANLHLDEATGEMVSK</th>\n",
       "      <td>1.0</td>\n",
       "      <td>0.0</td>\n",
       "      <td>0.0</td>\n",
       "      <td>1.0</td>\n",
       "      <td>0.0</td>\n",
       "      <td>0.0</td>\n",
       "    </tr>\n",
       "    <tr>\n",
       "      <th>AAAEYEKGEYETAISTLNDAVEQGR</th>\n",
       "      <td>0.0</td>\n",
       "      <td>0.0</td>\n",
       "      <td>0.0</td>\n",
       "      <td>0.0</td>\n",
       "      <td>0.0</td>\n",
       "      <td>0.0</td>\n",
       "    </tr>\n",
       "    <tr>\n",
       "      <th>...</th>\n",
       "      <td>...</td>\n",
       "      <td>...</td>\n",
       "      <td>...</td>\n",
       "      <td>...</td>\n",
       "      <td>...</td>\n",
       "      <td>...</td>\n",
       "    </tr>\n",
       "    <tr>\n",
       "      <th>VINAITGGVATDIADK</th>\n",
       "      <td>0.0</td>\n",
       "      <td>0.0</td>\n",
       "      <td>0.0</td>\n",
       "      <td>1.0</td>\n",
       "      <td>0.0</td>\n",
       "      <td>0.0</td>\n",
       "    </tr>\n",
       "    <tr>\n",
       "      <th>VINALDYDIIAAESHTISQAVR</th>\n",
       "      <td>0.0</td>\n",
       "      <td>0.0</td>\n",
       "      <td>0.0</td>\n",
       "      <td>0.0</td>\n",
       "      <td>0.0</td>\n",
       "      <td>0.0</td>\n",
       "    </tr>\n",
       "    <tr>\n",
       "      <th>VINATPTMVIPPLILVR</th>\n",
       "      <td>1.0</td>\n",
       "      <td>0.0</td>\n",
       "      <td>0.0</td>\n",
       "      <td>1.0</td>\n",
       "      <td>0.0</td>\n",
       "      <td>0.0</td>\n",
       "    </tr>\n",
       "    <tr>\n",
       "      <th>VINDAFGIEEGLMTTVHSLTATQK</th>\n",
       "      <td>0.0</td>\n",
       "      <td>0.0</td>\n",
       "      <td>0.0</td>\n",
       "      <td>0.0</td>\n",
       "      <td>0.0</td>\n",
       "      <td>0.0</td>\n",
       "    </tr>\n",
       "    <tr>\n",
       "      <th>VINDAFGIEEGLMTTVHSMTATQK</th>\n",
       "      <td>0.0</td>\n",
       "      <td>0.0</td>\n",
       "      <td>0.0</td>\n",
       "      <td>0.0</td>\n",
       "      <td>0.0</td>\n",
       "      <td>0.0</td>\n",
       "    </tr>\n",
       "  </tbody>\n",
       "</table>\n",
       "<p>21875 rows × 6 columns</p>\n",
       "</div>"
      ],
      "text/plain": [
       "                                       orig  NMF  kNN   mf  min  std\n",
       "AAAALAGGKK                              0.0  0.0  0.0  0.0  0.0  0.0\n",
       "AAAAQDEITGDGTTTVVC[+57.0214635]LVGELLR  1.0  1.0  0.0  1.0  0.0  0.0\n",
       "AAADALSDLEIK                            1.0  0.0  0.0  1.0  0.0  0.0\n",
       "AAAEGVANLHLDEATGEMVSK                   1.0  0.0  0.0  1.0  0.0  0.0\n",
       "AAAEYEKGEYETAISTLNDAVEQGR               0.0  0.0  0.0  0.0  0.0  0.0\n",
       "...                                     ...  ...  ...  ...  ...  ...\n",
       "VINAITGGVATDIADK                        0.0  0.0  0.0  1.0  0.0  0.0\n",
       "VINALDYDIIAAESHTISQAVR                  0.0  0.0  0.0  0.0  0.0  0.0\n",
       "VINATPTMVIPPLILVR                       1.0  0.0  0.0  1.0  0.0  0.0\n",
       "VINDAFGIEEGLMTTVHSLTATQK                0.0  0.0  0.0  0.0  0.0  0.0\n",
       "VINDAFGIEEGLMTTVHSMTATQK                0.0  0.0  0.0  0.0  0.0  0.0\n",
       "\n",
       "[21875 rows x 6 columns]"
      ]
     },
     "execution_count": 15,
     "metadata": {},
     "output_type": "execute_result"
    }
   ],
   "source": [
    "upset_T = upset_df.T\n",
    "upset_T.columns = [\"orig\", \"NMF\", \"kNN\", \"mf\", \"min\", \"std\"]\n",
    "upset_T = upset_T.drop([\"method\"])\n",
    "upset_T"
   ]
  },
  {
   "cell_type": "code",
   "execution_count": 16,
   "metadata": {},
   "outputs": [
    {
     "data": {
      "text/plain": [
       "orig     7707.0\n",
       "NMF      4723.0\n",
       "kNN      3505.0\n",
       "mf      10475.0\n",
       "min      1487.0\n",
       "std      1424.0\n",
       "dtype: object"
      ]
     },
     "execution_count": 16,
     "metadata": {},
     "output_type": "execute_result"
    }
   ],
   "source": [
    "upset_T.sum()"
   ]
  },
  {
   "cell_type": "markdown",
   "metadata": {},
   "source": [
    "#### Write to csv"
   ]
  },
  {
   "cell_type": "code",
   "execution_count": 17,
   "metadata": {},
   "outputs": [],
   "source": [
    "#upset_T.to_csv(\"upset_df_tester.csv\", index=False)\n",
    "upset_T.to_csv(\"upset_df_full.csv\", index=False)"
   ]
  },
  {
   "cell_type": "code",
   "execution_count": null,
   "metadata": {},
   "outputs": [],
   "source": []
  }
 ],
 "metadata": {
  "kernelspec": {
   "display_name": "ms-impute-trim",
   "language": "python",
   "name": "ms-impute-trim"
  },
  "language_info": {
   "codemirror_mode": {
    "name": "ipython",
    "version": 3
   },
   "file_extension": ".py",
   "mimetype": "text/x-python",
   "name": "python",
   "nbconvert_exporter": "python",
   "pygments_lexer": "ipython3",
   "version": "3.7.12"
  }
 },
 "nbformat": 4,
 "nbformat_minor": 4
}
