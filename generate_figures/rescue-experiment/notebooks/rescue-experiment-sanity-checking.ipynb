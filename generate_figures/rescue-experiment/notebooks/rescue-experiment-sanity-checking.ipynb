{
 "cells": [
  {
   "cell_type": "markdown",
   "metadata": {},
   "source": [
    "# rescue-experiment-sanity-checking\n",
    "1.18.22\n",
    "\n",
    "Taking a look at the distribution of the partitions, before and after partitioning with MNAR and MCAR schemes. \n",
    "Remember that this is a different dataset from the one we used in the DE test experiment. \n",
    "\n",
    "When I do a MNAR partition, the training and validation sets are right on top of each other. Would it be better to log transform the quants matrix first, then partition? Might see better separation. "
   ]
  },
  {
   "cell_type": "code",
   "execution_count": 1,
   "metadata": {},
   "outputs": [],
   "source": [
    "import pandas as pd\n",
    "import numpy as np\n",
    "import sys\n",
    "import os\n",
    "import seaborn as sns\n",
    "import matplotlib.pyplot as plt\n",
    "\n",
    "sys.path.append('../../../../bin/')\n",
    "import util_functions\n",
    "import intermediate_plots\n",
    "\n",
    "# plotting templates\n",
    "sns.set(context=\"talk\", style=\"ticks\") \n",
    "pal = sns.color_palette()"
   ]
  },
  {
   "cell_type": "markdown",
   "metadata": {},
   "source": [
    "#### Some configs"
   ]
  },
  {
   "cell_type": "code",
   "execution_count": 2,
   "metadata": {},
   "outputs": [],
   "source": [
    "# partitioning params\n",
    "val_frac = 0.27\n",
    "test_frac = 0.0\n",
    "# setting this to 0 ensures that no peptides will be filtered out\n",
    "min_present = 0     # during partitioning\n",
    "q_anchor=0.2  # these three for MNAR partition \n",
    "t_std=0.2 \n",
    "brnl_prob=0.3\n",
    "\n",
    "# NMF training params\n",
    "batch_size = 64\n",
    "\n",
    "# the random number generator\n",
    "rng = np.random.default_rng(seed=18)\n",
    "\n",
    "# the random state for the partition\n",
    "split_rand_state = 18\n",
    "\n",
    "# path to the yeast calibration curve quants data\n",
    "quants_path = \"../../../../data/maccoss-data/yeast-cal-curves.csv\""
   ]
  },
  {
   "cell_type": "markdown",
   "metadata": {},
   "source": [
    "#### Read in the quants dataset, preprocess and partition "
   ]
  },
  {
   "cell_type": "code",
   "execution_count": 3,
   "metadata": {},
   "outputs": [],
   "source": [
    "# read in the yeast calibration curves dataset\n",
    "quants_orig = pd.read_csv(quants_path)\n",
    "\n",
    "# retain the original peptide IDs\n",
    "pids_orig = quants_orig[\"Peptide\"]\n",
    "\n",
    "# remove extraneous columns\n",
    "to_remove = [\"Peptide\", \"Protein\", \"numFragments\"]\n",
    "quants = quants_orig.drop(to_remove, axis=1)\n",
    "\n",
    "# convert to numpy\n",
    "quants = np.array(quants)\n",
    "\n",
    "# convert zeros to NaNs\n",
    "quants[quants == 0.0] = np.nan\n",
    "\n",
    "# because this is EncyclopeDIA data we're going to convert anything <1 to NaN \n",
    "quants[quants < 1.0] = np.nan\n",
    "\n",
    "# MCAR partition \n",
    "train, val, test = util_functions.split(\n",
    "                                    quants, \n",
    "                                    val_frac=val_frac,\n",
    "                                    test_frac=test_frac, \n",
    "                                    min_present=min_present,\n",
    "                                    random_state=split_rand_state,\n",
    ")\n",
    "\n",
    "# # MNAR partition \n",
    "# train, val = util_functions.MNAR_partition_thresholds_matrix(\n",
    "#                                     quants, \n",
    "#                                     q_anchor=q_anchor, \n",
    "#                                     t_std=t_std, \n",
    "#                                     brnl_prob=brnl_prob, \n",
    "#                                     min_pres=min_present,\n",
    "#                                     rand_state=split_rand_state,\n",
    "# )"
   ]
  },
  {
   "cell_type": "markdown",
   "metadata": {},
   "source": [
    "#### Get the MV fractions "
   ]
  },
  {
   "cell_type": "code",
   "execution_count": 4,
   "metadata": {},
   "outputs": [
    {
     "name": "stdout",
     "output_type": "stream",
     "text": [
      "original MV frac:  0.29\n",
      "train MV frac:  0.48\n",
      "val MV frac:  0.81\n"
     ]
    }
   ],
   "source": [
    "# what is the MV fraction of the partitions? \n",
    "orig_mv_frac = np.count_nonzero(np.isnan(quants)) / quants.size\n",
    "train_mv_frac = np.count_nonzero(np.isnan(train)) / train.size\n",
    "val_mv_frac = np.count_nonzero(np.isnan(val)) / val.size\n",
    "\n",
    "print(\"original MV frac: \", np.around(orig_mv_frac, decimals=2))\n",
    "print(\"train MV frac: \", np.around(train_mv_frac, decimals=2))\n",
    "print(\"val MV frac: \", np.around(val_mv_frac, decimals=2))"
   ]
  },
  {
   "cell_type": "markdown",
   "metadata": {},
   "source": [
    "#### Get the optimal number of training batches"
   ]
  },
  {
   "cell_type": "code",
   "execution_count": 5,
   "metadata": {},
   "outputs": [
    {
     "name": "stdout",
     "output_type": "stream",
     "text": [
      "341\n"
     ]
    }
   ],
   "source": [
    "# get the optimal n_batches for training and evaluation\n",
    "if len(~np.isnan(train)) > 100:\n",
    "    n_batches = int(np.floor(len(~np.isnan(train)) / batch_size))\n",
    "    # setting the minimum n_batches to 100\n",
    "    n_batches = max(n_batches, 100) \n",
    "else: \n",
    "    n_batches = 1\n",
    "    \n",
    "print(n_batches)"
   ]
  },
  {
   "cell_type": "markdown",
   "metadata": {},
   "source": [
    "#### Look at the distribution of the partitions"
   ]
  },
  {
   "cell_type": "code",
   "execution_count": 6,
   "metadata": {},
   "outputs": [
    {
     "data": {
      "text/plain": [
       "Text(0, 0.5, 'Counts')"
      ]
     },
     "execution_count": 6,
     "metadata": {},
     "output_type": "execute_result"
    },
    {
     "data": {
      "image/png": "[encoded data removed]",
      "text/plain": [
       "<Figure size 432x288 with 1 Axes>"
      ]
     },
     "metadata": {},
     "output_type": "display_data"
    }
   ],
   "source": [
    "# flatten\n",
    "quants_rav = quants.ravel()\n",
    "train_rav = train.ravel()\n",
    "val_rav = val.ravel()\n",
    "\n",
    "# get the present values from the original matrix\n",
    "p_quants_nans = np.isnan(quants_rav)\n",
    "p_quants_present = quants_rav[~p_quants_nans]\n",
    "\n",
    "# get present values from the training matrix\n",
    "train_nans = np.isnan(train_rav)\n",
    "train_present = train_rav[~train_nans]\n",
    "\n",
    "# get present values from the validation matrix\n",
    "val_nans = np.isnan(val_rav)\n",
    "val_present = val_rav[~val_nans]\n",
    "\n",
    "# get the absolute mins and maxes\n",
    "quants_max = np.max(p_quants_present)\n",
    "quants_min = np.min(p_quants_present)\n",
    "\n",
    "# get the xxth quantile value\n",
    "quants_qmax = np.quantile(p_quants_present, 0.75)\n",
    "\n",
    "bwidth = np.floor((quants_qmax - quants_min) / 100) \n",
    "bins_range = np.arange(quants_min, quants_qmax, bwidth)\n",
    "\n",
    "plt.figure()\n",
    "plt.hist(p_quants_present, density=False, linewidth=0.01, bins=bins_range,\n",
    "         color='cornflowerblue', edgecolor='cornflowerblue', alpha=1.0, label=\"original\")\n",
    "plt.hist(train_present, density=False, linewidth=0.01, bins=bins_range,\n",
    "         color='firebrick', edgecolor='firebrick', alpha=0.8, label=\"training\")\n",
    "plt.hist(val_present, density=False, linewidth=0.01, bins=bins_range,\n",
    "        color='olivedrab', edgecolor='olivedrab', alpha=0.8, label=\"validation\")\n",
    "\n",
    "plt.minorticks_off()\n",
    "\n",
    "plt.ticklabel_format(axis=\"x\", style=\"sci\", scilimits=(0,0))\n",
    "plt.ticklabel_format(axis=\"y\", style=\"sci\", scilimits=(0,0))\n",
    "\n",
    "plt.legend()\n",
    "plt.xlabel(\"Intensity\")\n",
    "plt.ylabel(\"Counts\")"
   ]
  },
  {
   "cell_type": "markdown",
   "metadata": {},
   "source": [
    "***"
   ]
  }
 ],
 "metadata": {
  "kernelspec": {
   "display_name": "ms-impute-trim",
   "language": "python",
   "name": "ms-impute-trim"
  },
  "language_info": {
   "codemirror_mode": {
    "name": "ipython",
    "version": 3
   },
   "file_extension": ".py",
   "mimetype": "text/x-python",
   "name": "python",
   "nbconvert_exporter": "python",
   "pygments_lexer": "ipython3",
   "version": "3.7.12"
  }
 },
 "nbformat": 4,
 "nbformat_minor": 4
}
