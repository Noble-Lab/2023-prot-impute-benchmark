{
 "cells": [
  {
   "cell_type": "markdown",
   "metadata": {},
   "source": [
    "# runtime-plotter-sandbox\n",
    "1.26.23\n",
    "\n",
    "This notebook takes the output from `runtime-production.py` and generates plots\n",
    "for runtime vs dataset size. "
   ]
  },
  {
   "cell_type": "code",
   "execution_count": 1,
   "metadata": {},
   "outputs": [],
   "source": [
    "import pandas as pd\n",
    "import numpy as np\n",
    "import seaborn as sns\n",
    "import matplotlib.pyplot as plt\n",
    "\n",
    "from sklearn.preprocessing import PolynomialFeatures\n",
    "from sklearn.linear_model import LinearRegression\n",
    "from sklearn import linear_model\n",
    "\n",
    "# plotting templates\n",
    "sns.set(context=\"talk\", style=\"ticks\") \n",
    "sns.set_palette(\"tab10\")"
   ]
  },
  {
   "cell_type": "markdown",
   "metadata": {},
   "source": [
    "#### Read in the runtimes dataframe"
   ]
  },
  {
   "cell_type": "code",
   "execution_count": 2,
   "metadata": {},
   "outputs": [],
   "source": [
    "rt_df = pd.read_csv(\"../output/runtimes-mf.csv\")\n",
    "#rt_df"
   ]
  },
  {
   "cell_type": "markdown",
   "metadata": {},
   "source": [
    "#### Log the runtimes\n",
    "This will allow us to fit everything on the same plot. "
   ]
  },
  {
   "cell_type": "code",
   "execution_count": 3,
   "metadata": {},
   "outputs": [],
   "source": [
    "# rt_df[\"NMF sec\"] = np.log(rt_df[\"NMF sec\"])\n",
    "# rt_df[\"kNN sec\"] = np.log(rt_df[\"kNN sec\"])\n",
    "# rt_df[\"min sec\"] = np.log(rt_df[\"min sec\"])\n",
    "# rt_df[\"std sec\"] = np.log(rt_df[\"std sec\"])\n",
    "# rt_df[\"mf sec\"] = np.log(rt_df[\"mf sec\"])\n",
    "# rt_df"
   ]
  },
  {
   "cell_type": "markdown",
   "metadata": {},
   "source": [
    "#### Take a crack at plotting\n",
    "kNN really blows up the scale. Unless you're in log space. "
   ]
  },
  {
   "cell_type": "code",
   "execution_count": 4,
   "metadata": {},
   "outputs": [],
   "source": [
    "# plt.figure()\n",
    "# sns.scatterplot(\n",
    "#     data=rt_df, x=\"n observations\", y=\"NMF sec\", label=\"NMF\")\n",
    "# sns.scatterplot(\n",
    "#     data=rt_df, x=\"n observations\", y=\"kNN sec\", label=\"kNN\")\n",
    "# sns.scatterplot(\n",
    "#     data=rt_df, x=\"n observations\", y=\"min sec\", label=\"Sample Min\", alpha=0.5)\n",
    "# sns.scatterplot(\n",
    "#     data=rt_df, x=\"n observations\", y=\"std sec\", label=\"Gaussian sample\", alpha=0.5)\n",
    "\n",
    "# # turn off opacity for the legend handles\n",
    "# leg = plt.legend(bbox_to_anchor=(1,1), frameon=True, edgecolor=\"grey\")\n",
    "# for lh in leg.legendHandles: \n",
    "#     lh.set_alpha(1)\n",
    "    \n",
    "# plt.xlabel(\"n observations\", labelpad=10)\n",
    "# plt.ylabel(\"runtime (seconds)\", labelpad=10)\n",
    "# plt.ticklabel_format(axis='x', style='sci', scilimits=(0,0))"
   ]
  },
  {
   "cell_type": "markdown",
   "metadata": {},
   "source": [
    "***"
   ]
  },
  {
   "cell_type": "markdown",
   "metadata": {},
   "source": [
    "## Trying to add in trend lines\n",
    "With a couple of different strategies"
   ]
  },
  {
   "cell_type": "markdown",
   "metadata": {},
   "source": [
    "#### Fit a polynomial \n",
    "(of degree _n_)"
   ]
  },
  {
   "cell_type": "code",
   "execution_count": 5,
   "metadata": {
    "scrolled": true
   },
   "outputs": [],
   "source": [
    "# # needs to be sorted for the polynomial fitting to work\n",
    "# rt_df_sorted = rt_df.sort_values(by=\"n observations\")\n",
    "\n",
    "# n_obs = np.array(rt_df_sorted[\"n observations\"]) # x\n",
    "# nmf_rt = np.array(rt_df_sorted[\"NMF sec\"])       # y\n",
    "\n",
    "# # fit an n degree polynomial\n",
    "# poly = PolynomialFeatures(degree=2, include_bias=False)\n",
    "# # get features -- the reshape bit converts it into a 2D array\n",
    "# poly_features = poly.fit_transform(n_obs.reshape(-1, 1))\n",
    "\n",
    "# # init the regression model\n",
    "# poly_reg_model = LinearRegression()\n",
    "# # fit the regression model \n",
    "# poly_reg_model.fit(poly_features, nmf_rt)\n",
    "# # get predictions\n",
    "# y_predicted = poly_reg_model.predict(poly_features)"
   ]
  },
  {
   "cell_type": "markdown",
   "metadata": {},
   "source": [
    "#### Plot"
   ]
  },
  {
   "cell_type": "code",
   "execution_count": 6,
   "metadata": {},
   "outputs": [],
   "source": [
    "# plt.figure()\n",
    "# sns.scatterplot(\n",
    "#     data=rt_df, x=\"n observations\", y=\"NMF sec\", label=\"NMF\")\n",
    "# plt.plot(n_obs, y_predicted, c=\"salmon\", alpha=0.7)\n",
    "\n",
    "# sns.scatterplot(\n",
    "#     data=rt_df, x=\"n observations\", y=\"min sec\", label=\"Sample min\", alpha=0.5)\n",
    "# sns.scatterplot(\n",
    "#     data=rt_df, x=\"n observations\", y=\"std sec\", label=\"Gaussian sample\", alpha=0.5)\n",
    "\n",
    "# # turn off opacity for the legend handles\n",
    "# leg = plt.legend(bbox_to_anchor=(1,1), frameon=True, edgecolor=\"grey\")\n",
    "# for lh in leg.legendHandles: \n",
    "#     lh.set_alpha(1)\n",
    "    \n",
    "# plt.xlabel(\"n observations\", labelpad=10)\n",
    "# plt.ylabel(\"runtime (seconds)\", labelpad=10)\n",
    "# plt.ticklabel_format(axis='x', style='sci', scilimits=(0,0))"
   ]
  },
  {
   "cell_type": "markdown",
   "metadata": {},
   "source": [
    "#### Here I fit a linear regression model "
   ]
  },
  {
   "cell_type": "code",
   "execution_count": 7,
   "metadata": {
    "scrolled": true
   },
   "outputs": [],
   "source": [
    "# # get the X and Y vectors\n",
    "# n_obs = np.array(rt_df[\"n observations\"]) # x\n",
    "# nmf_rt = np.array(rt_df[\"NMF sec\"])       # y\n",
    "\n",
    "# # reshape\n",
    "# n_obs_rs = n_obs.reshape(-1,1)\n",
    "# nmf_rt_rs = nmf_rt.reshape(-1,1)\n",
    "\n",
    "# # create linear regression object\n",
    "# regr = linear_model.LinearRegression()\n",
    "\n",
    "# # train the model using the training sets\n",
    "# regr.fit(n_obs_rs, nmf_rt_rs)\n",
    "\n",
    "# x_test = np.linspace(np.min(n_obs), np.max(n_obs), 100)\n",
    "# x_test_rs = x_test.reshape(-1,1)\n",
    "\n",
    "# # make predictions using the testing set\n",
    "# y_pred_nmf = regr.predict(x_test_rs)"
   ]
  },
  {
   "cell_type": "markdown",
   "metadata": {},
   "source": [
    "#### Overlay the linear regression model onto the existing scatter plot"
   ]
  },
  {
   "cell_type": "code",
   "execution_count": 8,
   "metadata": {},
   "outputs": [],
   "source": [
    "# plt.figure()\n",
    "# sns.scatterplot(\n",
    "#     data=rt_df, x=\"n observations\", y=\"NMF sec\", label=\"NMF\")\n",
    "# plt.plot(x_test, y_pred_nmf, color=\"darkblue\", linewidth=2.5, alpha=0.7)\n",
    "\n",
    "# sns.scatterplot(\n",
    "#     data=rt_df, x=\"n observations\", y=\"min sec\", label=\"Sample Min\", alpha=0.5)\n",
    "# sns.scatterplot(\n",
    "#     data=rt_df, x=\"n observations\", y=\"std sec\", label=\"Gaussian sample\", alpha=0.5)\n",
    "\n",
    "# # turn off opacity for the legend handles\n",
    "# leg = plt.legend(bbox_to_anchor=(1,1), frameon=True, edgecolor=\"grey\")\n",
    "# for lh in leg.legendHandles: \n",
    "#     lh.set_alpha(1)\n",
    "    \n",
    "# plt.xlabel(\"n observations\", labelpad=10)\n",
    "# plt.ylabel(\"runtime (seconds)\", labelpad=10)\n",
    "# plt.ticklabel_format(axis='x', style='sci', scilimits=(0,0))"
   ]
  },
  {
   "cell_type": "markdown",
   "metadata": {},
   "source": [
    "#### Fit linear regression model to kNN as well"
   ]
  },
  {
   "cell_type": "code",
   "execution_count": 9,
   "metadata": {},
   "outputs": [],
   "source": [
    "# # get the X and Y vectors\n",
    "# n_obs = np.array(rt_df[\"n observations\"]) # x\n",
    "# knn_rt = np.array(rt_df[\"kNN sec\"])       # y\n",
    "\n",
    "# # reshape\n",
    "# n_obs_rs = n_obs.reshape(-1,1)\n",
    "# knn_rt_rs = knn_rt.reshape(-1,1)\n",
    "\n",
    "# # create linear regression object\n",
    "# regr = linear_model.LinearRegression()\n",
    "\n",
    "# # train the model using the training sets\n",
    "# regr.fit(n_obs_rs, knn_rt_rs)\n",
    "\n",
    "# x_test = np.linspace(np.min(n_obs), np.max(n_obs), 100)\n",
    "# x_test_rs = x_test.reshape(-1,1)\n",
    "\n",
    "# # make predictions using the testing set\n",
    "# y_pred_knn = regr.predict(x_test_rs)"
   ]
  },
  {
   "cell_type": "code",
   "execution_count": 10,
   "metadata": {},
   "outputs": [],
   "source": [
    "# plt.figure()\n",
    "# sns.scatterplot(\n",
    "#     data=rt_df, x=\"n observations\", y=\"NMF sec\", label=\"NMF\")\n",
    "# plt.plot(x_test, y_pred_nmf, color=\"darkblue\", linewidth=2.5, alpha=0.7)\n",
    "# plt.plot(x_test, y_pred_knn, color=\"orange\", linewidth=2.5, alpha=0.7)\n",
    "\n",
    "# sns.scatterplot(\n",
    "#     data=rt_df, x=\"n observations\", y=\"min sec\", label=\"Sample Min\", alpha=0.5)\n",
    "# sns.scatterplot(\n",
    "#     data=rt_df, x=\"n observations\", y=\"std sec\", label=\"Gaussian sample\", alpha=0.5)\n",
    "\n",
    "# # turn off opacity for the legend handles\n",
    "# leg = plt.legend(bbox_to_anchor=(1,1), frameon=True, edgecolor=\"grey\")\n",
    "# for lh in leg.legendHandles: \n",
    "#     lh.set_alpha(1)\n",
    "    \n",
    "# plt.xlabel(\"n observations\", labelpad=10)\n",
    "# plt.ylabel(\"runtime (seconds)\", labelpad=10)\n",
    "# plt.ticklabel_format(axis='x', style='sci', scilimits=(0,0))"
   ]
  },
  {
   "cell_type": "markdown",
   "metadata": {},
   "source": [
    "***"
   ]
  },
  {
   "cell_type": "markdown",
   "metadata": {},
   "source": [
    "## Polynomial fitting is promising\n",
    "Lets do that for all four methods. Might want these to be different degrees for each impute method. "
   ]
  },
  {
   "cell_type": "code",
   "execution_count": 11,
   "metadata": {},
   "outputs": [],
   "source": [
    "# needs to be sorted for the polynomial fitting to work\n",
    "rt_df_sorted = rt_df.sort_values(by=\"n observations\")\n",
    "\n",
    "n_obs = np.array(rt_df_sorted[\"n observations\"]) # x"
   ]
  },
  {
   "cell_type": "markdown",
   "metadata": {},
   "source": [
    "#### Fit polynomial to NMF"
   ]
  },
  {
   "cell_type": "code",
   "execution_count": 12,
   "metadata": {},
   "outputs": [],
   "source": [
    "nmf_rt = np.array(rt_df_sorted[\"NMF sec\"])  # y\n",
    "\n",
    "# fit an n degree polynomial\n",
    "nmf_poly = PolynomialFeatures(degree=2, include_bias=False)\n",
    "# get features -- the reshape bit converts it into a 2D array\n",
    "nmf_pfeatures = nmf_poly.fit_transform(n_obs.reshape(-1, 1))\n",
    "\n",
    "# init the regression model\n",
    "nmf_preg = LinearRegression()\n",
    "# fit the regression model \n",
    "nmf_preg.fit(nmf_pfeatures, nmf_rt)\n",
    "# get predictions\n",
    "y_pred_nmf = nmf_preg.predict(nmf_pfeatures)"
   ]
  },
  {
   "cell_type": "markdown",
   "metadata": {},
   "source": [
    "#### Fit polynomial to kNN"
   ]
  },
  {
   "cell_type": "code",
   "execution_count": 13,
   "metadata": {},
   "outputs": [],
   "source": [
    "knn_rt = np.array(rt_df_sorted[\"kNN sec\"])  # y\n",
    "\n",
    "# fit an n degree polynomial\n",
    "knn_poly = PolynomialFeatures(degree=2, include_bias=False)\n",
    "# get features -- the reshape bit converts it into a 2D array\n",
    "knn_pfeatures = knn_poly.fit_transform(n_obs.reshape(-1, 1))\n",
    "\n",
    "# init the regression model\n",
    "knn_preg = LinearRegression()\n",
    "# fit the regression model \n",
    "knn_preg.fit(knn_pfeatures, knn_rt)\n",
    "# get predictions\n",
    "y_pred_knn = knn_preg.predict(knn_pfeatures)"
   ]
  },
  {
   "cell_type": "markdown",
   "metadata": {},
   "source": [
    "#### Fit polynomial to sample min\n",
    "Probably makes sense to do a 1 degree polynomial for this one. "
   ]
  },
  {
   "cell_type": "code",
   "execution_count": 14,
   "metadata": {},
   "outputs": [],
   "source": [
    "min_rt = np.array(rt_df_sorted[\"min sec\"])  # y\n",
    "\n",
    "# fit an n degree polynomial\n",
    "min_poly = PolynomialFeatures(degree=1, include_bias=False)\n",
    "# get features -- the reshape bit converts it into a 2D array\n",
    "min_pfeatures = min_poly.fit_transform(n_obs.reshape(-1, 1))\n",
    "\n",
    "# init the regression model\n",
    "min_preg = LinearRegression()\n",
    "# fit the regression model \n",
    "min_preg.fit(min_pfeatures, min_rt)\n",
    "# get predictions\n",
    "y_pred_min = min_preg.predict(min_pfeatures)"
   ]
  },
  {
   "cell_type": "markdown",
   "metadata": {},
   "source": [
    "#### Fit polynomial to Gaussian sample \n",
    "Doing degree 1 here as well. "
   ]
  },
  {
   "cell_type": "code",
   "execution_count": 15,
   "metadata": {},
   "outputs": [],
   "source": [
    "std_rt = np.array(rt_df_sorted[\"std sec\"])  # y\n",
    "\n",
    "# fit an n degree polynomial\n",
    "std_poly = PolynomialFeatures(degree=1, include_bias=False)\n",
    "# get features -- the reshape bit converts it into a 2D array\n",
    "std_pfeatures = std_poly.fit_transform(n_obs.reshape(-1, 1))\n",
    "\n",
    "# init the regression model\n",
    "std_preg = LinearRegression()\n",
    "# fit the regression model \n",
    "std_preg.fit(std_pfeatures, std_rt)\n",
    "# get predictions\n",
    "y_pred_std = std_preg.predict(std_pfeatures)"
   ]
  },
  {
   "cell_type": "markdown",
   "metadata": {},
   "source": [
    "#### Fit polynomial to missForest\n",
    "This is basically linear, so maybe only a 1 degree polynomial is needed?"
   ]
  },
  {
   "cell_type": "code",
   "execution_count": 16,
   "metadata": {},
   "outputs": [],
   "source": [
    "mf_rt = np.array(rt_df_sorted[\"mf sec\"])  # y\n",
    "\n",
    "# fit an n degree polynomial\n",
    "mf_poly = PolynomialFeatures(degree=2, include_bias=False)\n",
    "# get features -- the reshape bit converts it into a 2D array\n",
    "mf_pfeatures = mf_poly.fit_transform(n_obs.reshape(-1, 1))\n",
    "\n",
    "# init the regression model\n",
    "mf_preg = LinearRegression()\n",
    "# fit the regression model \n",
    "mf_preg.fit(mf_pfeatures, mf_rt)\n",
    "# get predictions\n",
    "y_pred_mf = mf_preg.predict(mf_pfeatures)"
   ]
  },
  {
   "cell_type": "markdown",
   "metadata": {},
   "source": [
    "#### Get plot\n",
    "Four layers of scatterplot, four layers of fitted polynomials."
   ]
  },
  {
   "cell_type": "code",
   "execution_count": 17,
   "metadata": {
    "scrolled": true
   },
   "outputs": [
    {
     "data": {
      "image/png": "[encoded data removed]",
      "text/plain": [
       "<Figure size 432x288 with 1 Axes>"
      ]
     },
     "metadata": {},
     "output_type": "display_data"
    }
   ],
   "source": [
    "fig = plt.figure()\n",
    "\n",
    "sns.scatterplot(\n",
    "    data=rt_df, x=\"n observations\", y=\"NMF sec\", \n",
    "    label=\"NMF\", color=\"dodgerblue\")\n",
    "plt.plot(n_obs, y_pred_nmf, c=\"dodgerblue\", alpha=0.7)\n",
    "\n",
    "sns.scatterplot(\n",
    "    data=rt_df, x=\"n observations\", y=\"kNN sec\", \n",
    "    label=\"kNN\", color=\"darkorange\")\n",
    "plt.plot(n_obs, y_pred_knn, c=\"darkorange\", alpha=0.7)\n",
    "\n",
    "sns.scatterplot(\n",
    "    data=rt_df, x=\"n observations\", y=\"min sec\", \n",
    "    label=\"Sample min\", color=\"seagreen\")\n",
    "plt.plot(n_obs, y_pred_min, c=\"seagreen\", alpha=0.7)\n",
    "\n",
    "sns.scatterplot(\n",
    "    data=rt_df, x=\"n observations\", y=\"std sec\", \n",
    "    label=\"Gaussian sample\", color=\"darkorchid\")\n",
    "plt.plot(n_obs, y_pred_std, c=\"darkorchid\", alpha=0.7)\n",
    "\n",
    "sns.scatterplot(\n",
    "    data=rt_df, x=\"n observations\", y=\"mf sec\", \n",
    "    label=\"missForest\", color=\"crimson\")\n",
    "plt.plot(n_obs, y_pred_mf, c=\"crimson\", alpha=0.7)\n",
    "\n",
    "# get legend\n",
    "plt.legend(bbox_to_anchor=(1,1), frameon=True, edgecolor=\"grey\")\n",
    "\n",
    "# label axes\n",
    "plt.xlabel(\"n observations\", labelpad=10)\n",
    "plt.ylabel(\"runtime \\n(seconds)\", labelpad=10)\n",
    "plt.ticklabel_format(axis='x', style='sci', scilimits=(0,0))\n",
    "\n",
    "# log the y axis\n",
    "plt.yscale('log')\n",
    "\n",
    "#plt.savefig(\"runtimes-plotted-log-axes.png\", dpi=250, bbox_inches=\"tight\")"
   ]
  },
  {
   "cell_type": "markdown",
   "metadata": {},
   "source": [
    "#### Why don't we just try a simple line plot? \n",
    "I think this looks better. "
   ]
  },
  {
   "cell_type": "code",
   "execution_count": 18,
   "metadata": {},
   "outputs": [
    {
     "data": {
      "image/png": "[encoded data removed]",
      "text/plain": [
       "<Figure size 432x288 with 1 Axes>"
      ]
     },
     "metadata": {},
     "output_type": "display_data"
    }
   ],
   "source": [
    "fig = plt.figure()\n",
    "\n",
    "sns.lineplot(\n",
    "    data=rt_df, x=\"n observations\", y=\"NMF sec\", \n",
    "    label=\"NMF (20 CPUs)\", color=\"dodgerblue\", marker=\"o\")\n",
    "\n",
    "sns.lineplot(\n",
    "    data=rt_df, x=\"n observations\", y=\"kNN sec\", \n",
    "    label=\"kNN (1 CPU)\", color=\"darkorange\", marker=\"o\")\n",
    "\n",
    "sns.lineplot(\n",
    "    data=rt_df, x=\"n observations\", y=\"min sec\", \n",
    "    label=\"Sample min (1 CPU)\", color=\"seagreen\", marker=\"o\")\n",
    "\n",
    "sns.lineplot(\n",
    "    data=rt_df, x=\"n observations\", y=\"std sec\", \n",
    "    label=\"Gaussian sample (1 CPU)\", color=\"darkorchid\", marker=\"o\")\n",
    "\n",
    "sns.lineplot(\n",
    "    data=rt_df, x=\"n observations\", y=\"mf sec\", \n",
    "    label=\"missForest (1 CPU)\", color=\"crimson\", marker=\"o\")\n",
    "\n",
    "# get legend\n",
    "plt.legend(bbox_to_anchor=(1,1), frameon=True, edgecolor=\"grey\")\n",
    "\n",
    "# label axes\n",
    "plt.xlabel(\"# of observations\", labelpad=10)\n",
    "plt.ylabel(\"runtime \\n(seconds)\", labelpad=10)\n",
    "plt.ticklabel_format(axis='x', style='sci', scilimits=(0,0))\n",
    "\n",
    "# log the y axis\n",
    "plt.yscale('log')\n",
    "\n",
    "#plt.savefig(\"runtimes-plotted-log-axes-w-cpu.png\", dpi=250, bbox_inches=\"tight\")"
   ]
  },
  {
   "cell_type": "markdown",
   "metadata": {},
   "source": [
    "#### Same thing (line plot), but don't label the number of CPUs"
   ]
  },
  {
   "cell_type": "code",
   "execution_count": 19,
   "metadata": {},
   "outputs": [
    {
     "data": {
      "image/png": "[encoded data removed]",
      "text/plain": [
       "<Figure size 432x288 with 1 Axes>"
      ]
     },
     "metadata": {},
     "output_type": "display_data"
    }
   ],
   "source": [
    "fig = plt.figure()\n",
    "\n",
    "sns.lineplot(\n",
    "    data=rt_df, x=\"n observations\", y=\"NMF sec\", \n",
    "    label=\"NMF\", color=\"dodgerblue\", marker=\"o\")\n",
    "\n",
    "sns.lineplot(\n",
    "    data=rt_df, x=\"n observations\", y=\"kNN sec\", \n",
    "    label=\"kNN\", color=\"darkorange\", marker=\"o\")\n",
    "\n",
    "sns.lineplot(\n",
    "    data=rt_df, x=\"n observations\", y=\"min sec\", \n",
    "    label=\"Sample min\", color=\"seagreen\", marker=\"o\")\n",
    "\n",
    "sns.lineplot(\n",
    "    data=rt_df, x=\"n observations\", y=\"std sec\", \n",
    "    label=\"Gaussian sample\", color=\"darkorchid\", marker=\"o\")\n",
    "\n",
    "sns.lineplot(\n",
    "    data=rt_df, x=\"n observations\", y=\"mf sec\", \n",
    "    label=\"missForest\", color=\"crimson\", marker=\"o\")\n",
    "\n",
    "# get legend\n",
    "plt.legend(bbox_to_anchor=(1,1), frameon=True, edgecolor=\"grey\")\n",
    "\n",
    "# label axes\n",
    "plt.xlabel(\"# of observations\", labelpad=10)\n",
    "plt.ylabel(\"runtime \\n(seconds)\", labelpad=10)\n",
    "plt.ticklabel_format(axis='x', style='sci', scilimits=(0,0))\n",
    "\n",
    "# log the y axis\n",
    "plt.yscale('log')\n",
    "\n",
    "#plt.savefig(\"runtimes-plotted-lineplot.png\", dpi=250, bbox_inches=\"tight\")"
   ]
  },
  {
   "cell_type": "markdown",
   "metadata": {},
   "source": [
    "#### Using a pre-specified color palette\n",
    "matplotlib tab10"
   ]
  },
  {
   "cell_type": "code",
   "execution_count": 29,
   "metadata": {},
   "outputs": [
    {
     "data": {
      "image/png": "[encoded data removed]",
      "text/plain": [
       "<Figure size 432x288 with 1 Axes>"
      ]
     },
     "metadata": {},
     "output_type": "display_data"
    }
   ],
   "source": [
    "fig = plt.figure()\n",
    "\n",
    "sns.lineplot(\n",
    "    data=rt_df, x=\"n observations\", y=\"NMF sec\", \n",
    "    label=\"NMF\", marker=\"o\")\n",
    "\n",
    "sns.lineplot(\n",
    "    data=rt_df, x=\"n observations\", y=\"kNN sec\", \n",
    "    label=\"kNN\", marker=\"o\")\n",
    "\n",
    "sns.lineplot(\n",
    "    data=rt_df, x=\"n observations\", y=\"min sec\", \n",
    "    label=\"Low value\", marker=\"o\")\n",
    "\n",
    "sns.lineplot(\n",
    "    data=rt_df, x=\"n observations\", y=\"std sec\", \n",
    "    label=\"Gaussian sample\", marker=\"o\")\n",
    "\n",
    "sns.lineplot(\n",
    "    data=rt_df, x=\"n observations\", y=\"mf sec\", \n",
    "    label=\"MissForest\", marker=\"o\")\n",
    "\n",
    "# get legend\n",
    "plt.legend(bbox_to_anchor=(1,1), frameon=True, edgecolor=\"grey\")\n",
    "\n",
    "# label axes\n",
    "plt.xlabel(\"# of observations\", labelpad=10)\n",
    "plt.ylabel(\"runtime \\n(seconds)\", labelpad=10)\n",
    "plt.ticklabel_format(axis='x', style='sci', scilimits=(0,0))\n",
    "\n",
    "# log the y axis\n",
    "plt.yscale('log')\n",
    "\n",
    "#plt.savefig(\"runtimes-plotted-lineplot-cp1.png\", dpi=250, bbox_inches=\"tight\")"
   ]
  },
  {
   "cell_type": "code",
   "execution_count": 21,
   "metadata": {},
   "outputs": [
    {
     "data": {
      "text/html": [
       "<div>\n",
       "<style scoped>\n",
       "    .dataframe tbody tr th:only-of-type {\n",
       "        vertical-align: middle;\n",
       "    }\n",
       "\n",
       "    .dataframe tbody tr th {\n",
       "        vertical-align: top;\n",
       "    }\n",
       "\n",
       "    .dataframe thead th {\n",
       "        text-align: right;\n",
       "    }\n",
       "</style>\n",
       "<table border=\"1\" class=\"dataframe\">\n",
       "  <thead>\n",
       "    <tr style=\"text-align: right;\">\n",
       "      <th></th>\n",
       "      <th>dataset</th>\n",
       "      <th>n observations</th>\n",
       "      <th>NMF sec</th>\n",
       "      <th>kNN sec</th>\n",
       "      <th>min sec</th>\n",
       "      <th>std sec</th>\n",
       "      <th>mf sec</th>\n",
       "    </tr>\n",
       "  </thead>\n",
       "  <tbody>\n",
       "    <tr>\n",
       "      <th>0</th>\n",
       "      <td>PXD013792</td>\n",
       "      <td>5162</td>\n",
       "      <td>2.021593</td>\n",
       "      <td>0.355444</td>\n",
       "      <td>0.000836</td>\n",
       "      <td>0.001819</td>\n",
       "      <td>11.271306</td>\n",
       "    </tr>\n",
       "    <tr>\n",
       "      <th>1</th>\n",
       "      <td>PXD014156</td>\n",
       "      <td>4385</td>\n",
       "      <td>1.240124</td>\n",
       "      <td>0.066315</td>\n",
       "      <td>0.000345</td>\n",
       "      <td>0.000881</td>\n",
       "      <td>8.541504</td>\n",
       "    </tr>\n",
       "    <tr>\n",
       "      <th>2</th>\n",
       "      <td>PXD011961</td>\n",
       "      <td>203163</td>\n",
       "      <td>9.992952</td>\n",
       "      <td>149.322855</td>\n",
       "      <td>0.011934</td>\n",
       "      <td>0.024907</td>\n",
       "      <td>1580.019763</td>\n",
       "    </tr>\n",
       "    <tr>\n",
       "      <th>3</th>\n",
       "      <td>PXD001010</td>\n",
       "      <td>258800</td>\n",
       "      <td>10.814277</td>\n",
       "      <td>98.510371</td>\n",
       "      <td>0.009168</td>\n",
       "      <td>0.018992</td>\n",
       "      <td>2882.565674</td>\n",
       "    </tr>\n",
       "    <tr>\n",
       "      <th>4</th>\n",
       "      <td>PXD014525</td>\n",
       "      <td>33057</td>\n",
       "      <td>2.169873</td>\n",
       "      <td>7.291926</td>\n",
       "      <td>0.003965</td>\n",
       "      <td>0.007952</td>\n",
       "      <td>89.444441</td>\n",
       "    </tr>\n",
       "    <tr>\n",
       "      <th>5</th>\n",
       "      <td>PXD015939</td>\n",
       "      <td>69075</td>\n",
       "      <td>2.461332</td>\n",
       "      <td>13.618498</td>\n",
       "      <td>0.004376</td>\n",
       "      <td>0.009200</td>\n",
       "      <td>311.474295</td>\n",
       "    </tr>\n",
       "    <tr>\n",
       "      <th>6</th>\n",
       "      <td>PXD006109</td>\n",
       "      <td>445906</td>\n",
       "      <td>15.925922</td>\n",
       "      <td>266.672339</td>\n",
       "      <td>0.015916</td>\n",
       "      <td>0.033929</td>\n",
       "      <td>8602.430166</td>\n",
       "    </tr>\n",
       "    <tr>\n",
       "      <th>7</th>\n",
       "      <td>PXD006348</td>\n",
       "      <td>49215</td>\n",
       "      <td>3.556653</td>\n",
       "      <td>22.948946</td>\n",
       "      <td>0.005196</td>\n",
       "      <td>0.010028</td>\n",
       "      <td>156.800419</td>\n",
       "    </tr>\n",
       "    <tr>\n",
       "      <th>8</th>\n",
       "      <td>PXD019254</td>\n",
       "      <td>168178</td>\n",
       "      <td>19.101738</td>\n",
       "      <td>246.911861</td>\n",
       "      <td>0.012398</td>\n",
       "      <td>0.024284</td>\n",
       "      <td>2023.957868</td>\n",
       "    </tr>\n",
       "    <tr>\n",
       "      <th>9</th>\n",
       "      <td>PXD010612</td>\n",
       "      <td>110179</td>\n",
       "      <td>3.532099</td>\n",
       "      <td>33.213938</td>\n",
       "      <td>0.008388</td>\n",
       "      <td>0.017526</td>\n",
       "      <td>670.966480</td>\n",
       "    </tr>\n",
       "    <tr>\n",
       "      <th>10</th>\n",
       "      <td>PXD010709</td>\n",
       "      <td>36350</td>\n",
       "      <td>2.134582</td>\n",
       "      <td>2.589115</td>\n",
       "      <td>0.003460</td>\n",
       "      <td>0.006931</td>\n",
       "      <td>86.940610</td>\n",
       "    </tr>\n",
       "    <tr>\n",
       "      <th>11</th>\n",
       "      <td>Pino2020</td>\n",
       "      <td>508328</td>\n",
       "      <td>12.229490</td>\n",
       "      <td>268.280589</td>\n",
       "      <td>0.020264</td>\n",
       "      <td>0.045402</td>\n",
       "      <td>10122.561090</td>\n",
       "    </tr>\n",
       "    <tr>\n",
       "      <th>12</th>\n",
       "      <td>Thomas2020</td>\n",
       "      <td>722484</td>\n",
       "      <td>11.772785</td>\n",
       "      <td>387.201438</td>\n",
       "      <td>0.037996</td>\n",
       "      <td>0.086092</td>\n",
       "      <td>9865.286449</td>\n",
       "    </tr>\n",
       "    <tr>\n",
       "      <th>13</th>\n",
       "      <td>PXD016079</td>\n",
       "      <td>392233</td>\n",
       "      <td>15.757411</td>\n",
       "      <td>361.255255</td>\n",
       "      <td>0.020990</td>\n",
       "      <td>0.045551</td>\n",
       "      <td>5277.201375</td>\n",
       "    </tr>\n",
       "  </tbody>\n",
       "</table>\n",
       "</div>"
      ],
      "text/plain": [
       "       dataset  n observations    NMF sec     kNN sec   min sec   std sec  \\\n",
       "0    PXD013792            5162   2.021593    0.355444  0.000836  0.001819   \n",
       "1    PXD014156            4385   1.240124    0.066315  0.000345  0.000881   \n",
       "2    PXD011961          203163   9.992952  149.322855  0.011934  0.024907   \n",
       "3    PXD001010          258800  10.814277   98.510371  0.009168  0.018992   \n",
       "4    PXD014525           33057   2.169873    7.291926  0.003965  0.007952   \n",
       "5    PXD015939           69075   2.461332   13.618498  0.004376  0.009200   \n",
       "6    PXD006109          445906  15.925922  266.672339  0.015916  0.033929   \n",
       "7    PXD006348           49215   3.556653   22.948946  0.005196  0.010028   \n",
       "8    PXD019254          168178  19.101738  246.911861  0.012398  0.024284   \n",
       "9    PXD010612          110179   3.532099   33.213938  0.008388  0.017526   \n",
       "10   PXD010709           36350   2.134582    2.589115  0.003460  0.006931   \n",
       "11    Pino2020          508328  12.229490  268.280589  0.020264  0.045402   \n",
       "12  Thomas2020          722484  11.772785  387.201438  0.037996  0.086092   \n",
       "13   PXD016079          392233  15.757411  361.255255  0.020990  0.045551   \n",
       "\n",
       "          mf sec  \n",
       "0      11.271306  \n",
       "1       8.541504  \n",
       "2    1580.019763  \n",
       "3    2882.565674  \n",
       "4      89.444441  \n",
       "5     311.474295  \n",
       "6    8602.430166  \n",
       "7     156.800419  \n",
       "8    2023.957868  \n",
       "9     670.966480  \n",
       "10     86.940610  \n",
       "11  10122.561090  \n",
       "12   9865.286449  \n",
       "13   5277.201375  "
      ]
     },
     "execution_count": 21,
     "metadata": {},
     "output_type": "execute_result"
    }
   ],
   "source": [
    "rt_df"
   ]
  },
  {
   "cell_type": "markdown",
   "metadata": {},
   "source": [
    "#### Whats going on with missForest? or kNN? "
   ]
  },
  {
   "cell_type": "code",
   "execution_count": 22,
   "metadata": {},
   "outputs": [],
   "source": [
    "# # MISSFOREST POLYNOMIAL FIT\n",
    "# mf_rt = np.array(rt_df_sorted[\"mf sec\"])  # y\n",
    "\n",
    "# # fit an n degree polynomial\n",
    "# mf_poly = PolynomialFeatures(degree=1, include_bias=False)\n",
    "# # get features -- the reshape bit converts it into a 2D array\n",
    "# mf_pfeatures = mf_poly.fit_transform(n_obs.reshape(-1, 1))\n",
    "\n",
    "# # init the regression model\n",
    "# mf_preg = LinearRegression()\n",
    "# # fit the regression model \n",
    "# mf_preg.fit(mf_pfeatures, mf_rt)\n",
    "# # get predictions\n",
    "# y_pred_mf = mf_preg.predict(mf_pfeatures)\n",
    "\n",
    "# # KNN POLYNOMIAL FIT\n",
    "# knn_rt = np.array(rt_df_sorted[\"kNN sec\"])  # y\n",
    "\n",
    "# # fit an n degree polynomial\n",
    "# knn_poly = PolynomialFeatures(degree=2, include_bias=False)\n",
    "# # get features -- the reshape bit converts it into a 2D array\n",
    "# knn_pfeatures = knn_poly.fit_transform(n_obs.reshape(-1, 1))\n",
    "\n",
    "# # init the regression model\n",
    "# knn_preg = LinearRegression()\n",
    "# # fit the regression model \n",
    "# knn_preg.fit(knn_pfeatures, knn_rt)\n",
    "# # get predictions\n",
    "# y_pred_knn = knn_preg.predict(knn_pfeatures)"
   ]
  },
  {
   "cell_type": "code",
   "execution_count": 23,
   "metadata": {},
   "outputs": [],
   "source": [
    "# fig = plt.figure()\n",
    "\n",
    "# sns.scatterplot(\n",
    "#     data=rt_df, x=\"n observations\", y=\"kNN sec\", \n",
    "#     label=\"kNN\", color=\"darkorange\")\n",
    "# plt.plot(n_obs, y_pred_knn, c=\"darkorange\", alpha=0.7)\n",
    "\n",
    "# # sns.scatterplot(\n",
    "# #     data=rt_df, x=\"n observations\", y=\"mf sec\", \n",
    "# #     label=\"missForest\", color=\"crimson\")\n",
    "# # plt.plot(n_obs, y_pred_mf, c=\"crimson\", alpha=0.7)\n",
    "\n",
    "# # get legend\n",
    "# plt.legend(bbox_to_anchor=(1,1), frameon=True, edgecolor=\"grey\")\n",
    "\n",
    "# # label axes\n",
    "# plt.xlabel(\"n observations\", labelpad=10)\n",
    "# plt.ylabel(\"runtime \\nlog(seconds)\", labelpad=10)\n",
    "# plt.ticklabel_format(axis='x', style='sci', scilimits=(0,0))\n",
    "\n",
    "# # log the y axis\n",
    "# plt.yscale('log')"
   ]
  },
  {
   "cell_type": "markdown",
   "metadata": {},
   "source": [
    "***"
   ]
  },
  {
   "cell_type": "markdown",
   "metadata": {},
   "source": [
    "## Taking another look at kNN\n",
    "Because its trend line is a bit funky.\n",
    "Maybe 3rd degree polynomial fits a bit better here? "
   ]
  },
  {
   "cell_type": "code",
   "execution_count": 24,
   "metadata": {},
   "outputs": [],
   "source": [
    "# knn_rt = np.array(rt_df_sorted[\"kNN sec\"])  # y\n",
    "\n",
    "# # fit an n degree polynomial\n",
    "# knn_poly = PolynomialFeatures(degree=3, include_bias=False)\n",
    "# # get features -- the reshape bit converts it into a 2D array\n",
    "# knn_pfeatures = knn_poly.fit_transform(n_obs.reshape(-1, 1))\n",
    "\n",
    "# # init the regression model\n",
    "# knn_preg = LinearRegression()\n",
    "# # fit the regression model \n",
    "# knn_preg.fit(knn_pfeatures, knn_rt)\n",
    "# # get predictions\n",
    "# y_pred_knn = knn_preg.predict(knn_pfeatures)"
   ]
  },
  {
   "cell_type": "code",
   "execution_count": 25,
   "metadata": {},
   "outputs": [],
   "source": [
    "# sns.scatterplot(\n",
    "#     data=rt_df, x=\"n observations\", y=\"kNN sec\", \n",
    "#     label=\"kNN\", color=\"darkorange\")\n",
    "# plt.plot(n_obs, y_pred_knn, c=\"darkorange\", alpha=0.7)\n",
    "\n",
    "# # turn off opacity for the legend handles\n",
    "# leg = plt.legend(bbox_to_anchor=(1,1), frameon=True, edgecolor=\"grey\")\n",
    "# for lh in leg.legendHandles: \n",
    "#     lh.set_alpha(1)\n",
    "    \n",
    "# plt.xlabel(\"n observations\", labelpad=10)\n",
    "# plt.ylabel(\"runtime \\nlog(seconds)\", labelpad=10)\n",
    "# plt.ticklabel_format(axis='x', style='sci', scilimits=(0,0))\n",
    "\n",
    "# #plt.savefig(\"runtimes-plotted-mf.png\", dpi=250, bbox_inches=\"tight\")"
   ]
  },
  {
   "cell_type": "markdown",
   "metadata": {},
   "source": [
    "***"
   ]
  },
  {
   "cell_type": "markdown",
   "metadata": {},
   "source": [
    "## What if we try the dual y-axis idea? "
   ]
  },
  {
   "cell_type": "code",
   "execution_count": 26,
   "metadata": {},
   "outputs": [],
   "source": [
    "# # instantiate the first set of axes\n",
    "# fig, ax1 = plt.subplots(figsize=(6,6))\n",
    "\n",
    "# # instantiate a second set of axes that shares the same x-axis\n",
    "# ax2 = ax1.twinx()\n",
    "\n",
    "# sns.scatterplot(\n",
    "#     data=rt_df, x=\"n observations\", y=\"NMF sec\", \n",
    "#     label=\"NMF\", color=\"dodgerblue\", ax=ax1)\n",
    "# ax1.plot(n_obs, y_pred_nmf, c=\"dodgerblue\", alpha=0.7)\n",
    "\n",
    "# sns.scatterplot(\n",
    "#     data=rt_df, x=\"n observations\", y=\"kNN sec\", \n",
    "#     label=\"kNN\", color=\"darkorange\", ax=ax1)\n",
    "# ax1.plot(n_obs, y_pred_knn, c=\"darkorange\", alpha=0.7)\n",
    "\n",
    "# sns.scatterplot(\n",
    "#     data=rt_df, x=\"n observations\", y=\"min sec\", \n",
    "#     label=\"Sample min\", color=\"seagreen\", ax=ax1)\n",
    "# ax1.plot(n_obs, y_pred_min, c=\"seagreen\", alpha=0.7)\n",
    "\n",
    "# sns.scatterplot(\n",
    "#     data=rt_df, x=\"n observations\", y=\"std sec\", \n",
    "#     label=\"Gaussian sample\", color=\"darkorchid\", ax=ax1)\n",
    "# ax1.plot(n_obs, y_pred_std, c=\"darkorchid\", alpha=0.7)\n",
    "\n",
    "# sns.scatterplot(\n",
    "#     data=rt_df, x=\"n observations\", y=\"mf sec\", \n",
    "#     label=\"missForest\", color=\"crimson\", ax=ax2)\n",
    "# ax2.plot(n_obs, y_pred_mf, c=\"crimson\", alpha=0.7)\n",
    "    \n",
    "# ax1.set_xlabel(\"n observations\", labelpad=10)\n",
    "# ax1.set_ylabel(\"runtime \\nlog(seconds)\", labelpad=10)\n",
    "# ax1.ticklabel_format(axis='x', style='sci', scilimits=(0,0))\n",
    "\n",
    "# # ax2.set_ylabel(\"missForest runtime \\nlog(seconds)\", labelpad=10)\n",
    "# ax2.ticklabel_format(axis='y', style='sci', scilimits=(0,0))\n",
    "\n",
    "# # get legend\n",
    "# ax1.legend(bbox_to_anchor=(1.3,1))\n",
    "# ax2.get_legend().remove()"
   ]
  },
  {
   "cell_type": "markdown",
   "metadata": {},
   "source": [
    "***"
   ]
  },
  {
   "cell_type": "markdown",
   "metadata": {},
   "source": [
    "## Or what about just side-by-side plots\n",
    "One for everything else, one for missForest. \n",
    "This might be our best bet. "
   ]
  },
  {
   "cell_type": "code",
   "execution_count": 27,
   "metadata": {},
   "outputs": [],
   "source": [
    "# # init subplot object\n",
    "# fig, axes = plt.subplots(nrows=1, ncols=2, sharey=False, figsize=(12,5))\n",
    "\n",
    "# # plot NMF\n",
    "# sns.scatterplot(\n",
    "#     data=rt_df, x=\"n observations\", y=\"NMF sec\", \n",
    "#     label=\"NMF\", color=\"dodgerblue\", ax=axes[0])\n",
    "# axes[0].plot(n_obs, y_pred_nmf, c=\"dodgerblue\", alpha=1.0)\n",
    "\n",
    "# # plot kNN\n",
    "# sns.scatterplot(\n",
    "#     data=rt_df, x=\"n observations\", y=\"kNN sec\", \n",
    "#     label=\"kNN\", color=\"darkorange\", ax=axes[0])\n",
    "# axes[0].plot(n_obs, y_pred_knn, c=\"darkorange\", alpha=0.7)\n",
    "\n",
    "# # plot sample min\n",
    "# sns.scatterplot(\n",
    "#     data=rt_df, x=\"n observations\", y=\"min sec\", \n",
    "#     label=\"Sample min\", color=\"seagreen\", ax=axes[0])\n",
    "# axes[0].plot(n_obs, y_pred_min, c=\"seagreen\", alpha=0.7)\n",
    "\n",
    "# # plot Gaussian sample\n",
    "# sns.scatterplot(\n",
    "#     data=rt_df, x=\"n observations\", y=\"std sec\", \n",
    "#     label=\"Gaussian sample\", color=\"darkorchid\", ax=axes[0])\n",
    "# axes[0].plot(n_obs, y_pred_std, c=\"darkorchid\", alpha=0.7)\n",
    "\n",
    "# # plot missForest\n",
    "# sns.scatterplot(\n",
    "#     data=rt_df, x=\"n observations\", y=\"mf sec\", \n",
    "#     label=\"missForest\", color=\"crimson\", ax=axes[1])\n",
    "# axes[1].plot(n_obs, y_pred_mf, c=\"crimson\", alpha=1.0)\n",
    "\n",
    "# # label left subplot\n",
    "# axes[0].set_xlabel(\"n observations\")\n",
    "# axes[0].set_ylabel(\"runtime \\n(log) seconds\")\n",
    "# axes[0].ticklabel_format(axis=\"x\", style=\"sci\", scilimits=(0,0))\n",
    "\n",
    "# # label right subplot\n",
    "# axes[1].set_xlabel(\"n observations\")\n",
    "# axes[1].set_ylabel(\"runtime \\n(log) seconds\")\n",
    "# axes[1].ticklabel_format(axis=\"x\", style=\"sci\", scilimits=(0,0))\n",
    "# axes[1].ticklabel_format(axis=\"y\", style=\"sci\", scilimits=(0,0))\n",
    "\n",
    "# # combine the labels and handles from both axes\n",
    "# handles0, labels0 = axes[0].get_legend_handles_labels()\n",
    "# handles1, labels1 = axes[1].get_legend_handles_labels()\n",
    "\n",
    "# handles_comb = handles0 + handles1\n",
    "# labels_comb = labels0 + labels1\n",
    "\n",
    "# # get legend\n",
    "# fig.legend(handles_comb, labels_comb, bbox_to_anchor=(1.235, 0.9))\n",
    "# axes[0].get_legend().remove()\n",
    "# axes[1].get_legend().remove()\n",
    "\n",
    "# fig.tight_layout()\n",
    "\n",
    "#plt.savefig(\"runtime-combined.png\", dpi=250, bbox_inches=\"tight\")"
   ]
  },
  {
   "cell_type": "code",
   "execution_count": null,
   "metadata": {},
   "outputs": [],
   "source": []
  }
 ],
 "metadata": {
  "kernelspec": {
   "display_name": "ms-impute-trim",
   "language": "python",
   "name": "ms-impute-trim"
  },
  "language_info": {
   "codemirror_mode": {
    "name": "ipython",
    "version": 3
   },
   "file_extension": ".py",
   "mimetype": "text/x-python",
   "name": "python",
   "nbconvert_exporter": "python",
   "pygments_lexer": "ipython3",
   "version": "3.7.12"
  }
 },
 "nbformat": 4,
 "nbformat_minor": 4
}
