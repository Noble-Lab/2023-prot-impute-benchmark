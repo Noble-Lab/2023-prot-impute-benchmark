{
 "cells": [
  {
   "cell_type": "markdown",
   "metadata": {},
   "source": [
    "# TMT-dataset-downsample\n",
    "2.16.23\n",
    "\n",
    "Want to make a downsampled version of the `Satpathy2020` and `Petralia2020` datasets. \n",
    "These are high-quality TMT dataset that would be good to include. \n",
    "But the original matrices are 53 and 103 Mbs, respectively.\n",
    "I think that probably the way to go is to randomly select rows and columns to withhold. \n",
    "Don't do any sort of filtering by percent missingness. "
   ]
  },
  {
   "cell_type": "code",
   "execution_count": 1,
   "metadata": {},
   "outputs": [],
   "source": [
    "import pandas as pd\n",
    "import numpy as np\n",
    "\n",
    "# init the random number generator\n",
    "rng = np.random.default_rng(seed=36)"
   ]
  },
  {
   "cell_type": "markdown",
   "metadata": {},
   "source": [
    "#### Configs"
   ]
  },
  {
   "cell_type": "code",
   "execution_count": 2,
   "metadata": {},
   "outputs": [],
   "source": [
    "data_path = \"path/to/the/data\"\n",
    "dataset0 = \"path/to/the/data\"\n",
    "dataset1 = \"path/to/the/data\"\n",
    "\n",
    "n_rows = 40000\n",
    "n_cols = 30"
   ]
  },
  {
   "cell_type": "markdown",
   "metadata": {},
   "source": [
    "#### Read in, count up the MVs \n",
    "For both datasets. "
   ]
  },
  {
   "cell_type": "code",
   "execution_count": 3,
   "metadata": {},
   "outputs": [
    {
     "name": "stdout",
     "output_type": "stream",
     "text": [
      "(291317, 35)\n",
      "(110739, 226)\n",
      "0.597\n",
      "0.455\n"
     ]
    }
   ],
   "source": [
    "# read in \n",
    "df0 = pd.read_csv(data_path + dataset0)\n",
    "df1 = pd.read_csv(data_path + dataset1)\n",
    "print(df0.shape)\n",
    "print(df1.shape)\n",
    "\n",
    "# get the MV fractions\n",
    "mv_count0 = np.count_nonzero(np.isnan(df0))\n",
    "mv_frac0 = (df0.size - mv_count0) / df0.size\n",
    "\n",
    "mv_count1 = np.count_nonzero(np.isnan(df1))\n",
    "mv_frac1 = (df1.size - mv_count1) / df1.size\n",
    "\n",
    "print(np.around(mv_frac0, 3))\n",
    "print(np.around(mv_frac1, 3))\n",
    "\n",
    "# count up the number of MVs by row\n",
    "mv_x_row0 = np.isnan(df0).sum(axis=1)\n",
    "mv_x_row1 = np.isnan(df1).sum(axis=1)"
   ]
  },
  {
   "cell_type": "markdown",
   "metadata": {},
   "source": [
    "#### Randomly select rows to retain\n",
    "For both datasets. "
   ]
  },
  {
   "cell_type": "code",
   "execution_count": 4,
   "metadata": {},
   "outputs": [
    {
     "name": "stdout",
     "output_type": "stream",
     "text": [
      "(40000, 35)\n",
      "(40000, 226)\n"
     ]
    }
   ],
   "source": [
    "# convert to numpy\n",
    "df0 = np.array(df0)\n",
    "df1 = np.array(df1)\n",
    "\n",
    "# randomly select row indices\n",
    "keep_r_idx0 = rng.integers(low=0, high=df0.shape[0], size=n_rows)\n",
    "keep_r_idx1 = rng.integers(low=0, high=df1.shape[0], size=n_rows)\n",
    "\n",
    "# subset\n",
    "df0_sub = df0[keep_r_idx0, :]\n",
    "df1_sub = df1[keep_r_idx1, :]\n",
    "\n",
    "print(df0_sub.shape)\n",
    "print(df1_sub.shape)"
   ]
  },
  {
   "cell_type": "markdown",
   "metadata": {},
   "source": [
    "#### Randomly select columns to retain "
   ]
  },
  {
   "cell_type": "code",
   "execution_count": 7,
   "metadata": {},
   "outputs": [
    {
     "name": "stdout",
     "output_type": "stream",
     "text": [
      "(40000, 30)\n",
      "(40000, 30)\n"
     ]
    }
   ],
   "source": [
    "# randomly select col indices\n",
    "keep_c_idx0 = rng.integers(low=0, high=df0.shape[1], size=n_cols)\n",
    "keep_c_idx1 = rng.integers(low=0, high=df1.shape[1], size=n_cols)\n",
    "\n",
    "# subset\n",
    "df0_sub = df0_sub[:, keep_c_idx0]\n",
    "df1_sub = df1_sub[:, keep_c_idx1]\n",
    "\n",
    "print(df0_sub.shape)\n",
    "print(df1_sub.shape)"
   ]
  },
  {
   "cell_type": "markdown",
   "metadata": {},
   "source": [
    "#### Write"
   ]
  },
  {
   "cell_type": "code",
   "execution_count": 8,
   "metadata": {},
   "outputs": [],
   "source": [
    "pd.DataFrame(df0_sub).to_csv(\"path/to/the/data\", index=None)\n",
    "pd.DataFrame(df1_sub).to_csv(\"path/to/the/data\", index=None)"
   ]
  },
  {
   "cell_type": "code",
   "execution_count": null,
   "metadata": {},
   "outputs": [],
   "source": []
  }
 ],
 "metadata": {
  "kernelspec": {
   "display_name": "ms-impute-trim",
   "language": "python",
   "name": "ms-impute-trim"
  },
  "language_info": {
   "codemirror_mode": {
    "name": "ipython",
    "version": 3
   },
   "file_extension": ".py",
   "mimetype": "text/x-python",
   "name": "python",
   "nbconvert_exporter": "python",
   "pygments_lexer": "ipython3",
   "version": "3.7.12"
  }
 },
 "nbformat": 4,
 "nbformat_minor": 4
}
