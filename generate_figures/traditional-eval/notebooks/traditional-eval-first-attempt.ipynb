{
 "cells": [
  {
   "cell_type": "markdown",
   "metadata": {},
   "source": [
    "# traditional-eval-first-attempt\n",
    "1.30.23\n",
    "\n",
    "Here I want to evaluate our five impute methods using some some traditional ML-style\n",
    "eval criteria. \n",
    "Using a swarmplot for plotting. \n",
    "Integrating both MNAR and MCAR partitions -- can we plot these side-by-side?"
   ]
  },
  {
   "cell_type": "code",
   "execution_count": 1,
   "metadata": {},
   "outputs": [],
   "source": [
    "import pandas as pd\n",
    "import numpy as np\n",
    "import sys\n",
    "import os\n",
    "import time\n",
    "import torch\n",
    "from sklearn.impute import KNNImputer\n",
    "import seaborn as sns\n",
    "import matplotlib.pyplot as plt\n",
    "\n",
    "# suppressing this CUDA initialization warning I always get\n",
    "    # this could be dangerous\n",
    "import warnings\n",
    "warnings.filterwarnings(\"ignore\", category=UserWarning)\n",
    "\n",
    "# import my modules\n",
    "sys.path.append('../../../../bin/')\n",
    "from models.linear import GradNMFImputer\n",
    "import util_functions\n",
    "import intermediate_plots\n",
    "\n",
    "# plotting templates\n",
    "sns.set(context=\"talk\", style=\"ticks\") \n",
    "pal = sns.color_palette()"
   ]
  },
  {
   "cell_type": "markdown",
   "metadata": {},
   "source": [
    "#### Some configs"
   ]
  },
  {
   "cell_type": "code",
   "execution_count": 2,
   "metadata": {},
   "outputs": [],
   "source": [
    "# MCAR partitioning params\n",
    "val_frac = 0.3\n",
    "test_frac = 0.0\n",
    "min_present = 1\n",
    "\n",
    "# MNAR partition params\n",
    "q_anchor=0.3   \n",
    "t_std=0.35\n",
    "brnl_prob=0.4\n",
    "\n",
    "# NMF model params\n",
    "n_factors = 4              # 4 is default\n",
    "tolerance = 0.0001         # 0.0001 is default\n",
    "max_epochs = 1000          # 1000 is default\n",
    "learning_rate = 0.01       # 0.01 is default\n",
    "batch_size = 64            # 64 is default\n",
    "loss_func = \"MSE\"\n",
    "\n",
    "# kNN params\n",
    "k_neighbors = 4\n",
    "\n",
    "# the random number generator\n",
    "rng = np.random.default_rng(seed=18)\n",
    "\n",
    "# the random state for the partition\n",
    "split_rand_state = 18\n",
    "\n",
    "# The peptide quants matrices\n",
    "full_path = \\\n",
    "    \"/net/noble/vol2/home/lincolnh/code/\"\\\n",
    "    \"2021_ljharris_ms-impute/data/peptides-data/\"\n",
    "# pxds = [\"PXD013792\", \"PXD014156\", \"PXD011961\",\n",
    "#         \"PXD001010\", \"PXD014525\", \"PXD015939\",\n",
    "#         \"PXD006109\", \"PXD006348\",\n",
    "#         \"PXD019254\", \"PXD010612\", \"PXD010709\",\n",
    "#         \"Pino2020\", \"Thomas2020\", \"PXD016079\",\n",
    "# ]\n",
    "pxds = [\"PXD013792\", \n",
    "        \"PXD014156\", \n",
    "        \"PXD006348\", \n",
    "        \"PXD011961\"]"
   ]
  },
  {
   "cell_type": "markdown",
   "metadata": {},
   "source": [
    "#### Define some functions"
   ]
  },
  {
   "cell_type": "code",
   "execution_count": 3,
   "metadata": {},
   "outputs": [],
   "source": [
    "def mse_func(x_mat, y_mat):    \n",
    "    \"\"\"\n",
    "    Get the mean square error (MSE) between two numpy\n",
    "    arrays. The input arrays can have missing values.\n",
    "    \n",
    "    Parameters\n",
    "    ----------\n",
    "    x_mat, y_mat : np.ndarray, \n",
    "        The arrays, x and y, to calculate the MSE \n",
    "        between\n",
    "        \n",
    "    Returns\n",
    "    ----------\n",
    "    The MSE\n",
    "    \"\"\"\n",
    "    x_rav = x_mat.ravel()\n",
    "    y_rav = y_mat.ravel()\n",
    "    missing = np.isnan(x_rav) | np.isnan(y_rav)\n",
    "    mse = np.sum((x_rav[~missing] - y_rav[~missing])**2)\n",
    "\n",
    "    if (np.sum(~missing) == 0):\n",
    "        print(\"Warning: Computing MSE from all missing values.\")\n",
    "        return 0\n",
    "    \n",
    "    return mse / np.sum(~missing)\n",
    "\n",
    "\n",
    "def nmf_impute(train_mat, val_mat):\n",
    "    \"\"\"\n",
    "    Impute a peptide quants matrix with my NMF impute\n",
    "    method. Transforms the validation set.\n",
    "    \n",
    "    Parameters\n",
    "    ----------\n",
    "    train_mat, val_mat : np.ndarray, \n",
    "        The training and validation matrices, respectively\n",
    "    \n",
    "    Returns\n",
    "    ----------\n",
    "    recon : np.ndarray, \n",
    "        The NMF reconstructed matrix\n",
    "    \"\"\"\n",
    "    # get the optimal number of training batches for NMF\n",
    "    if len(~np.isnan(train_mat)) > 100:\n",
    "        n_batches = int(np.floor(len(~np.isnan(train_mat)) / batch_size))\n",
    "        # setting the minimum n_batches to 100\n",
    "        n_batches = max(n_batches, 100) \n",
    "    else: \n",
    "        n_batches = 1\n",
    "\n",
    "    # init model \n",
    "    nmf_model = GradNMFImputer(\n",
    "                    n_rows = train_mat.shape[0], \n",
    "                    n_cols = train_mat.shape[1], \n",
    "                    n_factors=n_factors, \n",
    "                    stopping_tol=tolerance,\n",
    "                    train_batch_size=n_batches, \n",
    "                    eval_batch_size=n_batches,\n",
    "                    n_epochs=max_epochs, \n",
    "                    loss_func=loss_func,\n",
    "                    optimizer=torch.optim.Adam,\n",
    "                    optimizer_kwargs={\"lr\": learning_rate},\n",
    "                    non_negative=True,\n",
    "                    rand_seed=rng.random(),\n",
    "    )\n",
    "    # fit and transform\n",
    "    recon = nmf_model.fit_transform(train_mat, val_mat)\n",
    "    \n",
    "    return recon\n",
    "\n",
    "\n",
    "def kNN_impute(train_mat):\n",
    "    \"\"\"\n",
    "    Impute a peptide quants matrix with sklearn's\n",
    "    kNN impute method\n",
    "    \n",
    "    Parameters\n",
    "    ----------\n",
    "    train_mat : np.ndarray,\n",
    "        The training matrix\n",
    "    \n",
    "    Returns\n",
    "    ----------\n",
    "    k_recon : np.ndarray, \n",
    "        The kNN imputed matrix\n",
    "    \"\"\"\n",
    "    knn_model = KNNImputer(n_neighbors=k_neighbors)\n",
    "    k_recon = knn_model.fit_transform(train_mat)\n",
    "    \n",
    "    return k_recon\n",
    "\n",
    "\n",
    "def sample_min_impute(train_mat):\n",
    "    \"\"\"\n",
    "    Impute a peptide quants matrix with sample\n",
    "    (column) min impute. \n",
    "    \n",
    "    Parameters\n",
    "    ----------\n",
    "    train_mat : np.ndarray,\n",
    "        The training matrix\n",
    "    \n",
    "    Returns\n",
    "    ----------\n",
    "    sm_recon : np.ndarray,\n",
    "        The sample min reconstructed matrix\n",
    "    \"\"\"\n",
    "    col_min = np.nanmin(train_mat, axis=0)\n",
    "    nan_idx = np.where(np.isnan(train_mat))\n",
    "    sm_recon = train_mat.copy()\n",
    "    # nan_idx[1] -> take index of column\n",
    "    sm_recon[nan_idx] = np.take(col_min, nan_idx[1])\n",
    "    \n",
    "    return sm_recon\n",
    "\n",
    "\n",
    "def gaussian_sample_impute(train_mat):\n",
    "    \"\"\"\n",
    "    Impute the peptide quants matrix with my \n",
    "    custom implementation of Gaussian sample \n",
    "    impute.\n",
    "    \n",
    "    Parameters\n",
    "    ----------\n",
    "    train_mat : np.ndarray, \n",
    "        The training matrix. \n",
    "    \n",
    "    Returns\n",
    "    ----------\n",
    "    std_recon : np.ndarray,\n",
    "        The Gaussian random sample reconstructed matrix. \n",
    "    \"\"\"\n",
    "    # get the column mins\n",
    "    col_min = np.nanmin(train_mat, axis=0)\n",
    "\n",
    "    # get the mean and std of the entire training matrix\n",
    "    train_mean = np.nanmean(train_mat)\n",
    "    train_sd = np.nanstd(train_mat)\n",
    "\n",
    "    # get the indicies of the MVs \n",
    "    nan_idx = np.where(np.isnan(train_mat))\n",
    "    std_recon = train_mat.copy()\n",
    "\n",
    "    # how many total MVs? \n",
    "    n_mv = len(nan_idx[0])\n",
    "\n",
    "    # fill in the MVs with random draws \n",
    "    std_recon[nan_idx] = rng.normal(\n",
    "                                loc=np.mean(col_min), \n",
    "                                scale=np.std(col_min), \n",
    "                                size=n_mv\n",
    "    )\n",
    "\n",
    "    # don't want negative values\n",
    "    std_recon = np.abs(std_recon)\n",
    "    \n",
    "    return std_recon"
   ]
  },
  {
   "cell_type": "markdown",
   "metadata": {},
   "source": [
    "***"
   ]
  },
  {
   "cell_type": "markdown",
   "metadata": {},
   "source": [
    "## The main loop -- MCAR partition"
   ]
  },
  {
   "cell_type": "markdown",
   "metadata": {},
   "source": [
    "#### For each peptide quants dataset, impute with all five methods\n",
    "And record each method's reconstruction error."
   ]
  },
  {
   "cell_type": "code",
   "execution_count": 4,
   "metadata": {},
   "outputs": [
    {
     "name": "stdout",
     "output_type": "stream",
     "text": [
      " \n",
      "working on:  PXD013792\n",
      "mv frac original:  0.724\n",
      "mv frac train:  0.778\n",
      "mv frac validation:  0.921\n"
     ]
    },
    {
     "name": "stderr",
     "output_type": "stream",
     "text": [
      "  3%|▎         | 30/1000 [00:05<03:12,  5.04epoch/s]\n"
     ]
    },
    {
     "name": "stdout",
     "output_type": "stream",
     "text": [
      "early stopping triggered: wilcoxon criteria\n",
      " \n",
      "working on:  PXD014156\n",
      "mv frac original:  0.551\n",
      "mv frac train:  0.657\n",
      "mv frac validation:  0.855\n"
     ]
    },
    {
     "name": "stderr",
     "output_type": "stream",
     "text": [
      "  2%|▏         | 20/1000 [00:03<02:52,  5.68epoch/s]\n"
     ]
    },
    {
     "name": "stdout",
     "output_type": "stream",
     "text": [
      "early stopping triggered: wilcoxon criteria\n",
      " \n",
      "working on:  PXD006348\n",
      "mv frac original:  0.717\n",
      "mv frac train:  0.781\n",
      "mv frac validation:  0.911\n"
     ]
    },
    {
     "name": "stderr",
     "output_type": "stream",
     "text": [
      "  3%|▎         | 30/1000 [00:13<07:09,  2.26epoch/s]"
     ]
    },
    {
     "name": "stdout",
     "output_type": "stream",
     "text": [
      "early stopping triggered: wilcoxon criteria\n"
     ]
    },
    {
     "name": "stderr",
     "output_type": "stream",
     "text": [
      "\n"
     ]
    },
    {
     "name": "stdout",
     "output_type": "stream",
     "text": [
      " \n",
      "working on:  PXD011961\n",
      "mv frac original:  0.461\n",
      "mv frac train:  0.612\n",
      "mv frac validation:  0.834\n"
     ]
    },
    {
     "name": "stderr",
     "output_type": "stream",
     "text": [
      "  3%|▎         | 29/1000 [00:34<19:04,  1.18s/epoch]"
     ]
    },
    {
     "name": "stdout",
     "output_type": "stream",
     "text": [
      "early stopping triggered: standard criteria\n"
     ]
    },
    {
     "name": "stderr",
     "output_type": "stream",
     "text": [
      "\n"
     ]
    },
    {
     "name": "stdout",
     "output_type": "stream",
     "text": [
      " \n",
      "done!\n"
     ]
    }
   ],
   "source": [
    "# init the reconstruction errors df\n",
    "cols = [\"pxd\", \"NMF MSE\", \"KNN MSE\", \n",
    "        \"Sample min MSE\", \"Gaussian sample MSE\"]\n",
    "recon_err_mcar = pd.DataFrame(columns=cols)\n",
    "\n",
    "for pxd in pxds: \n",
    "    print(\" \")\n",
    "    print(\"working on: \", pxd)\n",
    "\n",
    "    # pre-process the peptide quants df\n",
    "    quants_raw = pd.read_csv(full_path + pxd + \"_peptides.csv\")\n",
    "\n",
    "    # convert 0s to NaNs\n",
    "    quants_raw[quants_raw == 0] = np.nan\n",
    "    quants = np.array(quants_raw)\n",
    "    \n",
    "    # MCAR partition \n",
    "    train, val, test = util_functions.split(\n",
    "                                    quants, \n",
    "                                    val_frac=val_frac,\n",
    "                                    test_frac=test_frac, \n",
    "                                    min_present=min_present,\n",
    "                                    random_state=split_rand_state,\n",
    "    )\n",
    "    \n",
    "    # take a look at the MV fractions in the three sets\n",
    "    orig_mv_frac = np.count_nonzero(np.isnan(quants)) / quants.size\n",
    "    train_mv_frac = np.count_nonzero(np.isnan(train)) / train.size\n",
    "    val_mv_frac = np.count_nonzero(np.isnan(val)) / val.size\n",
    "\n",
    "    print(\"mv frac original: \", np.around(orig_mv_frac, decimals=3))\n",
    "    print(\"mv frac train: \", np.around(train_mv_frac, decimals=3))\n",
    "    print(\"mv frac validation: \", np.around(val_mv_frac, decimals=3))\n",
    "    \n",
    "    # impute with each method\n",
    "    nmf_recon = nmf_impute(train, val)\n",
    "    knn_recon = kNN_impute(train)\n",
    "    smin_recon = sample_min_impute(train)\n",
    "    gsample_recon = gaussian_sample_impute(train)\n",
    "    # mf_recon = missForest_impute(train)\n",
    "    \n",
    "    # get reconstruction errors\n",
    "    nmf_val_mse = mse_func(nmf_recon, val)\n",
    "    knn_val_mse = mse_func(knn_recon, val)\n",
    "    smin_val_mse = mse_func(smin_recon, val)\n",
    "    gsample_val_mse = mse_func(gsample_recon, val)\n",
    "    # mf_val_mse = mse_func(mf_recon, val)\n",
    "    \n",
    "    res = {\n",
    "        \"pxd\" : pxd, \n",
    "        \"NMF MSE\" : nmf_val_mse,\n",
    "        \"KNN MSE\" : knn_val_mse,\n",
    "        \"Sample min MSE\" : smin_val_mse,\n",
    "        \"Gaussian sample MSE\" : gsample_val_mse,\n",
    "    }\n",
    "    \n",
    "    recon_err_mcar = recon_err_mcar.append(res, ignore_index=True)\n",
    "    \n",
    "print(\" \")\n",
    "print(\"done!\")"
   ]
  },
  {
   "cell_type": "markdown",
   "metadata": {},
   "source": [
    "***"
   ]
  },
  {
   "cell_type": "markdown",
   "metadata": {},
   "source": [
    "## Plotting"
   ]
  },
  {
   "cell_type": "markdown",
   "metadata": {},
   "source": [
    "#### Massage the reconstruction errors dataframe"
   ]
  },
  {
   "cell_type": "code",
   "execution_count": 5,
   "metadata": {},
   "outputs": [],
   "source": [
    "# switch up the column names\n",
    "recon_err_mcar.columns = [\"PXD\", \"NMF\", \"KNN\", \"Sample Min\", \"Gaussian Sample\"]\n",
    "\n",
    "# melt\n",
    "recon_mcar_melted = recon_err_mcar.melt(id_vars=\"PXD\")\n",
    "recon_mcar_melted.columns = [\"PXD\", \"Method\", \"MSE\"]\n",
    "# recon_mcar_melted\n",
    "\n",
    "# get logged MSE\n",
    "log_mse = np.log(recon_mcar_melted[\"MSE\"])\n",
    "recon_mcar_melted[\"Log MSE\"] = log_mse"
   ]
  },
  {
   "cell_type": "markdown",
   "metadata": {},
   "source": [
    "#### Swarmplot -- Method vs MSE"
   ]
  },
  {
   "cell_type": "code",
   "execution_count": 6,
   "metadata": {
    "scrolled": false
   },
   "outputs": [],
   "source": [
    "# plt.figure(figsize=(5,5))\n",
    "\n",
    "# #sns.swarmplot(data=recon_mcar_melted, x=\"MSE\", y=\"Method\", hue=\"PXD\", size=9.0)\n",
    "# sns.swarmplot(data=recon_mcar_melted, x=\"Log MSE\", y=\"Method\", hue=\"PXD\", size=9.0)\n",
    "\n",
    "# plt.title(\"MCAR\", pad=20)\n",
    "# plt.legend(bbox_to_anchor=(1.0, 1.0))\n",
    "# plt.xlabel(\"log Validation MSE\", labelpad=10)\n",
    "# plt.ylabel(\"\", labelpad=10)"
   ]
  },
  {
   "cell_type": "markdown",
   "metadata": {},
   "source": [
    "#### Swarmplot -- MSE vs Dataset"
   ]
  },
  {
   "cell_type": "code",
   "execution_count": 7,
   "metadata": {
    "scrolled": false
   },
   "outputs": [
    {
     "data": {
      "text/plain": [
       "[Text(0, 0, ''), Text(1, 0, ''), Text(2, 0, ''), Text(3, 0, '')]"
      ]
     },
     "execution_count": 7,
     "metadata": {},
     "output_type": "execute_result"
    },
    {
     "data": {
      "image/png": "[encoded data removed]",
      "text/plain": [
       "<Figure size 360x360 with 1 Axes>"
      ]
     },
     "metadata": {},
     "output_type": "display_data"
    }
   ],
   "source": [
    "plt.figure(figsize=(5,5))\n",
    "\n",
    "#fig = sns.swarmplot(data=recon_mcar_melted, x=\"PXD\", y=\"MSE\", hue=\"Method\", size=9.0)\n",
    "fig = sns.swarmplot(data=recon_mcar_melted, x=\"PXD\", y=\"Log MSE\", hue=\"Method\", size=9.0)\n",
    "\n",
    "plt.legend(bbox_to_anchor=(1.0, 1.0), title=\"Imputation Method\")\n",
    "plt.xlabel(\"Dataset\", labelpad=10)\n",
    "plt.ylabel(\"Validation MSE (log)\", labelpad=10)\n",
    "plt.title(\"MCAR\", pad=20)\n",
    "\n",
    "# hide the xtick labels\n",
    "fig.xaxis.set_ticklabels([])"
   ]
  },
  {
   "cell_type": "markdown",
   "metadata": {},
   "source": [
    "***"
   ]
  },
  {
   "cell_type": "markdown",
   "metadata": {},
   "source": [
    "## Now lets do the same thing for MNAR partition "
   ]
  },
  {
   "cell_type": "code",
   "execution_count": 8,
   "metadata": {},
   "outputs": [
    {
     "name": "stdout",
     "output_type": "stream",
     "text": [
      " \n",
      "working on:  PXD013792\n",
      "mv frac original:  0.724\n",
      "mv frac train:  0.779\n",
      "mv frac validation:  0.916\n"
     ]
    },
    {
     "name": "stderr",
     "output_type": "stream",
     "text": [
      "  2%|▏         | 20/1000 [00:03<02:57,  5.53epoch/s]\n"
     ]
    },
    {
     "name": "stdout",
     "output_type": "stream",
     "text": [
      "early stopping triggered: wilcoxon criteria\n",
      " \n",
      "working on:  PXD014156\n",
      "mv frac original:  0.551\n",
      "mv frac train:  0.652\n",
      "mv frac validation:  0.858\n"
     ]
    },
    {
     "name": "stderr",
     "output_type": "stream",
     "text": [
      "  3%|▎         | 29/1000 [00:04<02:37,  6.15epoch/s]\n"
     ]
    },
    {
     "name": "stdout",
     "output_type": "stream",
     "text": [
      "early stopping triggered: standard criteria\n",
      " \n",
      "working on:  PXD006348\n",
      "mv frac original:  0.717\n",
      "mv frac train:  0.772\n",
      "mv frac validation:  0.913\n"
     ]
    },
    {
     "name": "stderr",
     "output_type": "stream",
     "text": [
      "  3%|▎         | 29/1000 [00:12<07:09,  2.26epoch/s]"
     ]
    },
    {
     "name": "stdout",
     "output_type": "stream",
     "text": [
      "early stopping triggered: wilcoxon criteria\n"
     ]
    },
    {
     "name": "stderr",
     "output_type": "stream",
     "text": [
      "\n"
     ]
    },
    {
     "name": "stdout",
     "output_type": "stream",
     "text": [
      " \n",
      "working on:  PXD011961\n",
      "mv frac original:  0.461\n",
      "mv frac train:  0.617\n",
      "mv frac validation:  0.828\n"
     ]
    },
    {
     "name": "stderr",
     "output_type": "stream",
     "text": [
      "  2%|▎         | 25/1000 [00:29<18:55,  1.16s/epoch]"
     ]
    },
    {
     "name": "stdout",
     "output_type": "stream",
     "text": [
      "early stopping triggered: wilcoxon criteria\n"
     ]
    },
    {
     "name": "stderr",
     "output_type": "stream",
     "text": [
      "\n"
     ]
    },
    {
     "name": "stdout",
     "output_type": "stream",
     "text": [
      " \n",
      "done!\n"
     ]
    }
   ],
   "source": [
    "# init the reconstruction errors df\n",
    "cols = [\"pxd\", \"NMF MSE\", \"KNN MSE\", \n",
    "        \"Sample min MSE\", \"Gaussian sample MSE\"]\n",
    "recon_err_mnar = pd.DataFrame(columns=cols)\n",
    "\n",
    "for pxd in pxds: \n",
    "    print(\" \")\n",
    "    print(\"working on: \", pxd)\n",
    "\n",
    "    # pre-process the peptide quants df\n",
    "    quants_raw = pd.read_csv(full_path + pxd + \"_peptides.csv\")\n",
    "\n",
    "    # convert 0s to NaNs\n",
    "    quants_raw[quants_raw == 0] = np.nan\n",
    "    quants = np.array(quants_raw)\n",
    "    \n",
    "    # MNAR partition \n",
    "    train, val = util_functions.MNAR_partition_thresholds_matrix(\n",
    "                                        quants, \n",
    "                                        q_anchor=q_anchor, \n",
    "                                        t_std=t_std, \n",
    "                                        brnl_prob=brnl_prob, \n",
    "                                        min_pres=min_present,\n",
    "                                        rand_state=split_rand_state,\n",
    "    )\n",
    "    \n",
    "    # take a look at the MV fractions in the three sets\n",
    "    orig_mv_frac = np.count_nonzero(np.isnan(quants)) / quants.size\n",
    "    train_mv_frac = np.count_nonzero(np.isnan(train)) / train.size\n",
    "    val_mv_frac = np.count_nonzero(np.isnan(val)) / val.size\n",
    "\n",
    "    print(\"mv frac original: \", np.around(orig_mv_frac, decimals=3))\n",
    "    print(\"mv frac train: \", np.around(train_mv_frac, decimals=3))\n",
    "    print(\"mv frac validation: \", np.around(val_mv_frac, decimals=3))\n",
    "    \n",
    "    # impute with each method\n",
    "    nmf_recon = nmf_impute(train, val)\n",
    "    knn_recon = kNN_impute(train)\n",
    "    smin_recon = sample_min_impute(train)\n",
    "    gsample_recon = gaussian_sample_impute(train)\n",
    "    # mf_recon = missForest_impute(train)\n",
    "    \n",
    "    # get reconstruction errors\n",
    "    nmf_val_mse = mse_func(nmf_recon, val)\n",
    "    knn_val_mse = mse_func(knn_recon, val)\n",
    "    smin_val_mse = mse_func(smin_recon, val)\n",
    "    gsample_val_mse = mse_func(gsample_recon, val)\n",
    "    # mf_val_mse = mse_func(mf_recon, val) # todo: fix this\n",
    "    \n",
    "    res = {\n",
    "        \"pxd\" : pxd, \n",
    "        \"NMF MSE\" : nmf_val_mse,\n",
    "        \"KNN MSE\" : knn_val_mse,\n",
    "        \"Sample min MSE\" : smin_val_mse,\n",
    "        \"Gaussian sample MSE\" : gsample_val_mse,\n",
    "    }\n",
    "    \n",
    "    recon_err_mnar = recon_err_mnar.append(res, ignore_index=True)\n",
    "    \n",
    "print(\" \")\n",
    "print(\"done!\")"
   ]
  },
  {
   "cell_type": "markdown",
   "metadata": {},
   "source": [
    "#### Massage the recon errors dataframe"
   ]
  },
  {
   "cell_type": "code",
   "execution_count": 9,
   "metadata": {},
   "outputs": [],
   "source": [
    "# switch up the column names\n",
    "recon_err_mnar.columns = [\"PXD\", \"NMF\", \"KNN\", \"Sample Min\", \"Gaussian Sample\"]\n",
    "\n",
    "# melt\n",
    "recon_mnar_melted = recon_err_mnar.melt(id_vars=\"PXD\")\n",
    "recon_mnar_melted.columns = [\"PXD\", \"Method\", \"MSE\"]\n",
    "# recon_mnar_melted\n",
    "\n",
    "# get logged MSE\n",
    "log_mse = np.log(recon_mnar_melted[\"MSE\"])\n",
    "recon_mnar_melted[\"Log MSE\"] = log_mse"
   ]
  },
  {
   "cell_type": "markdown",
   "metadata": {},
   "source": [
    "#### Plot"
   ]
  },
  {
   "cell_type": "code",
   "execution_count": 10,
   "metadata": {},
   "outputs": [
    {
     "data": {
      "text/plain": [
       "[Text(0, 0, ''), Text(1, 0, ''), Text(2, 0, ''), Text(3, 0, '')]"
      ]
     },
     "execution_count": 10,
     "metadata": {},
     "output_type": "execute_result"
    },
    {
     "data": {
      "image/png": "[encoded data removed]",
      "text/plain": [
       "<Figure size 360x360 with 1 Axes>"
      ]
     },
     "metadata": {},
     "output_type": "display_data"
    }
   ],
   "source": [
    "plt.figure(figsize=(5,5))\n",
    "\n",
    "#fig = sns.swarmplot(data=recon_mcar_melted, x=\"PXD\", y=\"MSE\", hue=\"Method\", size=9.0)\n",
    "fig = sns.swarmplot(data=recon_mnar_melted, x=\"PXD\", y=\"Log MSE\", hue=\"Method\", size=9.0)\n",
    "\n",
    "plt.legend(bbox_to_anchor=(1.0, 1.0), title=\"Imputation Method\")\n",
    "plt.xlabel(\"Dataset\", labelpad=10)\n",
    "plt.ylabel(\"Validation MSE (log)\", labelpad=10)\n",
    "plt.title(\"MNAR\", pad=20)\n",
    "\n",
    "# hide the xtick labels\n",
    "fig.xaxis.set_ticklabels([])"
   ]
  },
  {
   "cell_type": "markdown",
   "metadata": {},
   "source": [
    "***"
   ]
  },
  {
   "cell_type": "markdown",
   "metadata": {},
   "source": [
    "## Can we plot MCAR and MNAR side-by-side?"
   ]
  },
  {
   "cell_type": "code",
   "execution_count": 11,
   "metadata": {
    "scrolled": true
   },
   "outputs": [
    {
     "data": {
      "image/png": "[encoded data removed]",
      "text/plain": [
       "<Figure size 864x360 with 2 Axes>"
      ]
     },
     "metadata": {},
     "output_type": "display_data"
    }
   ],
   "source": [
    "fig, axes = plt.subplots(nrows=1, ncols=2, sharey=True, figsize=(12,5))\n",
    "\n",
    "sns.swarmplot(data=recon_mcar_melted, x=\"PXD\", y=\"Log MSE\", hue=\"Method\", size=9.0, ax=axes[0])\n",
    "axes[0].xaxis.set_ticklabels([])\n",
    "axes[0].set_title(\"MCAR\", pad=20, size=27)\n",
    "axes[0].get_legend().remove()\n",
    "axes[0].set_xlabel(\"Dataset\", labelpad=10)\n",
    "axes[0].set_ylabel(\"Validation MSE (log)\", labelpad=10)\n",
    "\n",
    "sns.swarmplot(data=recon_mnar_melted, x=\"PXD\", y=\"Log MSE\", hue=\"Method\", size=9.0, ax=axes[1])\n",
    "axes[1].xaxis.set_ticklabels([])\n",
    "axes[1].set_title(\"MNAR\", pad=20, size=27)\n",
    "axes[1].legend(bbox_to_anchor=(1.0, 1.0), title=\"Imputation Method\")\n",
    "axes[1].set_xlabel(\"Dataset\", labelpad=10)\n",
    "axes[1].set_ylabel(\"\", labelpad=10)\n",
    "\n",
    "fig.tight_layout()\n",
    "plt.savefig(\"swarm-mcar-and-mnar.png\", dpi=250, bbox_inches=\"tight\")"
   ]
  },
  {
   "cell_type": "markdown",
   "metadata": {},
   "source": [
    "***"
   ]
  },
  {
   "cell_type": "markdown",
   "metadata": {},
   "source": [
    "## Try a grouped barplot"
   ]
  },
  {
   "cell_type": "markdown",
   "metadata": {},
   "source": [
    "#### For MCAR only"
   ]
  },
  {
   "cell_type": "code",
   "execution_count": 33,
   "metadata": {
    "scrolled": true
   },
   "outputs": [
    {
     "data": {
      "text/plain": [
       "[[Text(0, 0, ''), Text(1, 0, ''), Text(2, 0, ''), Text(3, 0, '')]]"
      ]
     },
     "execution_count": 33,
     "metadata": {},
     "output_type": "execute_result"
    },
    {
     "data": {
      "image/png": "[encoded data removed]",
      "text/plain": [
       "<Figure size 360x360 with 1 Axes>"
      ]
     },
     "metadata": {},
     "output_type": "display_data"
    }
   ],
   "source": [
    "plt.figure(figsize=(5,5))\n",
    "\n",
    "fig = sns.barplot(\n",
    "    data=recon_mcar_melted,\n",
    "    x=\"PXD\",\n",
    "    y=\"Log MSE\",\n",
    "    hue=\"Method\"\n",
    ")\n",
    "\n",
    "#plt.legend(bbox_to_anchor=(1.0, 1.0), title=\"Imputation Method\")\n",
    "plt.xlabel(\"Dataset\", labelpad=10)\n",
    "plt.ylabel(\"Validation MSE (log)\", labelpad=10)\n",
    "plt.title(\"MNAR\", pad=20)\n",
    "\n",
    "fig.set(xticklabels=[])"
   ]
  },
  {
   "cell_type": "markdown",
   "metadata": {},
   "source": [
    "#### For both MCAR and MNAR"
   ]
  },
  {
   "cell_type": "code",
   "execution_count": 37,
   "metadata": {},
   "outputs": [
    {
     "data": {
      "image/png": "[encoded data removed]",
      "text/plain": [
       "<Figure size 864x360 with 2 Axes>"
      ]
     },
     "metadata": {},
     "output_type": "display_data"
    }
   ],
   "source": [
    "fig, axes = plt.subplots(nrows=1, ncols=2, sharey=True, figsize=(12,5))\n",
    "\n",
    "sns.barplot(\n",
    "    data=recon_mcar_melted,\n",
    "    x=\"PXD\",\n",
    "    y=\"Log MSE\",\n",
    "    hue=\"Method\",\n",
    "    ax=axes[0]\n",
    ")\n",
    "axes[0].set_xlabel(\"Dataset\", labelpad=10)\n",
    "axes[0].set_ylabel(\"Validation MSE (log)\", labelpad=10)\n",
    "axes[0].set_title(\"MCAR\", pad=20, size=27)\n",
    "axes[0].set(xticklabels=[])\n",
    "axes[0].get_legend().remove()\n",
    "\n",
    "sns.barplot(\n",
    "    data=recon_mnar_melted,\n",
    "    x=\"PXD\",\n",
    "    y=\"Log MSE\",\n",
    "    hue=\"Method\",\n",
    "    ax=axes[1]\n",
    ")\n",
    "axes[1].set_xlabel(\"Dataset\", labelpad=10)\n",
    "axes[1].set_ylabel(\"Validation MSE (log)\", labelpad=10)\n",
    "axes[1].set_title(\"MNAR\", pad=20, size=27)\n",
    "axes[1].set(xticklabels=[])\n",
    "axes[1].legend(bbox_to_anchor=(1.0, 1.0), title=\"Imputation Method\")\n",
    "\n",
    "fig.tight_layout()"
   ]
  }
 ],
 "metadata": {
  "kernelspec": {
   "display_name": "ms-impute-trim",
   "language": "python",
   "name": "ms-impute-trim"
  },
  "language_info": {
   "codemirror_mode": {
    "name": "ipython",
    "version": 3
   },
   "file_extension": ".py",
   "mimetype": "text/x-python",
   "name": "python",
   "nbconvert_exporter": "python",
   "pygments_lexer": "ipython3",
   "version": "3.7.12"
  }
 },
 "nbformat": 4,
 "nbformat_minor": 4
}
